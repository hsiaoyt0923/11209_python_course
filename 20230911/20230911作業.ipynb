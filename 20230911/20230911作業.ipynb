{
 "cells": [
  {
   "cell_type": "markdown",
   "metadata": {},
   "source": [
    "# python基礎與資料輸出"
   ]
  },
  {
   "cell_type": "code",
   "execution_count": null,
   "metadata": {},
   "outputs": [],
   "source": [
    "#python純值\n",
    "'Hello Python'\n",
    "10\n",
    "10.0\n",
    "True"
   ]
  },
  {
   "cell_type": "code",
   "execution_count": null,
   "metadata": {},
   "outputs": [],
   "source": [
    "#print()\n",
    "print('Hello! World!')\n",
    "print('10')\n",
    "print('10.0')\n",
    "print('True')"
   ]
  },
  {
   "cell_type": "code",
   "execution_count": null,
   "metadata": {},
   "outputs": [],
   "source": [
    "#整數運算\n",
    "print(5 + 8)\n",
    "print(15 - 5)\n",
    "print(9 * 9)\n",
    "print(7 / 2)\n",
    "print(7 // 2)\n",
    "print(7 % 2)\n",
    "print(17**20)"
   ]
  },
  {
   "cell_type": "code",
   "execution_count": null,
   "metadata": {},
   "outputs": [],
   "source": [
    "#浮點數和整數運算\n",
    "print(8.0 + 7)\n",
    "print(8.0 + 7 + 2)\n",
    "print(3.5 + 4.5*2)\n",
    "print(2*(1 + 2)**4 - 2**3*3)"
   ]
  },
  {
   "cell_type": "code",
   "execution_count": null,
   "metadata": {},
   "outputs": [],
   "source": [
    "#字串的加法運算，字串要以''框起來\n",
    "'abc' + 'efg'"
   ]
  },
  {
   "cell_type": "code",
   "execution_count": null,
   "metadata": {},
   "outputs": [],
   "source": [
    "'abcdefg' - 'abc'\n",
    "#字串間無法作減法運算"
   ]
  },
  {
   "cell_type": "code",
   "execution_count": null,
   "metadata": {},
   "outputs": [],
   "source": [
    "5.0 + 'hello'\n",
    "# 數值 + 字串 ->錯誤"
   ]
  },
  {
   "cell_type": "code",
   "execution_count": null,
   "metadata": {},
   "outputs": [],
   "source": [
    "#str() ->轉為字串\n",
    "'zxcv' + str(13)"
   ]
  },
  {
   "cell_type": "code",
   "execution_count": null,
   "metadata": {},
   "outputs": [],
   "source": [
    "#int ->轉為整數(無條件捨去)\n",
    "print(int(5.9) + 5.9)\n",
    "print(int(3.2) + int(9.9))"
   ]
  },
  {
   "cell_type": "code",
   "execution_count": null,
   "metadata": {},
   "outputs": [],
   "source": [
    "#float() ->轉為浮點數\n",
    "float(5) + float(21.7)"
   ]
  },
  {
   "cell_type": "markdown",
   "metadata": {},
   "source": [
    "1. 關於變數宣告:  \n",
    "    - 其他程式語言的變數需要先進行宣告，告訴作業系統它的名稱與它的型態。  \n",
    "    - Python 變數不需要經過宣告就可以使用。  \n",
    "2. 變數必須透過 = 給值後才可以使用，= 代表**右邊資料交給左邊**。  \n",
    "    - 變數名稱 = 變數內容  \n",
    "    - 例如建立一個名為 openedx 的變數，內容為 100: opexdx=100\n",
    "3. 程式執行時需要儲存，**這個儲存的對象就是變數**，這是我們自己定義 的名稱。  \n",
    "4. 變數有**整數、浮點數、字串與布林**這四種，**整數與浮點數是不同喔**!  \n",
    "5. Python 的變數為何沒有型態的限制?Python 的變數其實也是物件的一種，只是這些物件就跟其他程式語言一樣只操作指定型態的資料。  \n",
    "6. 可以在同一列中指定多個變數，變數之間以「,」分隔，而內容之間 也以「,」分隔。  \n",
    "7. 例如建立變數 Taiwan 內容為台灣，years 內容為 2018\n",
    "```Taiwan, 2023 = '台灣', 2018```\n",
    "8. 如果不使用變數可以選擇以 del 語法將變數刪除以節省記憶體。例如刪除 years 變數，那操作方式為:  \n",
    "```del years```"
   ]
  },
  {
   "cell_type": "code",
   "execution_count": null,
   "metadata": {},
   "outputs": [],
   "source": [
    "Taiwan, years = '台灣', 2023\n",
    "Taiwan, years\n",
    "del years"
   ]
  },
  {
   "cell_type": "markdown",
   "metadata": {},
   "source": [
    "## 變數命名的規則\n",
    "- 開頭第一個字**不能**是數字。\n",
    "- 可使用大小寫字母或「_」。\n",
    "- 不可與內建保留字 (右邊表格所列) 同名。\n",
    "- Python 3 可以使用中文名稱。\n",
    "- 大小寫視為不同的變數。\n",
    "- **不可以出現特殊字元或空白**。"
   ]
  },
  {
   "cell_type": "markdown",
   "metadata": {},
   "source": [
    "Answers:  \n",
    "(1)  \n",
    "(1)(3)(4)  \n",
    "(4)  "
   ]
  },
  {
   "cell_type": "markdown",
   "metadata": {},
   "source": [
    "## 關於註解\n",
    "- 註解就是程式的說明文字\n",
    "- 單行註解，可於程式碼中加入「#」作為單行註解，於「#」之後的該行語法都不會執行。\n",
    "- pcschool=100 #pcschool 儲存 100 這個內容\n",
    "- 多行註解，可於註解區塊前後加上三個單引號或三個雙引號方式。"
   ]
  },
  {
   "cell_type": "markdown",
   "metadata": {},
   "source": [
    "## 變數給值與輸出\n",
    "- 如何給值?\n",
    "    - 請使用「=」這個符號，「=」代表右邊丟給左邊，而左邊得接受這個資料。\n",
    "- 在建立變數之前，也就是給變數內容之前，嘗試存取某個變數會發生變 數未定義的錯誤。\n",
    "- print 代表資料輸出，也是存取內容的動作，基本語法為 print(變數) 或者 print(內容)。\n",
    "- **內容會被雙引號或者單引號包夾起來。**"
   ]
  },
  {
   "cell_type": "code",
   "execution_count": null,
   "metadata": {},
   "outputs": [],
   "source": [
    "#多個參數\n",
    "a = 100\n",
    "print('a=', a) #('字串', 變數)\n",
    "b = 50\n",
    "print('b=', b) #('字串', 變數)"
   ]
  },
  {
   "cell_type": "code",
   "execution_count": null,
   "metadata": {},
   "outputs": [],
   "source": [
    "x = 50\n",
    "x = \"test\"\n",
    "print(x)\n",
    "print(type(x))\n",
    "print(id(x))"
   ]
  },
  {
   "cell_type": "markdown",
   "metadata": {},
   "source": [
    "Answers:  \n",
    "(2)  \n",
    "(3)  \n",
    "(1)  \n",
    "(2)"
   ]
  },
  {
   "cell_type": "markdown",
   "metadata": {},
   "source": [
    "## Python內建資料型別  \n",
    "- Python 的變數並沒有設定固定型態。  \n",
    "- 變數型態有**整數、浮點數、布林值、字串**。\n",
    "- *字串 str，可用單引號或雙引號包起來。*  \n",
    "    - integers(42 and 1500)  \n",
    "    - floats(3.1415926)  \n",
    "    - string  \n",
    "    - boolean(True or False)"
   ]
  },
  {
   "cell_type": "markdown",
   "metadata": {},
   "source": [
    "## 資料型態  \n",
    "- 如何知道變數的資料型態?\n",
    "    - 可使用 type( ) 指令顯示。  \n",
    "- 變數內容變更後會儲存於不同的記憶體位址。那要如何查詢位址呢?  \n",
    "    - 可使用 id( ) 指令顯示。"
   ]
  },
  {
   "cell_type": "code",
   "execution_count": null,
   "metadata": {},
   "outputs": [],
   "source": [
    "a = 100\n",
    "print(type(a))"
   ]
  },
  {
   "cell_type": "code",
   "execution_count": null,
   "metadata": {},
   "outputs": [],
   "source": [
    "a = 100.5\n",
    "print(type(a))"
   ]
  },
  {
   "cell_type": "code",
   "execution_count": null,
   "metadata": {},
   "outputs": [],
   "source": [
    "a = \"Hello\"\n",
    "print(type(a))"
   ]
  },
  {
   "cell_type": "code",
   "execution_count": null,
   "metadata": {},
   "outputs": [],
   "source": [
    "a = True\n",
    "print(type(a))"
   ]
  },
  {
   "cell_type": "code",
   "execution_count": null,
   "metadata": {},
   "outputs": [],
   "source": [
    "a = 12\n",
    "print(a)\n",
    "b = a\n",
    "print(b)\n",
    "print(type(a))\n",
    "print(type(b))"
   ]
  },
  {
   "cell_type": "code",
   "execution_count": null,
   "metadata": {},
   "outputs": [],
   "source": [
    "var1 = 10\n",
    "print(type(var1))\n",
    "var2 = 123.45\n",
    "print(type(var2))\n",
    "var3 = True\n",
    "print(type(var3))\n",
    "var4 = 'string1'\n",
    "print(type(var4)) "
   ]
  },
  {
   "cell_type": "code",
   "execution_count": null,
   "metadata": {},
   "outputs": [],
   "source": [
    "a = 8\n",
    "print(id(a))\n",
    "a = 20\n",
    "print(id(a))"
   ]
  },
  {
   "cell_type": "code",
   "execution_count": null,
   "metadata": {},
   "outputs": [],
   "source": [
    "a = 5.5\n",
    "print(id(a))\n",
    "a = 20.4\n",
    "print(id(a))"
   ]
  },
  {
   "cell_type": "markdown",
   "metadata": {},
   "source": [
    "Answer:\n",
    "(2)"
   ]
  },
  {
   "cell_type": "markdown",
   "metadata": {},
   "source": [
    "## 新的語法\n",
    "字串.fomat(變數, 變數...)"
   ]
  },
  {
   "cell_type": "code",
   "execution_count": null,
   "metadata": {},
   "outputs": [],
   "source": [
    "#不指定位置，依序輸出\n",
    "print('{} {} {}'.format('A', 'B', 'C'))\n",
    "#用數字指定位置(從0開始)\n",
    "print('{2} {0} {1}'.format('A', 'B', 'C'))\n",
    "#用名稱指定位置\n",
    "print('{c} {b} {a}'.format(a='A', b='B', c='C'))"
   ]
  },
  {
   "cell_type": "markdown",
   "metadata": {},
   "source": [
    "## 數值格式化及對齊  \n",
    "格式化的方式是在後方加上\":\"及\"格式符\"，可用的格式符如下  \n",
    "{:d}        : 整數  \n",
    "{:f}        : 浮點數  \n",
    "{:e} {:E}   : 科學記號，例如 1.020000e+01，大小寫就代表 \"e\" 顯示的大小寫  \n",
    "{:x} {:X}   : 十六進位，大小寫分別表示 A ~ F 要顯示的大小寫  \n",
    "{:o}        : 八進位  \n",
    "{:b}        : 二進位  \n",
    "{:%}        : 以百分比的方式輸出  "
   ]
  },
  {
   "cell_type": "markdown",
   "metadata": {},
   "source": [
    "另外可以使用 > ^ < 這三種符號以及數值來搭配佔位及對齊。注意: **數值型別預設是靠右對齊，字串型別預設是靠左對齊** \n",
    "{:>8d}      : 整數靠右對齊，寬度為 8  \n",
    "{:^8d}      : 整數置中對齊，寬度為 8  \n",
    "{:<8d}      : 整數靠左對齊，寬度為 8  \n",
    "{:8.3f}     : 小數點後保留 3 位，總寬度為 8 (含小數點)  \n",
    "{:+8.3f}    : 小數點後保留 3 位，帶正負號，總寬度為 8 (含小數點及正負號)  "
   ]
  },
  {
   "cell_type": "code",
   "execution_count": 275,
   "metadata": {},
   "outputs": [
    {
     "name": "stdout",
     "output_type": "stream",
     "text": [
      "| 12.00|\n"
     ]
    }
   ],
   "source": [
    "print('|{:6.2f}|'.format(12)) #整數可以用{:f}，浮點數不可用{:d}"
   ]
  },
  {
   "cell_type": "code",
   "execution_count": null,
   "metadata": {},
   "outputs": [],
   "source": [
    "'example:%.2f' % 19.234"
   ]
  },
  {
   "cell_type": "code",
   "execution_count": null,
   "metadata": {},
   "outputs": [],
   "source": [
    "print('|{1:8d}||{0:<8d}|'.format(123, 456))"
   ]
  },
  {
   "cell_type": "code",
   "execution_count": null,
   "metadata": {},
   "outputs": [],
   "source": [
    "print('|{:+8.2f}|'.format(3.1415926))"
   ]
  },
  {
   "cell_type": "code",
   "execution_count": null,
   "metadata": {},
   "outputs": [],
   "source": [
    "print('|{:8.2%}|'.format(0.8))"
   ]
  },
  {
   "cell_type": "code",
   "execution_count": null,
   "metadata": {},
   "outputs": [],
   "source": [
    "text = 'world'\n",
    "print(f'Hello {text}')"
   ]
  },
  {
   "cell_type": "code",
   "execution_count": null,
   "metadata": {},
   "outputs": [],
   "source": [
    "x = 10\n",
    "y = 27\n",
    "print(f'x + y = {x + y}') "
   ]
  },
  {
   "cell_type": "code",
   "execution_count": null,
   "metadata": {},
   "outputs": [],
   "source": [
    "def hello(text, name):\n",
    "    return f'hello {text}, hello {name}'\n",
    "text = 'HSIAO'\n",
    "name = 'EDDIE'\n",
    "hello(text, name)"
   ]
  },
  {
   "cell_type": "markdown",
   "metadata": {},
   "source": [
    "# 數值計算與資料輸入  \n",
    "## python數學運算子  \n",
    "運算子\t描述\t範例  \n",
    "+\t加法\t5+8  \n",
    "-\t減法\t90-10  \n",
    "*\t乘法\t4*7  \n",
    "/\t浮點數除法\t7 / 2  \n",
    "//\t整數除法\t7 // 2  \n",
    "%\t餘數\t7 % 3  \n",
    "**\t次方\t3 ** 4  \n",
    "## 2,8,16進位\n",
    "表示\t進位  \n",
    "0b 0B\t2進位  \n",
    "0o 0O\t8進位  \n",
    "0x 0X\t16進位  \n",
    "## 數學運算子優先順序  \n",
    "優先順序由上而下  \n",
    "()  \n",
    "**  \n",
    "正負  \n",
    "* / % //  \n",
    "+ -  \n",
    "=  "
   ]
  },
  {
   "cell_type": "code",
   "execution_count": null,
   "metadata": {},
   "outputs": [],
   "source": [
    "print(0b010001)\n",
    "print(0o11)\n",
    "print(0xAB)\n",
    "print(int(True))\n",
    "print(int(False))\n",
    "print(int(123.456))\n",
    "print(int(1.04))"
   ]
  },
  {
   "cell_type": "code",
   "execution_count": null,
   "metadata": {},
   "outputs": [],
   "source": [
    "#使用\\接續字串\n",
    "Var1= \"Apple Arcade 推出的最新遊戲《Next Stop Nowhere》，\\\n",
    "由位於洛杉磯的開發商 Night School Studio 出品。\\\n",
    "這款遊戲是太空公路之旅的夥伴冒險，其中不同角色間展開了一些精彩的劇情。\\\n",
    "在銀河系的外圍，每個人和所有事物之間都有充分的空間，Night School\\\n",
    "希望這款遊戲可為近來可能感到孤立的玩家提供一些慰藉。\"\n",
    "print(Var1)"
   ]
  },
  {
   "cell_type": "code",
   "execution_count": null,
   "metadata": {},
   "outputs": [],
   "source": [
    "#使用''' '''設定段落為變數\n",
    "Var2= '''Apple Arcade 推出的最新遊戲《Next Stop Nowhere》，\n",
    "由位於洛杉磯的開發商 Night School Studio 出品。\n",
    "這款遊戲是太空公路之旅的夥伴冒險，其中不同角色間展開了一些精彩的劇情。\n",
    "在銀河系的外圍，每個人和所有事物之間都有充分的空間，Night School\n",
    "希望這款遊戲可為近來可能感到孤立的玩家提供一些慰藉。'''\n",
    "print(Var2)"
   ]
  },
  {
   "cell_type": "code",
   "execution_count": null,
   "metadata": {},
   "outputs": [],
   "source": [
    "''\n",
    "\"\"\n",
    "''''''\n",
    "\"\"\"\"\"\""
   ]
  },
  {
   "cell_type": "code",
   "execution_count": null,
   "metadata": {},
   "outputs": [],
   "source": [
    "alphabet = ''\n",
    "alphabet += 'abcdefg'\n",
    "alphabet += 'hijklmnop'\n",
    "alphabet += 'qrstuv'\n",
    "alphabet += 'wxyz'\n",
    "print(alphabet)"
   ]
  },
  {
   "cell_type": "code",
   "execution_count": null,
   "metadata": {},
   "outputs": [],
   "source": [
    "alphabet = 'abcdefg' + \\\n",
    "'hijklmnop' + \\\n",
    "'stuvwxyz'\n",
    "print(alphabet)"
   ]
  },
  {
   "cell_type": "code",
   "execution_count": null,
   "metadata": {},
   "outputs": [],
   "source": [
    "#字串使用加法運算  \n",
    "#字串無法自動加數值  \n",
    "bottles = 99\n",
    "base = ''\n",
    "base = base + 'current inventory:'\n",
    "base = base + str(bottles)\n",
    "base"
   ]
  },
  {
   "cell_type": "code",
   "execution_count": null,
   "metadata": {},
   "outputs": [],
   "source": [
    "games = '遊戲：《鬼靈精大腳怪》\\n說明：今天的遊戲更新為玩家開啟了一個全新的探索環境。從城鎮下方的新碼頭出發，乘渡輪前往新的小島，然後乘坐四輪驅動車四處巡遊，或者在衝浪遊戲中盡情衝浪。玩家還可以購買新船進行升級與比賽，或是出海捕捉鹹水魚。這是調皮大腳怪的暑假！\\n\\n遊戲：《迷你公路》\\n說明：《迷你公路》推出了一項新更新，以透過 Fast Forward 模式協助加快道路網絡的建立，使玩家能選擇其遊戲速度。'\n",
    "print(games)"
   ]
  },
  {
   "cell_type": "code",
   "execution_count": null,
   "metadata": {},
   "outputs": [],
   "source": [
    "print('\\tabc')\n",
    "print('a\\tbc')\n",
    "print('ab\\tc')\n",
    "print('abc\\t')"
   ]
  },
  {
   "cell_type": "markdown",
   "metadata": {},
   "source": [
    "#脫溢字元(特殊字元)  \n",
    "- 反斜線作為跳脫字元，可用於引用特殊字元。  \n",
    "\t- \\\\ 反斜線  \n",
    "\t- \\’ 單引號  \n",
    "\t- \\” 雙引號  \n",
    "\t- \\n 換行  \n",
    "\t- \\t 固定間隔  "
   ]
  },
  {
   "cell_type": "code",
   "execution_count": null,
   "metadata": {},
   "outputs": [],
   "source": [
    "testimony = \"\\\"I did nothing!\\\" he said. \\\"Not that either! Or the other thing.\\\"\"\n",
    "print(testimony)"
   ]
  },
  {
   "cell_type": "code",
   "execution_count": 1,
   "metadata": {},
   "outputs": [
    {
     "name": "stdout",
     "output_type": "stream",
     "text": [
      "The world's largest rubber duck was 54'2\" by 65'7\" by 105'\n"
     ]
    }
   ],
   "source": [
    "fact = \"The world's largest rubber duck was 54'2\\\" by 65'7\\\" by 105'\"\n",
    "print(fact)"
   ]
  },
  {
   "cell_type": "code",
   "execution_count": 2,
   "metadata": {},
   "outputs": [
    {
     "name": "stdout",
     "output_type": "stream",
     "text": [
      "Today we honor our friend, the backslash: \\.\n"
     ]
    }
   ],
   "source": [
    "speech = 'Today we honor our friend, the backslash: \\\\.' \n",
    "print(speech)"
   ]
  },
  {
   "cell_type": "code",
   "execution_count": null,
   "metadata": {},
   "outputs": [],
   "source": [
    "a = 'Duck.'\n",
    "b = 'Grey Duck.'\n",
    "a + a + b\n",
    "print(a, a, b)"
   ]
  },
  {
   "cell_type": "markdown",
   "metadata": {},
   "source": [
    "# 資料輸入  \n",
    "- input 代表資料輸入  \n",
    "- 輸入資料後可利用*變數 .__class__*方式查詢變數的資料型態。  \n",
    "- **預設輸入的資料型態為字串**  \n",
    "    - 若是整數資料您必須加入 int( ) 轉換。  \n",
    "        - 如果輸入浮點數或者字串都會產生錯誤訊息。  \n",
    "    - 若是浮點數小數資料您必須加入 float( ) 轉換。  \n",
    "        - 如果輸入整數會當作浮點數處理，輸入字串會產生錯誤訊息。  "
   ]
  },
  {
   "cell_type": "code",
   "execution_count": null,
   "metadata": {},
   "outputs": [],
   "source": [
    "a = input(\"輸入整數1a: \") \n",
    "b = input(\"輸入整數1b: \") \n",
    "f = a + b\n",
    "print(f)"
   ]
  },
  {
   "cell_type": "code",
   "execution_count": null,
   "metadata": {},
   "outputs": [],
   "source": [
    "c = int(input(\"int輸入c:\")) \n",
    "d = int(input(\"int輸入d:\")) \n",
    "g = c + d \n",
    "print(g)"
   ]
  },
  {
   "cell_type": "code",
   "execution_count": null,
   "metadata": {},
   "outputs": [],
   "source": [
    "h = float(input(\"float輸入h:\"))\n",
    "i = float(input(\"float輸入i:\"))\n",
    "j=h+d\n",
    "print(j)"
   ]
  },
  {
   "cell_type": "code",
   "execution_count": 4,
   "metadata": {},
   "outputs": [
    {
     "name": "stdout",
     "output_type": "stream",
     "text": [
      "123 <class 'str'>\n"
     ]
    }
   ],
   "source": [
    "a = input(\"輸入字串: \")\n",
    "print(a,a.__class__)"
   ]
  },
  {
   "cell_type": "markdown",
   "metadata": {},
   "source": [
    "Answers:  \n",
    "(3)"
   ]
  },
  {
   "cell_type": "code",
   "execution_count": 262,
   "metadata": {},
   "outputs": [
    {
     "name": "stdout",
     "output_type": "stream",
     "text": [
      "2016\n",
      "abc!abc!\n"
     ]
    }
   ],
   "source": [
    "a,b,c=\"pcschool\",2016,3.41\n",
    "print(b)\n",
    "test=(\"abc\"+\"!\")*2\n",
    "print(test)"
   ]
  },
  {
   "cell_type": "code",
   "execution_count": null,
   "metadata": {},
   "outputs": [],
   "source": [
    "x=5\n",
    "y=7 \n",
    "z=x+y+1\n",
    "print(z)"
   ]
  },
  {
   "cell_type": "code",
   "execution_count": null,
   "metadata": {},
   "outputs": [],
   "source": [
    "a,b,c=4,2,5\n",
    "d,f=3.25,5.5\n",
    "print (a*b)  #4*2\n",
    "print (a**b) #4**2 \n",
    "print (a % 3)#4%3 \n",
    "print (d + f)#3.25+5.5 \n",
    "print (c//b) \n",
    "print (a/b)"
   ]
  },
  {
   "cell_type": "code",
   "execution_count": null,
   "metadata": {},
   "outputs": [],
   "source": [
    "g,h=9,3\n",
    "print(g/h)"
   ]
  },
  {
   "cell_type": "code",
   "execution_count": 17,
   "metadata": {},
   "outputs": [
    {
     "name": "stdout",
     "output_type": "stream",
     "text": [
      "商: 3 餘數: 3\n"
     ]
    }
   ],
   "source": [
    "#Homework(mathop.py):\n",
    "被除數 = int(input(\"整數\"))\n",
    "除數 = int(input('整數不可為0'))\n",
    "n = 被除數 // 除數\n",
    "m = 被除數 % 除數\n",
    "print('商:', n, '餘數:', m)"
   ]
  },
  {
   "cell_type": "code",
   "execution_count": 6,
   "metadata": {},
   "outputs": [
    {
     "name": "stdout",
     "output_type": "stream",
     "text": [
      "兩個數的和是 12.2\n"
     ]
    }
   ],
   "source": [
    "#Homework(plus_s.py):\n",
    "a = float(input(\"請輸入第一個數值:\"))\n",
    "b = float(input(\"請輸入第二個數值:\"))\n",
    "print(\"兩個數的和是\", a + b)"
   ]
  },
  {
   "cell_type": "code",
   "execution_count": 1,
   "metadata": {},
   "outputs": [
    {
     "name": "stdout",
     "output_type": "stream",
     "text": [
      "此數的平方是: 4.0\n",
      "此數的立方是: 8.0\n"
     ]
    }
   ],
   "source": [
    "#Homework(complex.py):\n",
    "a = float(input('請輸入任意數:'))\n",
    "print('此數的平方是:', a**2)\n",
    "print('此數的立方是:', a**3)"
   ]
  },
  {
   "cell_type": "code",
   "execution_count": 12,
   "metadata": {},
   "outputs": [
    {
     "name": "stdout",
     "output_type": "stream",
     "text": [
      "三個數的總和為: 7.199999999999999\n"
     ]
    }
   ],
   "source": [
    "#Homework(complex_s.py):\n",
    "sum = 0\n",
    "x = float(input('請輸入第一個數:'))\n",
    "sum += x  \n",
    "x = float(input('請輸入第二個數:'))\n",
    "sum += x\n",
    "x = float(input('請輸入第三個數:'))\n",
    "sum += x\n",
    "print('三個數的總和為:',sum)"
   ]
  },
  {
   "cell_type": "code",
   "execution_count": 2,
   "metadata": {},
   "outputs": [
    {
     "name": "stdout",
     "output_type": "stream",
     "text": [
      "梯形的面積為55.0平方公分\n"
     ]
    }
   ],
   "source": [
    "#Homework(ladder.py):\n",
    "上底 = float(input('請輸入梯形的上底(公分):'))\n",
    "下底 = float(input('請輸入梯形的下底(公分):'))\n",
    "高 = float(input('請輸入梯形的高(公分):'))\n",
    "面積 = (上底 + 下底)*高/2\n",
    "print(f'梯形的面積為{面積}平方公分')"
   ]
  },
  {
   "cell_type": "code",
   "execution_count": 24,
   "metadata": {},
   "outputs": [
    {
     "name": "stdout",
     "output_type": "stream",
     "text": [
      "圓柱體的體積:392.69875 立方公分\n"
     ]
    }
   ],
   "source": [
    "#Homework(circle_s.py)\n",
    "PI = 3.14159\n",
    "r = float(input('請輸入圓柱體的半徑(公分):'))\n",
    "h = float(input('請輸入圓柱體的高(公分):'))\n",
    "print(f'圓柱體的體積:{r**2*PI*h}','立方公分')"
   ]
  },
  {
   "cell_type": "code",
   "execution_count": null,
   "metadata": {},
   "outputs": [],
   "source": [
    "#Homework(degree.py)\n"
   ]
  }
 ],
 "metadata": {
  "kernelspec": {
   "display_name": "Python 3",
   "language": "python",
   "name": "python3"
  },
  "language_info": {
   "codemirror_mode": {
    "name": "ipython",
    "version": 3
   },
   "file_extension": ".py",
   "mimetype": "text/x-python",
   "name": "python",
   "nbconvert_exporter": "python",
   "pygments_lexer": "ipython3",
   "version": "3.10.8"
  },
  "orig_nbformat": 4
 },
 "nbformat": 4,
 "nbformat_minor": 2
}
