{
 "cells": [
  {
   "cell_type": "markdown",
   "metadata": {},
   "source": [
    "# 純值運算"
   ]
  },
  {
   "cell_type": "code",
   "execution_count": null,
   "metadata": {},
   "outputs": [],
   "source": [
    "# python純值\n",
    "'Hello Python'\n",
    "10\n",
    "10.0\n",
    "True"
   ]
  },
  {
   "cell_type": "code",
   "execution_count": null,
   "metadata": {},
   "outputs": [],
   "source": [
    "#print()\n",
    "print('Hello! World!')\n",
    "print('10')\n",
    "print('10.0')\n",
    "print('True')"
   ]
  },
  {
   "cell_type": "code",
   "execution_count": null,
   "metadata": {},
   "outputs": [],
   "source": [
    "#整數運算\n",
    "print(5 + 8)\n",
    "print(15 - 5)\n",
    "print(9 * 9)\n",
    "print(7 / 2)\n",
    "print(7 // 2)\n",
    "print(7 % 2)\n",
    "print(17**20)"
   ]
  },
  {
   "cell_type": "code",
   "execution_count": null,
   "metadata": {},
   "outputs": [],
   "source": [
    "#浮點數和整數運算\n",
    "print(8.0 + 7)\n",
    "print(8.0 + 7 + 2)\n",
    "print(3.5 + 4.5*2)\n",
    "print(2*(1 + 2)**4 - 2**3*3)"
   ]
  },
  {
   "cell_type": "code",
   "execution_count": null,
   "metadata": {},
   "outputs": [],
   "source": [
    "#字串的加法運算\n",
    "'abc' + 'efg'"
   ]
  },
  {
   "cell_type": "code",
   "execution_count": null,
   "metadata": {},
   "outputs": [],
   "source": [
    "'abcdefg' - 'abc'\n",
    "#字串間無法作減法運算"
   ]
  },
  {
   "cell_type": "code",
   "execution_count": null,
   "metadata": {},
   "outputs": [],
   "source": [
    "5.0 + hello\n",
    "數值 + 字串 ->錯誤"
   ]
  },
  {
   "cell_type": "code",
   "execution_count": null,
   "metadata": {},
   "outputs": [],
   "source": [
    "#str() ->轉為字串\n",
    "'zxcv' + str(13)"
   ]
  },
  {
   "cell_type": "code",
   "execution_count": null,
   "metadata": {},
   "outputs": [],
   "source": [
    "#int ->轉為整數(無條件捨去)\n",
    "print(int(5.9) + 5.9)\n",
    "print(int(3.2) + int(9.9))"
   ]
  },
  {
   "cell_type": "code",
   "execution_count": null,
   "metadata": {},
   "outputs": [],
   "source": [
    "#float() ->轉為浮點數\n",
    "float(5) + float(21.7)"
   ]
  },
  {
   "cell_type": "markdown",
   "metadata": {},
   "source": [
    "1. 關於變數宣告:  \n",
    "    - 其他程式語言的變數需要先進行宣告，告訴作業系統它的名稱與它的型態。  \n",
    "    - Python 變數不需要經過宣告就可以使用。  \n",
    "2. 變數必須透過 = 給值後才可以使用，= 代表**右邊資料交給左邊**。  \n",
    "    - 變數名稱 = 變數內容  \n",
    "    - 例如建立一個名為 openedx 的變數，內容為 100: opexdx=100\n",
    "3. 程式執行時需要儲存，這個儲存的對象就是變數，這是我們自己定義 的名稱。  \n",
    "4. 變數有**整數、浮點數、字串與布林**這四種，**整數與浮點數是不同喔**!  \n",
    "5. Python 的變數為何沒有型態的限制?Python 的變數其實也是物件的一種，只是這些物件就跟其他程式語言一樣只操作指定型態的資料。  \n",
    "6. 可以在同一列中指定多個變數，變數之間以「,」分隔，而內容之間 也以「,」分隔。  \n",
    "7. 例如建立變數 Taiwan 內容為台灣，years 內容為 2018\n",
    "```Taiwan, 2023 = '台灣', 2018```\n",
    "8. 如果不使用變數可以選擇以 del 語法將變數刪除以節省記憶體。例如刪除 years 變數，那操作方式為:  \n",
    "```del years```"
   ]
  },
  {
   "cell_type": "code",
   "execution_count": null,
   "metadata": {},
   "outputs": [],
   "source": [
    "Taiwan, years = '台灣', 2023\n",
    "Taiwan, years"
   ]
  },
  {
   "cell_type": "markdown",
   "metadata": {},
   "source": [
    "## 變數命名的規則\n",
    "- 開頭第一個字**不能**是數字。\n",
    "- 可使用大小寫字母或「_」。\n",
    "- 不可與內建保留字 (右邊表格所列) 同名。\n",
    "- Python 3 可以使用中文名稱。\n",
    "- 大小寫視為不同的變數。\n",
    "- **不可以出現特殊字元或空白**。"
   ]
  },
  {
   "cell_type": "markdown",
   "metadata": {},
   "source": [
    "Answers:  \n",
    "(1)  \n",
    "(1)(3)  \n",
    "(4)  "
   ]
  },
  {
   "cell_type": "markdown",
   "metadata": {},
   "source": [
    "## 關於註解\n",
    "- 註解就是程式的說明文字\n",
    "- 單行註解，可於程式碼中加入「#」作為單行註解，於「#」之後的該行語法都不會執行。\n",
    "- pcschool=100 #pcschool 儲存 100 這個內容\n",
    "- 多行註解，可於註解區塊前後加上三個單引號或三個雙引號方式。"
   ]
  },
  {
   "cell_type": "markdown",
   "metadata": {},
   "source": [
    "## 變數給值與輸出\n",
    "- 如何給值?\n",
    "    - 請使用「=」這個符號，「=」代表右邊丟給左邊，而左邊得接受這個資料。\n",
    "- 在建立變數之前，也就是給變數內容之前，嘗試存取某個變數會發生變 數未定義的錯誤。\n",
    "- print 代表資料輸出，也是存取內容的動作，基本語法為 print(變數) 或者 print(內容)。\n",
    "- **內容會被雙引號或者單引號包夾起來。**"
   ]
  },
  {
   "cell_type": "code",
   "execution_count": null,
   "metadata": {},
   "outputs": [],
   "source": [
    "#多個參數\n",
    "a = 100\n",
    "print('a=', a) #('字串', 變數)\n",
    "b = 50\n",
    "print('b=', b) #('字串', 變數)"
   ]
  },
  {
   "cell_type": "code",
   "execution_count": null,
   "metadata": {},
   "outputs": [],
   "source": [
    "x = 50\n",
    "x = \"test\"\n",
    "print(x)\n",
    "print(type(x))\n",
    "print(id(x))"
   ]
  },
  {
   "cell_type": "markdown",
   "metadata": {},
   "source": [
    "Answers:  \n",
    "(2)  \n",
    "(3)  \n",
    "(1)  \n",
    "(2)"
   ]
  },
  {
   "cell_type": "markdown",
   "metadata": {},
   "source": [
    "## Python內建資料型別  \n",
    "- Python 的變數並沒有設定固定型態。  \n",
    "- 變數型態有**整數、浮點數、布林值、字串**。\n",
    "- *字串 str，可用單引號或雙引號包起來。*  \n",
    "    - integers(42 and 1500)  \n",
    "    - floats(3.1415926)  \n",
    "    - string  \n",
    "    - boolean(True or False)"
   ]
  },
  {
   "cell_type": "markdown",
   "metadata": {},
   "source": [
    "## 資料型態  \n",
    "- 如何知道變數的資料型態?\n",
    "    - 可使用 type( ) 指令顯示。  \n",
    "- 變數內容變更後會儲存於不同的記憶體位址。那要如何查詢位址呢?  \n",
    "    - 可使用 id( ) 指令顯示。"
   ]
  },
  {
   "cell_type": "code",
   "execution_count": null,
   "metadata": {},
   "outputs": [],
   "source": [
    "a = 100\n",
    "print(type(a))"
   ]
  },
  {
   "cell_type": "code",
   "execution_count": null,
   "metadata": {},
   "outputs": [],
   "source": [
    "a = 100.5\n",
    "print(type(a))"
   ]
  },
  {
   "cell_type": "code",
   "execution_count": null,
   "metadata": {},
   "outputs": [],
   "source": [
    "a = \"Hello\"\n",
    "print(type(a))"
   ]
  },
  {
   "cell_type": "code",
   "execution_count": null,
   "metadata": {},
   "outputs": [],
   "source": [
    "a = True\n",
    "print(type(a))"
   ]
  },
  {
   "cell_type": "code",
   "execution_count": null,
   "metadata": {},
   "outputs": [],
   "source": [
    "a = 12\n",
    "print(a)\n",
    "b = a\n",
    "print(b)\n",
    "print(type(a))\n",
    "print(type(b))"
   ]
  },
  {
   "cell_type": "code",
   "execution_count": null,
   "metadata": {},
   "outputs": [],
   "source": [
    "var1 = 10\n",
    "print(type(var1))\n",
    "var2 = 123.45\n",
    "print(type(var2))\n",
    "var3 = True\n",
    "print(type(var3))\n",
    "var4 = 'string1'\n",
    "print(type(var4)) "
   ]
  },
  {
   "cell_type": "code",
   "execution_count": null,
   "metadata": {},
   "outputs": [],
   "source": [
    "a = 5\n",
    "a = 20\n",
    "print(id(a))\n",
    "a = 'test'\n",
    "print(id(a))\n",
    "print(a)"
   ]
  },
  {
   "cell_type": "code",
   "execution_count": null,
   "metadata": {},
   "outputs": [],
   "source": [
    "a = 5.4\n",
    "print(id(a))\n",
    "a = 20.4\n",
    "print(id(a))"
   ]
  },
  {
   "cell_type": "markdown",
   "metadata": {},
   "source": [
    "Answer:\n",
    "(2)"
   ]
  },
  {
   "cell_type": "markdown",
   "metadata": {},
   "source": [
    "## 新的語法\n",
    "字串.fomat(變數, 變數...)"
   ]
  },
  {
   "cell_type": "code",
   "execution_count": 65,
   "metadata": {},
   "outputs": [
    {
     "data": {
      "text/plain": [
       "'C B A'"
      ]
     },
     "execution_count": 65,
     "metadata": {},
     "output_type": "execute_result"
    }
   ],
   "source": [
    "#不指定位置，依序輸出\n",
    "'{} {} {}'.format('A', 'B', 'C')\n",
    "#用數字指定位置(從0開始)\n",
    "'{2} {0} {1}'.format('A', 'B', 'C')\n",
    "#用名稱指定位置\n",
    "'{c} {b} {a}'.format(a='A', b='B', c='C')"
   ]
  },
  {
   "cell_type": "markdown",
   "metadata": {},
   "source": [
    "## 數值格式化及對齊  \n",
    "格式化的方式是在後方加上”:“及”格式符”，可用的格式符如下  \n",
    "{:d}        : 整數  \n",
    "{:f}        : 浮點數  \n",
    "{:e} {:E}   : 科學記號，例如 1.020000e+01，大小寫就代表 \"e\" 顯示的大小寫  \n",
    "{:x} {:X}   : 十六進位，大小寫分別表示 A ~ F 要顯示的大小寫  \n",
    "{:o}        : 八進位  \n",
    "{:b}        : 二進位  \n",
    "{:>}}        : 以百分比的方式輸出  "
   ]
  },
  {
   "cell_type": "markdown",
   "metadata": {},
   "source": [
    "另外可以使用 > ^ < 這三種符號以及數值來搭配佔位及對齊。注意: 數值型別預設是靠右對齊，字串型別預設是靠左對齊  \n",
    "{:>8d}      : 整數靠右對齊，寬度為 8  \n",
    "{:^8d}      : 整數置中對齊，寬度為 8  \n",
    "{:<8d}      : 整數靠左對齊，寬度為 8  \n",
    "{:8.3f}     : 小數點後保留 3 位，總寬度為 8 (含小數點)  \n",
    "{:+8.3f}    : 小數點後保留 3 位，帶正負號，總寬度為 8 (含小數點及正負號)  "
   ]
  },
  {
   "cell_type": "markdown",
   "metadata": {},
   "source": [
    "另外可以使用 > ^ < 這三種符號以及數值來搭配佔位及對齊。注意: 數值型別預設是靠右對齊，字串型別預設是靠左對齊  \n",
    "{:>8d}      : 整數靠右對齊，寬度為 8  \n",
    "{:^8d}      : 整數置中對齊，寬度為 8  \n",
    "{:<8d}      : 整數靠左對齊，寬度為 8  \n",
    "{:8.3f}     : 小數點後保留 3 位，總寬度為 8 (含小數點)  \n",
    "{:+8.3f}    : 小數點後保留 3 位，帶正負號，總寬度為 8 (含小數點及正負號)  "
   ]
  },
  {
   "cell_type": "code",
   "execution_count": 70,
   "metadata": {},
   "outputs": [
    {
     "name": "stdout",
     "output_type": "stream",
     "text": [
      "|     123||456     |\n"
     ]
    }
   ],
   "source": [
    "print('|{0:8d}||{1:<8d}|'.format(123, 456))"
   ]
  },
  {
   "cell_type": "code",
   "execution_count": 71,
   "metadata": {},
   "outputs": [
    {
     "name": "stdout",
     "output_type": "stream",
     "text": [
      "|   +3.14|\n"
     ]
    }
   ],
   "source": [
    "print('|{0:+8.2f}|'.format(3.1415926))"
   ]
  },
  {
   "cell_type": "code",
   "execution_count": 78,
   "metadata": {},
   "outputs": [
    {
     "ename": "ValueError",
     "evalue": "Unknown format code '>' for object of type 'float'",
     "output_type": "error",
     "traceback": [
      "\u001b[1;31m---------------------------------------------------------------------------\u001b[0m",
      "\u001b[1;31mValueError\u001b[0m                                Traceback (most recent call last)",
      "\u001b[1;32mc:\\Users\\Eddie\\OneDrive\\文件\\GitHub\\11209_python_school\\20230911\\20230911作業.ipynb Cell 39\u001b[0m line \u001b[0;36m1\n\u001b[1;32m----> <a href='vscode-notebook-cell:/c%3A/Users/Eddie/OneDrive/%E6%96%87%E4%BB%B6/GitHub/11209_python_school/20230911/20230911%E4%BD%9C%E6%A5%AD.ipynb#X56sZmlsZQ%3D%3D?line=0'>1</a>\u001b[0m \u001b[39mprint\u001b[39m(\u001b[39m'\u001b[39;49m\u001b[39m|\u001b[39;49m\u001b[39m{\u001b[39;49m\u001b[39m0:8.2>}}|\u001b[39;49m\u001b[39m'\u001b[39;49m\u001b[39m.\u001b[39;49mformat(\u001b[39m0.8\u001b[39;49m))\n",
      "\u001b[1;31mValueError\u001b[0m: Unknown format code '>' for object of type 'float'"
     ]
    }
   ],
   "source": [
    "print('|{0:8.2>}}|'.format(0.8))"
   ]
  },
  {
   "cell_type": "code",
   "execution_count": 80,
   "metadata": {},
   "outputs": [
    {
     "name": "stdout",
     "output_type": "stream",
     "text": [
      "Hello world\n"
     ]
    }
   ],
   "source": [
    "text = 'world'\n",
    "print(f'Hello {text}')"
   ]
  },
  {
   "cell_type": "code",
   "execution_count": 81,
   "metadata": {},
   "outputs": [
    {
     "name": "stdout",
     "output_type": "stream",
     "text": [
      "x + y = 37\n"
     ]
    }
   ],
   "source": [
    "x = 10\n",
    "y = 27\n",
    "print(f'x + y = {x + y}') "
   ]
  },
  {
   "cell_type": "code",
   "execution_count": 95,
   "metadata": {},
   "outputs": [
    {
     "data": {
      "text/plain": [
       "'hello HSIAO, hello EDDIE'"
      ]
     },
     "execution_count": 95,
     "metadata": {},
     "output_type": "execute_result"
    }
   ],
   "source": [
    "def hello(text, name):\n",
    "    return f'hello {text}, hello {name}'\n",
    "text = 'HSIAO'\n",
    "name = 'EDDIE'\n",
    "hello(text, name)"
   ]
  }
 ],
 "metadata": {
  "kernelspec": {
   "display_name": "Python 3",
   "language": "python",
   "name": "python3"
  },
  "language_info": {
   "codemirror_mode": {
    "name": "ipython",
    "version": 3
   },
   "file_extension": ".py",
   "mimetype": "text/x-python",
   "name": "python",
   "nbconvert_exporter": "python",
   "pygments_lexer": "ipython3",
   "version": "3.10.8"
  },
  "orig_nbformat": 4
 },
 "nbformat": 4,
 "nbformat_minor": 2
}
