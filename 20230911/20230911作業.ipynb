{
 "cells": [
  {
   "cell_type": "markdown",
   "metadata": {},
   "source": [
    "# 純值運算"
   ]
  },
  {
   "cell_type": "code",
   "execution_count": null,
   "metadata": {},
   "outputs": [],
   "source": [
    "# python純值\n",
    "'Hello Python'\n",
    "10\n",
    "10.0\n",
    "True"
   ]
  },
  {
   "cell_type": "code",
   "execution_count": null,
   "metadata": {},
   "outputs": [],
   "source": [
    "#print()\n",
    "print('Hello! World!')\n",
    "print('10')\n",
    "print('10.0')\n",
    "print('True')"
   ]
  },
  {
   "cell_type": "code",
   "execution_count": null,
   "metadata": {},
   "outputs": [],
   "source": [
    "#整數運算\n",
    "print(5 + 8)\n",
    "print(15 - 5)\n",
    "print(9 * 9)\n",
    "print(7 / 2)\n",
    "print(7 // 2)\n",
    "print(7 % 2)\n",
    "print(17**20)"
   ]
  },
  {
   "cell_type": "code",
   "execution_count": null,
   "metadata": {},
   "outputs": [],
   "source": [
    "#浮點數和整數運算\n",
    "print(8.0 + 7)\n",
    "print(8.0 + 7 + 2)\n",
    "print(3.5 + 4.5*2)\n",
    "print(2*(1 + 2)**4 - 2**3*3)"
   ]
  },
  {
   "cell_type": "code",
   "execution_count": null,
   "metadata": {},
   "outputs": [],
   "source": [
    "#字串的加法運算\n",
    "'abc' + 'efg'"
   ]
  },
  {
   "cell_type": "code",
   "execution_count": 8,
   "metadata": {},
   "outputs": [
    {
     "ename": "TypeError",
     "evalue": "unsupported operand type(s) for -: 'str' and 'str'",
     "output_type": "error",
     "traceback": [
      "\u001b[1;31m---------------------------------------------------------------------------\u001b[0m",
      "\u001b[1;31mTypeError\u001b[0m                                 Traceback (most recent call last)",
      "\u001b[1;32mc:\\Users\\user\\Documents\\GitHub\\11209_python_school\\20230911\\20230911作業.ipynb 儲存格 7\u001b[0m line \u001b[0;36m1\n\u001b[1;32m----> <a href='vscode-notebook-cell:/c%3A/Users/user/Documents/GitHub/11209_python_school/20230911/20230911%E4%BD%9C%E6%A5%AD.ipynb#W6sZmlsZQ%3D%3D?line=0'>1</a>\u001b[0m \u001b[39m'\u001b[39;49m\u001b[39mabcdefg\u001b[39;49m\u001b[39m'\u001b[39;49m \u001b[39m-\u001b[39;49m \u001b[39m'\u001b[39;49m\u001b[39mabc\u001b[39;49m\u001b[39m'\u001b[39;49m\n",
      "\u001b[1;31mTypeError\u001b[0m: unsupported operand type(s) for -: 'str' and 'str'"
     ]
    }
   ],
   "source": [
    "'abcdefg' - 'abc'\n",
    "#字串間無法作減法運算"
   ]
  },
  {
   "cell_type": "code",
   "execution_count": 10,
   "metadata": {},
   "outputs": [
    {
     "ename": "NameError",
     "evalue": "name 'hello' is not defined",
     "output_type": "error",
     "traceback": [
      "\u001b[1;31m---------------------------------------------------------------------------\u001b[0m",
      "\u001b[1;31mNameError\u001b[0m                                 Traceback (most recent call last)",
      "\u001b[1;32mc:\\Users\\user\\Documents\\GitHub\\11209_python_school\\20230911\\20230911作業.ipynb 儲存格 8\u001b[0m line \u001b[0;36m1\n\u001b[1;32m----> <a href='vscode-notebook-cell:/c%3A/Users/user/Documents/GitHub/11209_python_school/20230911/20230911%E4%BD%9C%E6%A5%AD.ipynb#X10sZmlsZQ%3D%3D?line=0'>1</a>\u001b[0m \u001b[39m5.0\u001b[39m \u001b[39m+\u001b[39m hello\n",
      "\u001b[1;31mNameError\u001b[0m: name 'hello' is not defined"
     ]
    }
   ],
   "source": [
    "5.0 + hello\n",
    "數值 + 字串 ->錯誤"
   ]
  },
  {
   "cell_type": "code",
   "execution_count": null,
   "metadata": {},
   "outputs": [],
   "source": [
    "#str() ->轉為字串\n",
    "'zxcv' + str(13)"
   ]
  },
  {
   "cell_type": "code",
   "execution_count": 18,
   "metadata": {},
   "outputs": [
    {
     "name": "stdout",
     "output_type": "stream",
     "text": [
      "10.9\n",
      "12\n"
     ]
    }
   ],
   "source": [
    "#int ->轉為整數(無條件捨去)\n",
    "print(int(5.9) + 5.9)\n",
    "print(int(3.2) + int(9.9))"
   ]
  },
  {
   "cell_type": "code",
   "execution_count": null,
   "metadata": {},
   "outputs": [],
   "source": [
    "#float() ->轉為浮點數\n",
    "float(5) + float(21.7)"
   ]
  },
  {
   "cell_type": "markdown",
   "metadata": {},
   "source": [
    "1. 關於變數宣告:  \n",
    "    - 其他程式語言的變數需要先進行宣告，告訴作業系統它的名稱與它的型態。  \n",
    "    - Python 變數不需要經過宣告就可以使用。  \n",
    "2. 變數必須透過 = 給值後才可以使用，= 代表**右邊資料交給左邊**。  \n",
    "    - 變數名稱 = 變數內容  \n",
    "    - 例如建立一個名為 openedx 的變數，內容為 100: opexdx=100\n",
    "3. 程式執行時需要儲存，這個儲存的對象就是變數，這是我們自己定義 的名稱。  \n",
    "4. 變數有**整數、浮點數、字串與布林**這四種，**整數與浮點數是不同喔**!  \n",
    "5. Python 的變數為何沒有型態的限制?Python 的變數其實也是物件的一種，只是這些物件就跟其他程式語言一樣只操作指定型態的資料。  \n",
    "6. 可以在同一列中指定多個變數，變數之間以「,」分隔，而內容之間 也以「,」分隔。  \n",
    "7. 例如建立變數 Taiwan 內容為台灣，years 內容為 2018\n",
    "```Taiwan, 2023 = '台灣', 2018```\n",
    "8. 如果不使用變數可以選擇以 del 語法將變數刪除以節省記憶體。例如刪除 years 變數，那操作方式為:  \n",
    "```del years```"
   ]
  },
  {
   "cell_type": "code",
   "execution_count": 26,
   "metadata": {},
   "outputs": [
    {
     "data": {
      "text/plain": [
       "('台灣', 2023)"
      ]
     },
     "execution_count": 26,
     "metadata": {},
     "output_type": "execute_result"
    }
   ],
   "source": [
    "Taiwan, years = '台灣', 2023\n",
    "Taiwan, years"
   ]
  },
  {
   "cell_type": "markdown",
   "metadata": {},
   "source": [
    "## 變數命名的規則\n",
    "- 開頭第一個字**不能**是數字。\n",
    "- 可使用大小寫字母或「_」。\n",
    "- 不可與內建保留字 (右邊表格所列) 同名。\n",
    "- Python 3 可以使用中文名稱。\n",
    "- 大小寫視為不同的變數。\n",
    "- **不可以出現特殊字元或空白**。"
   ]
  },
  {
   "cell_type": "markdown",
   "metadata": {},
   "source": [
    "Answers:  \n",
    "(1)  \n",
    "(1)(3)  \n",
    "(4)  "
   ]
  },
  {
   "cell_type": "markdown",
   "metadata": {},
   "source": [
    "## 關於註解\n",
    "- 註解就是程式的說明文字\n",
    "- 單行註解，可於程式碼中加入「#」作為單行註解，於「#」之後的該行語法都不會執行。\n",
    "- pcschool=100 #pcschool 儲存 100 這個內容\n",
    "- 多行註解，可於註解區塊前後加上三個單引號或三個雙引號方式。"
   ]
  },
  {
   "cell_type": "markdown",
   "metadata": {},
   "source": [
    "## 變數給值與輸出\n",
    "- 如何給值?\n",
    "    - 請使用「=」這個符號，「=」代表右邊丟給左邊，而左邊得接受這個資料。\n",
    "- 在建立變數之前，也就是給變數內容之前，嘗試存取某個變數會發生變 數未定義的錯誤。\n",
    "- print 代表資料輸出，也是存取內容的動作，基本語法為 print(變數) 或者 print(內容)。\n",
    "- **內容會被雙引號或者單引號包夾起來。**"
   ]
  },
  {
   "cell_type": "code",
   "execution_count": 28,
   "metadata": {},
   "outputs": [
    {
     "name": "stdout",
     "output_type": "stream",
     "text": [
      "a= 100\n",
      "b= 50\n"
     ]
    }
   ],
   "source": [
    "#多個參數\n",
    "a = 100\n",
    "print('a=', a) #('字串', 變數)\n",
    "b = 50\n",
    "print('b=', b) #('字串', 變數)"
   ]
  },
  {
   "cell_type": "code",
   "execution_count": 33,
   "metadata": {},
   "outputs": [
    {
     "name": "stdout",
     "output_type": "stream",
     "text": [
      "test\n",
      "<class 'str'>\n",
      "1922111908592\n"
     ]
    }
   ],
   "source": [
    "x = 50\n",
    "x = \"test\"\n",
    "print(x)\n",
    "print(type(x))\n",
    "print(id(x))"
   ]
  },
  {
   "cell_type": "markdown",
   "metadata": {},
   "source": [
    "Answers:  \n",
    "(2)  \n",
    "(3)  \n",
    "(1)  \n",
    "(2)"
   ]
  }
 ],
 "metadata": {
  "kernelspec": {
   "display_name": "Python 3",
   "language": "python",
   "name": "python3"
  },
  "language_info": {
   "codemirror_mode": {
    "name": "ipython",
    "version": 3
   },
   "file_extension": ".py",
   "mimetype": "text/x-python",
   "name": "python",
   "nbconvert_exporter": "python",
   "pygments_lexer": "ipython3",
   "version": "3.10.8"
  },
  "orig_nbformat": 4
 },
 "nbformat": 4,
 "nbformat_minor": 2
}
