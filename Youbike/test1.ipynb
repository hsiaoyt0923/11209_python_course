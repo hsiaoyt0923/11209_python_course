{
 "cells": [
  {
   "cell_type": "code",
   "execution_count": 2,
   "metadata": {},
   "outputs": [
    {
     "name": "stdout",
     "output_type": "stream",
     "text": [
      "倒數計時:5\n",
      "倒數計時:4\n",
      "倒數計時:3\n",
      "倒數計時:2\n",
      "倒數計時:1\n"
     ]
    }
   ],
   "source": [
    "import time\n",
    "\n",
    "def countdown(n: int) -> None:\n",
    "    while n > 0:\n",
    "        print(f'倒數計時:{n}')\n",
    "        n -= 1\n",
    "        time.sleep(5)\n",
    "\n",
    "\n",
    "countdown(5)"
   ]
  },
  {
   "cell_type": "code",
   "execution_count": 4,
   "metadata": {},
   "outputs": [
    {
     "name": "stdout",
     "output_type": "stream",
     "text": [
      "倒數計時:5\n"
     ]
    },
    {
     "name": "stdout",
     "output_type": "stream",
     "text": [
      "倒數計時:4\n",
      "倒數計時:3\n",
      "倒數計時:2\n",
      "倒數計時:1\n"
     ]
    }
   ],
   "source": [
    "import time\n",
    "import threading\n",
    "\n",
    "\n",
    "def countdown(n: int) -> None:\n",
    "    while n > 0:\n",
    "        print(f'倒數計時:{n}')\n",
    "        n -= 1\n",
    "        time.sleep(5)\n",
    "\n",
    "\n",
    "thread1 = threading.Thread(target=countdown, args=(5,))\n",
    "thread1.start()"
   ]
  },
  {
   "cell_type": "code",
   "execution_count": null,
   "metadata": {},
   "outputs": [],
   "source": [
    "import time\n",
    "import threading\n",
    "\n",
    "\n",
    "def countdown(n: int) -> None:\n",
    "    while n > 0:\n",
    "        print(f'倒數計時:{n}')\n",
    "        n -= 1\n",
    "        time.sleep(5)\n",
    "\n",
    "\n",
    "thread1 = threading.Thread(target=countdown, args=(5,))\n",
    "thread1.start()\n",
    "\n",
    "while thread1.is_alive():\n",
    "    print('小猴子還在做事')\n",
    "    time.sleep(3)\n",
    "else:\n",
    "    print('小猴子已經做完了')"
   ]
  },
  {
   "cell_type": "code",
   "execution_count": 15,
   "metadata": {},
   "outputs": [
    {
     "name": "stdout",
     "output_type": "stream",
     "text": [
      "倒數計時10\n"
     ]
    },
    {
     "name": "stdout",
     "output_type": "stream",
     "text": [
      "倒數計時9\n",
      "倒數計時8\n",
      "倒數計時7\n",
      "倒數計時6\n",
      "倒數計時5\n",
      "倒數計時4\n",
      "倒數計時3\n",
      "倒數計時2\n",
      "倒數計時1\n",
      "執行完畢\n"
     ]
    }
   ],
   "source": [
    "from threading import Timer\n",
    "\n",
    "\n",
    "def countdown(n: int) -> None:\n",
    "    if n > 0:\n",
    "        print(f'倒數計時{n}')\n",
    "        timer = Timer(1, countdown, args=(n-1,))\n",
    "        timer.start()\n",
    "    else:\n",
    "        print('執行完畢')\n",
    "\n",
    "\n",
    "countdown(n=10)"
   ]
  }
 ],
 "metadata": {
  "kernelspec": {
   "display_name": "venv",
   "language": "python",
   "name": "python3"
  },
  "language_info": {
   "codemirror_mode": {
    "name": "ipython",
    "version": 3
   },
   "file_extension": ".py",
   "mimetype": "text/x-python",
   "name": "python",
   "nbconvert_exporter": "python",
   "pygments_lexer": "ipython3",
   "version": "3.10.8"
  }
 },
 "nbformat": 4,
 "nbformat_minor": 2
}
