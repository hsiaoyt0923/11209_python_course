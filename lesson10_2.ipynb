{
 "cells": [
  {
   "cell_type": "code",
   "execution_count": 3,
   "metadata": {},
   "outputs": [
    {
     "name": "stdout",
     "output_type": "stream",
     "text": [
      "45\n"
     ]
    }
   ],
   "source": [
    "def inputNum():\n",
    "    print(int(input('請輸入整數')))\n",
    "    \n",
    "inputNum()"
   ]
  },
  {
   "cell_type": "code",
   "execution_count": 5,
   "metadata": {},
   "outputs": [
    {
     "data": {
      "text/plain": [
       "50"
      ]
     },
     "execution_count": 5,
     "metadata": {},
     "output_type": "execute_result"
    }
   ],
   "source": [
    "def rect_area(width:int, height:int)->int:\n",
    "    return width * height\n",
    "\n",
    "area = rect_area(10,5)\n",
    "area"
   ]
  },
  {
   "cell_type": "code",
   "execution_count": null,
   "metadata": {},
   "outputs": [],
   "source": [
    "def menu(wine:str, entree:str, dessert:str) -> None:\n",
    "    print(f'餐前酒:{wine}')\n",
    "    print(f'主餐:{entree}')\n",
    "    print(f'甜點:{dessert}')"
   ]
  },
  {
   "cell_type": "code",
   "execution_count": 10,
   "metadata": {},
   "outputs": [
    {
     "name": "stdout",
     "output_type": "stream",
     "text": [
      "餐前酒:白酒\n",
      "主餐:牛排\n",
      "甜點:蛋糕\n"
     ]
    }
   ],
   "source": [
    "#引數位置呼叫\n",
    "menu('白酒', '牛排', '蛋糕')"
   ]
  },
  {
   "cell_type": "code",
   "execution_count": 12,
   "metadata": {},
   "outputs": [
    {
     "name": "stdout",
     "output_type": "stream",
     "text": [
      "餐前酒:紅酒\n",
      "主餐:龍蝦\n",
      "甜點:布丁\n"
     ]
    }
   ],
   "source": [
    "#引數名稱的呼叫\n",
    "menu(wine='紅酒',entree='龍蝦', dessert='布丁')"
   ]
  },
  {
   "cell_type": "code",
   "execution_count": 13,
   "metadata": {},
   "outputs": [
    {
     "name": "stdout",
     "output_type": "stream",
     "text": [
      "餐前酒:紅酒\n",
      "主餐:龍蝦\n",
      "甜點:布丁\n"
     ]
    }
   ],
   "source": [
    "#引數名稱的呼叫，可以不依照順序\n",
    "#引述位置的呼叫，要依照參數的順序\n",
    "menu(entree='龍蝦', wine='紅酒', dessert='布丁')"
   ]
  },
  {
   "cell_type": "code",
   "execution_count": 14,
   "metadata": {},
   "outputs": [
    {
     "name": "stdout",
     "output_type": "stream",
     "text": [
      "餐前酒:白酒\n",
      "主餐:牛排\n",
      "甜點:布丁\n"
     ]
    }
   ],
   "source": [
    "#引述位置和引數名稱的混合呼叫\n",
    "#前面一定用引數位置，後面使用引數名稱呼叫\n",
    "#使用引數名稱，後面的引數全部要用引數名稱\n",
    "menu('白酒', entree='牛排', dessert='布丁')"
   ]
  },
  {
   "cell_type": "code",
   "execution_count": 5,
   "metadata": {},
   "outputs": [
    {
     "name": "stdout",
     "output_type": "stream",
     "text": [
      "主菜:滷雞腿\n",
      "配菜一:番茄炒蛋\n",
      "配菜二:紅燒茄子\n",
      "配菜三:炒高麗菜\n"
     ]
    }
   ],
   "source": [
    "#參數有預設值\n",
    "def order(prime:str, second1:str='番茄炒蛋', second2:str='紅燒茄子', second3:str='炒高麗菜') -> None:\n",
    "    print(f'主菜:{prime}')\n",
    "    print(f'配菜一:{second1}')\n",
    "    print(f'配菜二:{second2}')\n",
    "    print(f'配菜三:{second3}')\n",
    "\n",
    "order('滷雞腿')"
   ]
  },
  {
   "cell_type": "code",
   "execution_count": 6,
   "metadata": {},
   "outputs": [
    {
     "name": "stdout",
     "output_type": "stream",
     "text": [
      "主菜:炸雞腿\n",
      "配菜一:番茄炒蛋\n",
      "配菜二:青江菜\n",
      "配菜三:炒高麗菜\n"
     ]
    }
   ],
   "source": [
    "#無預設值的參數使用引數位置呼叫，有預設值的參數使用引數名稱呼叫\n",
    "order('炸雞腿', second2='青江菜')"
   ]
  },
  {
   "cell_type": "code",
   "execution_count": 7,
   "metadata": {},
   "outputs": [
    {
     "name": "stdout",
     "output_type": "stream",
     "text": [
      "('嫩烤蔬菜雞肉捲', '星島海南雞', '薑汁燒肉')\n"
     ]
    }
   ],
   "source": [
    "# * -> 不限數量的位置引數\n",
    "def buffet_101(*food):\n",
    "    print(food)\n",
    "\n",
    "buffet_101('嫩烤蔬菜雞肉捲', '星島海南雞', '薑汁燒肉')"
   ]
  }
 ],
 "metadata": {
  "kernelspec": {
   "display_name": ".venv",
   "language": "python",
   "name": "python3"
  },
  "language_info": {
   "codemirror_mode": {
    "name": "ipython",
    "version": 3
   },
   "file_extension": ".py",
   "mimetype": "text/x-python",
   "name": "python",
   "nbconvert_exporter": "python",
   "pygments_lexer": "ipython3",
   "version": "3.10.8"
  },
  "orig_nbformat": 4
 },
 "nbformat": 4,
 "nbformat_minor": 2
}
