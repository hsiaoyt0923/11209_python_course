{
 "cells": [
  {
   "cell_type": "code",
   "execution_count": null,
   "metadata": {},
   "outputs": [],
   "source": [
    "# 沒有執行的py檔就是module\n",
    "# requests是用來從網路上下載資料的套件\n",
    "\n",
    "import password\n",
    "import requests\n",
    "\n",
    "url = f'https://data.moenv.gov.tw/api/v2/aqx_p_07?api_key={password.apikey}'\n",
    "res = requests.get(url)\n",
    "\n",
    "if res.ok:\n",
    "    print('下載完成')\n",
    "else:\n",
    "    print('下載失敗')\n",
    "\n",
    "print(res.text)"
   ]
  }
 ],
 "metadata": {
  "kernelspec": {
   "display_name": "venv",
   "language": "python",
   "name": "python3"
  },
  "language_info": {
   "codemirror_mode": {
    "name": "ipython",
    "version": 3
   },
   "file_extension": ".py",
   "mimetype": "text/x-python",
   "name": "python",
   "nbconvert_exporter": "python",
   "pygments_lexer": "ipython3",
   "version": "3.10.8"
  }
 },
 "nbformat": 4,
 "nbformat_minor": 2
}
