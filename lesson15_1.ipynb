{
 "cells": [
  {
   "cell_type": "code",
   "execution_count": 3,
   "metadata": {},
   "outputs": [
    {
     "data": {
      "text/plain": [
       "True"
      ]
     },
     "execution_count": 3,
     "metadata": {},
     "output_type": "execute_result"
    }
   ],
   "source": [
    "file = open('檔案存取/students.csv', 'r', encoding='utf-8')\n",
    "file.close()\n",
    "file.closed"
   ]
  },
  {
   "cell_type": "code",
   "execution_count": 5,
   "metadata": {},
   "outputs": [
    {
     "name": "stdout",
     "output_type": "stream",
     "text": [
      "姓名,國文,英文,數學,地理,歷史\n",
      "蕭翊廷,92,95,96,92,93\n",
      "王大明,88,89,90,91,92\n"
     ]
    },
    {
     "data": {
      "text/plain": [
       "True"
      ]
     },
     "execution_count": 5,
     "metadata": {},
     "output_type": "execute_result"
    }
   ],
   "source": [
    "file = open('檔案存取/students.csv', 'r', encoding='utf-8')\n",
    "print(file.read())\n",
    "file.close()\n",
    "file.closed"
   ]
  },
  {
   "cell_type": "code",
   "execution_count": 8,
   "metadata": {},
   "outputs": [
    {
     "name": "stdout",
     "output_type": "stream",
     "text": [
      "姓名,國文,英文,數學,地理,歷史\n",
      "\n",
      "蕭翊廷,92,95,96,92,93\n",
      "\n",
      "王大明,88,89,90,91,92\n"
     ]
    },
    {
     "data": {
      "text/plain": [
       "True"
      ]
     },
     "execution_count": 8,
     "metadata": {},
     "output_type": "execute_result"
    }
   ],
   "source": [
    "file = open('檔案存取/students.csv', 'r', encoding='utf-8')\n",
    "print(file.readline())\n",
    "print(file.readline())\n",
    "print(file.readline())\n",
    "file.close()\n",
    "file.closed"
   ]
  },
  {
   "cell_type": "code",
   "execution_count": 14,
   "metadata": {},
   "outputs": [
    {
     "name": "stdout",
     "output_type": "stream",
     "text": [
      "['姓名', '國文', '英文', '數學', '地理', '歷史']\n",
      "['蕭翊廷', '92', '95', '96', '92', '93']\n",
      "['王大明', '88', '89', '90', '91', '92']\n"
     ]
    }
   ],
   "source": [
    "import csv\n",
    "\n",
    "file = open('檔案存取/students.csv', 'r', encoding='utf-8')\n",
    "csv_reader = csv.reader(file)\n",
    "for row in csv_reader:\n",
    "    print(row)\n",
    "file.close()"
   ]
  },
  {
   "cell_type": "code",
   "execution_count": 28,
   "metadata": {},
   "outputs": [
    {
     "name": "stdout",
     "output_type": "stream",
     "text": [
      "<class '_csv.reader'>\n"
     ]
    }
   ],
   "source": [
    "import csv\n",
    "\n",
    "file = open('檔案存取/students.csv', 'r', encoding='utf-8')\n",
    "csv_reader = csv.reader(file)\n",
    "csv_list = list(csv_reader)\n",
    "file.close()\n",
    "csv_list\n",
    "print(type(csv_reader))"
   ]
  },
  {
   "cell_type": "code",
   "execution_count": 16,
   "metadata": {},
   "outputs": [
    {
     "data": {
      "text/plain": [
       "['王大明', '88', '89', '90', '91', '92']"
      ]
     },
     "execution_count": 16,
     "metadata": {},
     "output_type": "execute_result"
    }
   ],
   "source": [
    "csv_list[2]"
   ]
  },
  {
   "cell_type": "code",
   "execution_count": 27,
   "metadata": {},
   "outputs": [
    {
     "name": "stdout",
     "output_type": "stream",
     "text": [
      "<csv.DictReader object at 0x000001DF688744F0>\n"
     ]
    }
   ],
   "source": [
    "file = open('檔案存取/students.csv', 'r', encoding='utf-8')\n",
    "csv_dictreader = csv.DictReader(file)\n",
    "csv_list = list(csv_dictreader)\n",
    "file.close()\n",
    "csv_list\n",
    "print(csv_dictreader)"
   ]
  }
 ],
 "metadata": {
  "kernelspec": {
   "display_name": "venv",
   "language": "python",
   "name": "python3"
  },
  "language_info": {
   "codemirror_mode": {
    "name": "ipython",
    "version": 3
   },
   "file_extension": ".py",
   "mimetype": "text/x-python",
   "name": "python",
   "nbconvert_exporter": "python",
   "pygments_lexer": "ipython3",
   "version": "3.10.8"
  }
 },
 "nbformat": 4,
 "nbformat_minor": 2
}
