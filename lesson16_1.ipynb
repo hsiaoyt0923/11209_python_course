{
 "cells": [
  {
   "cell_type": "code",
   "execution_count": null,
   "metadata": {},
   "outputs": [],
   "source": [
    "import requests\n",
    "\n",
    "\n",
    "def download() -> requests.Response | None:\n",
    "    url = 'https://data.moi.gov.tw/MoiOD/System/DownloadFile.aspx?DATA=CA18EE06-4A50-4861-9D97-7853353D7108'\n",
    "    response = requests.request('GET', url)\n",
    "    try:\n",
    "        response.raise_for_status()\n",
    "    except:\n",
    "        return None\n",
    "    else:\n",
    "        if not response.ok:\n",
    "            return None\n",
    "        else:\n",
    "            return response"
   ]
  }
 ],
 "metadata": {
  "language_info": {
   "name": "python"
  }
 },
 "nbformat": 4,
 "nbformat_minor": 2
}
