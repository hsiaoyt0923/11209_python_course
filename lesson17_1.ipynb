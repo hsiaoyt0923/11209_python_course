{
 "cells": [
  {
   "cell_type": "code",
   "execution_count": 4,
   "metadata": {},
   "outputs": [
    {
     "name": "stdout",
     "output_type": "stream",
     "text": [
      "姓名:蕭翊廷\n",
      "年齡:25\n",
      "體重:62\n",
      "身高:175\n"
     ]
    }
   ],
   "source": [
    "class Person(object):\n",
    "    def __init__(self, name: str, age: int = 18, weight: int = 66, height: int = 180):\n",
    "        self.name = name\n",
    "        self.age = age\n",
    "        self.weight = weight\n",
    "        self.height = height\n",
    "\n",
    "    def description(self):\n",
    "        print(f'姓名:{self.name}')\n",
    "        print(f'年齡:{self.age}')\n",
    "        print(f'體重:{self.weight}')\n",
    "        print(f'身高:{self.height}')\n",
    "\n",
    "\n",
    "p1 = Person(name='蕭翊廷', age=25, weight=62, height=175)\n",
    "p1.description()"
   ]
  }
 ],
 "metadata": {
  "kernelspec": {
   "display_name": "venv",
   "language": "python",
   "name": "python3"
  },
  "language_info": {
   "codemirror_mode": {
    "name": "ipython",
    "version": 3
   },
   "file_extension": ".py",
   "mimetype": "text/x-python",
   "name": "python",
   "nbconvert_exporter": "python",
   "pygments_lexer": "ipython3",
   "version": "3.10.8"
  }
 },
 "nbformat": 4,
 "nbformat_minor": 2
}
