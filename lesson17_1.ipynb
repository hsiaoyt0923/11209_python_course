{
 "cells": [
  {
   "cell_type": "code",
   "execution_count": 11,
   "metadata": {},
   "outputs": [
    {
     "name": "stdout",
     "output_type": "stream",
     "text": [
      "姓名:蕭翊廷\n",
      "年齡:18\n",
      "體重:66\n",
      "身高:180\n",
      "學號:33\n"
     ]
    }
   ],
   "source": [
    "class Person():\n",
    "    def __init__(self, name: str, age: int = 18, weight: int = 66, height: int = 180):\n",
    "        self.name = name\n",
    "        self.age = age\n",
    "        self.weight = weight\n",
    "        self.height = height\n",
    "\n",
    "    def description(self):\n",
    "        print(f'姓名:{self.name}')\n",
    "        print(f'年齡:{self.age}')\n",
    "        print(f'體重:{self.weight}')\n",
    "        print(f'身高:{self.height}')\n",
    "\n",
    "\n",
    "class Student(Person):\n",
    "    def __init__(self, name: str, id: str, **kwargs):\n",
    "        super().__init__(name, **kwargs)\n",
    "        self.id = id\n",
    "\n",
    "    def description(self):\n",
    "        super().description()\n",
    "        print(f'學號:{self.id}')\n",
    "\n",
    "\n",
    "p1 = Student(name='蕭翊廷', id='33')\n",
    "p1.description()"
   ]
  }
 ],
 "metadata": {
  "kernelspec": {
   "display_name": "venv",
   "language": "python",
   "name": "python3"
  },
  "language_info": {
   "codemirror_mode": {
    "name": "ipython",
    "version": 3
   },
   "file_extension": ".py",
   "mimetype": "text/x-python",
   "name": "python",
   "nbconvert_exporter": "python",
   "pygments_lexer": "ipython3",
   "version": "3.10.8"
  }
 },
 "nbformat": 4,
 "nbformat_minor": 2
}
