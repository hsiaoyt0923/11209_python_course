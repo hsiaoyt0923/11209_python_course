{
 "cells": [
  {
   "cell_type": "code",
   "execution_count": 3,
   "metadata": {},
   "outputs": [
    {
     "data": {
      "text/plain": [
       "(5.94418483337567, 1.8257418583505538)"
      ]
     },
     "execution_count": 3,
     "metadata": {},
     "output_type": "execute_result"
    }
   ],
   "source": [
    "import statistics\n",
    "statistics.mean([0,5,9,14])\n",
    "statistics.mean([5, 6, 8, 9])\n",
    "statistics.stdev([0,5,9,14]) , statistics.stdev([5, 6, 8, 9])"
   ]
  },
  {
   "cell_type": "code",
   "execution_count": 4,
   "metadata": {},
   "outputs": [
    {
     "data": {
      "text/plain": [
       "8.712129999831063"
      ]
     },
     "execution_count": 4,
     "metadata": {},
     "output_type": "execute_result"
    }
   ],
   "source": [
    "import statistics\n",
    "statistics.log(22000/20000, 10) / statistics.log(1.011, 10)"
   ]
  },
  {
   "cell_type": "code",
   "execution_count": 1,
   "metadata": {},
   "outputs": [
    {
     "name": "stdout",
     "output_type": "stream",
     "text": [
      "x is greater than y\n"
     ]
    }
   ],
   "source": [
    "x = 73\n",
    "y = 55\n",
    "\n",
    "#Write an if statement that prints \"x is greater than y\" when true\n",
    "if x > y:\n",
    "  print(\"x is greater than y\")"
   ]
  },
  {
   "cell_type": "code",
   "execution_count": 2,
   "metadata": {},
   "outputs": [
    {
     "name": "stdout",
     "output_type": "stream",
     "text": [
      "cucumber is not a fruit.\n"
     ]
    }
   ],
   "source": [
    "fruits = [\"apple\",\"orange\",\"banana\",\"grape\",\"pear\"]\n",
    "item = \"cucumber\"\n",
    "\n",
    "#Write an if-else statement that prints \"[item] is a fruit\" or \"[item] is not a fruit\" \n",
    "#depending on whether it's in the list of fruits\n",
    "if item in fruits:\n",
    "    print(f\"{item} is a fruit.\")\n",
    "else:\n",
    "    print(f\"{item} is not a fruit.\" )"
   ]
  }
 ],
 "metadata": {
  "kernelspec": {
   "display_name": ".venv",
   "language": "python",
   "name": "python3"
  },
  "language_info": {
   "codemirror_mode": {
    "name": "ipython",
    "version": 3
   },
   "file_extension": ".py",
   "mimetype": "text/x-python",
   "name": "python",
   "nbconvert_exporter": "python",
   "pygments_lexer": "ipython3",
   "version": "3.10.8"
  },
  "orig_nbformat": 4
 },
 "nbformat": 4,
 "nbformat_minor": 2
}
