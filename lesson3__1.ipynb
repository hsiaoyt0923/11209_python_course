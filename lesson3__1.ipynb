{
 "cells": [
  {
   "cell_type": "code",
   "execution_count": null,
   "metadata": {},
   "outputs": [],
   "source": [
    "round(2.555558,2)"
   ]
  },
  {
   "cell_type": "code",
   "execution_count": null,
   "metadata": {},
   "outputs": [],
   "source": [
    "age = 17\n",
    "if age >= 18:\n",
    "    print('成年')\n",
    "else:\n",
    "    print('未成年')"
   ]
  },
  {
   "cell_type": "code",
   "execution_count": null,
   "metadata": {},
   "outputs": [],
   "source": [
    "5 == 5, 5!=5, 5 > 3, 5 < 3"
   ]
  },
  {
   "cell_type": "code",
   "execution_count": null,
   "metadata": {},
   "outputs": [],
   "source": [
    "#學生總分為300\n",
    "#有些學生可以加分10%\n",
    "#如果加分超過300,就以300分為準\n",
    "#不使用try, except\n",
    "s = int(input('請輸入學生分數(最高300分):'))\n",
    "if s <=300:\n",
    "    adjust = input('請問是否符合加分標準?(y.n)')\n",
    "    if adjust == 'y':\n",
    "        s = round(s*1.1)\n",
    "        if s > 300:\n",
    "            s = 300\n",
    "        print(f'學生總分為{s}分')\n",
    "    else:\n",
    "        print(f'學生總分為{s}分')\n",
    "else:\n",
    "    print('學生總分不得超過300分')    "
   ]
  },
  {
   "cell_type": "code",
   "execution_count": null,
   "metadata": {},
   "outputs": [],
   "source": [
    "#except放最後\n",
    "try:\n",
    "    scores = int(input('請輸入學生分數(最高300分)'))\n",
    "    if scores <= 300:\n",
    "        add = input('是否符合加分條件?(y,n)')\n",
    "        if add == 'y':\n",
    "            scores *= 1.05\n",
    "            if scores > 300:\n",
    "                scores = 300\n",
    "            print(f'學生總分:{scores}分')\n",
    "        else:\n",
    "            print(f'學生總分:{scores}分')\n",
    "    else:\n",
    "        print('學生總分不得超過300分')\n",
    "except:\n",
    "    print('輸入格式錯誤')"
   ]
  },
  {
   "cell_type": "code",
   "execution_count": null,
   "metadata": {},
   "outputs": [],
   "source": [
    "#except前置\n",
    "try:\n",
    "    scores = int(input('請輸入學生分數(最高300分)'))\n",
    "except:\n",
    "    print('輸入格式錯誤')\n",
    "else:\n",
    "    if scores <= 300:\n",
    "        add = input('是否符合加分條件?(y,n)')\n",
    "        if add == 'y':\n",
    "            scores *= 1.1\n",
    "            if scores > 300:\n",
    "                scores = 300\n",
    "            print(f'學生總分:{scores}分')\n",
    "        else:\n",
    "            print(f'學生總分:{scores}分')\n",
    "    else:\n",
    "        print('學生總分不得超過300分')\n"
   ]
  },
  {
   "cell_type": "code",
   "execution_count": null,
   "metadata": {},
   "outputs": [],
   "source": [
    "#少一個else\n",
    "try:\n",
    "    scores = int(input('請輸入學生分數(最高300分)'))\n",
    "except:\n",
    "    print('輸入格式錯誤')\n",
    "else:\n",
    "    if scores <= 300:\n",
    "        add = input('是否符合加分條件?(y,n)')\n",
    "        if add == 'y':\n",
    "            scores *= 1.1\n",
    "            if scores > 300:\n",
    "                scores = 300\n",
    "        print(f'學生總分:{scores}分') #往前一tab\n",
    "        #else:\n",
    "            #print(f'學生總分:{scores}分')\n",
    "    else:\n",
    "        print('學生總分不得超過300分')"
   ]
  },
  {
   "cell_type": "code",
   "execution_count": null,
   "metadata": {},
   "outputs": [],
   "source": [
    "#使用PyInputPlus\n",
    "import pyinputplus as pyip\n",
    "pyip.inputInt('請輸入整數:')"
   ]
  },
  {
   "cell_type": "code",
   "execution_count": 14,
   "metadata": {},
   "outputs": [
    {
     "name": "stdout",
     "output_type": "stream",
     "text": [
      "請輸入學生分數(最高300分):220\n",
      "學生總分:231.0\n"
     ]
    }
   ],
   "source": [
    "#使用PyInputPlus\n",
    "import pyinputplus as pyip\n",
    "scores = pyip.inputInt('請輸入學生分數(最高300分):', min=0, max=300)\n",
    "print(scores)\n",
    "add = input('請問是否符合加分條件?(y,n)')\n",
    "if add == 'y':\n",
    "    scores *= 1.05\n",
    "    if scores > 300:\n",
    "        scores = 300\n",
    "print(f'學生總分:{scores}') \n",
    " "
   ]
  },
  {
   "cell_type": "code",
   "execution_count": 23,
   "metadata": {},
   "outputs": [
    {
     "name": "stdout",
     "output_type": "stream",
     "text": [
      "請輸入x:5\n",
      "Yes\n"
     ]
    }
   ],
   "source": [
    "# 如果x不是負數，則傳回值為'Yes'。\n",
    "# 如果x是負數而且為偶數，則傳回值為\"負偶數\"。\n",
    "# 如果x是負數而且為奇數，則傳回值為 x ** 2\n",
    "\n",
    "import pyinputplus as pyip\n",
    "\n",
    "x = pyip.inputInt(\"請輸入x:\")\n",
    "print(x)\n",
    "\n",
    "if x >= 0:\n",
    "    root = 'Yes'\n",
    "else:\n",
    "    if x % 2 == 0:\n",
    "        root = \"負偶數\"\n",
    "    else:\n",
    "        root = x ** 2\n",
    "\n",
    "print(root)"
   ]
  }
 ],
 "metadata": {
  "kernelspec": {
   "display_name": ".venv",
   "language": "python",
   "name": "python3"
  },
  "language_info": {
   "codemirror_mode": {
    "name": "ipython",
    "version": 3
   },
   "file_extension": ".py",
   "mimetype": "text/x-python",
   "name": "python",
   "nbconvert_exporter": "python",
   "pygments_lexer": "ipython3",
   "version": "3.10.8"
  },
  "orig_nbformat": 4
 },
 "nbformat": 4,
 "nbformat_minor": 2
}
