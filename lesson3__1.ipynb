{
 "cells": [
  {
   "cell_type": "code",
   "execution_count": 96,
   "metadata": {},
   "outputs": [
    {
     "data": {
      "text/plain": [
       "2.56"
      ]
     },
     "execution_count": 96,
     "metadata": {},
     "output_type": "execute_result"
    }
   ],
   "source": [
    "round(2.555558,2)"
   ]
  },
  {
   "cell_type": "code",
   "execution_count": 27,
   "metadata": {},
   "outputs": [
    {
     "name": "stdout",
     "output_type": "stream",
     "text": [
      "未成年\n"
     ]
    }
   ],
   "source": [
    "age = 17\n",
    "if age >= 18:\n",
    "    print('成年')\n",
    "else:\n",
    "    print('未成年')"
   ]
  },
  {
   "cell_type": "code",
   "execution_count": 28,
   "metadata": {},
   "outputs": [
    {
     "data": {
      "text/plain": [
       "(True, False, True, False)"
      ]
     },
     "execution_count": 28,
     "metadata": {},
     "output_type": "execute_result"
    }
   ],
   "source": [
    "5 == 5, 5!=5, 5 > 3, 5 < 3"
   ]
  },
  {
   "cell_type": "code",
   "execution_count": 80,
   "metadata": {},
   "outputs": [
    {
     "name": "stdout",
     "output_type": "stream",
     "text": [
      "學生總分為110分\n"
     ]
    }
   ],
   "source": [
    "#學生總分為300\n",
    "#有些學生可以加分10%\n",
    "#如果加分超過300,就以300分為準\n",
    "#不使用try, except\n",
    "s = int(input('請輸入學生分數(最高300分):'))\n",
    "if s <=300:\n",
    "    adjust = input('請問是否符合加分標準?(y.n)')\n",
    "    if adjust == 'y':\n",
    "        s = round(s*1.1)\n",
    "        if s > 300:\n",
    "            s = 300\n",
    "        print(f'學生總分為{s}分')\n",
    "    else:\n",
    "        print(f'學生總分為{s}分')\n",
    "else:\n",
    "    print('學生總分不得超過300分')    "
   ]
  },
  {
   "cell_type": "code",
   "execution_count": 93,
   "metadata": {},
   "outputs": [
    {
     "name": "stdout",
     "output_type": "stream",
     "text": [
      "學生總分:300分\n"
     ]
    }
   ],
   "source": [
    "#except放最後\n",
    "try:\n",
    "    scores = int(input('請輸入學生分數(最高300分)'))\n",
    "    if scores <= 300:\n",
    "        add = input('是否符合加分條件?(y,n)')\n",
    "        if add == 'y':\n",
    "            scores *= 1.05\n",
    "            if scores > 300:\n",
    "                scores = 300\n",
    "            print(f'學生總分:{scores}分')\n",
    "        else:\n",
    "            print(f'學生總分:{scores}分')\n",
    "    else:\n",
    "        print('學生總分不得超過300分')\n",
    "except:\n",
    "    print('輸入格式錯誤')"
   ]
  },
  {
   "cell_type": "code",
   "execution_count": 106,
   "metadata": {},
   "outputs": [
    {
     "name": "stdout",
     "output_type": "stream",
     "text": [
      "學生總分:300分\n"
     ]
    }
   ],
   "source": [
    "#except前置\n",
    "try:\n",
    "    scores = int(input('請輸入學生分數(最高300分)'))\n",
    "except:\n",
    "    print('輸入格式錯誤')\n",
    "else:\n",
    "    if scores <= 300:\n",
    "        add = input('是否符合加分條件?(y,n)')\n",
    "        if add == 'y':\n",
    "            scores *= 1.1\n",
    "            if scores > 300:\n",
    "                scores = 300\n",
    "            print(f'學生總分:{scores}分')\n",
    "        else:\n",
    "            print(f'學生總分:{scores}分')\n",
    "    else:\n",
    "        print('學生總分不得超過300分')\n"
   ]
  },
  {
   "cell_type": "code",
   "execution_count": 123,
   "metadata": {},
   "outputs": [
    {
     "name": "stdout",
     "output_type": "stream",
     "text": [
      "學生總分:220.00000000000003分\n"
     ]
    }
   ],
   "source": [
    "#少一個else\n",
    "try:\n",
    "    scores = int(input('請輸入學生分數(最高300分)'))\n",
    "except:\n",
    "    print('輸入格式錯誤')\n",
    "else:\n",
    "    if scores <= 300:\n",
    "        add = input('是否符合加分條件?(y,n)')\n",
    "        if add == 'y':\n",
    "            scores *= 1.1\n",
    "            if scores > 300:\n",
    "                scores = 300\n",
    "        print(f'學生總分:{scores}分') #往前一tab\n",
    "        #else:\n",
    "            #print(f'學生總分:{scores}分')\n",
    "    else:\n",
    "        print('學生總分不得超過300分')"
   ]
  },
  {
   "cell_type": "code",
   "execution_count": 1,
   "metadata": {},
   "outputs": [
    {
     "ename": "NameError",
     "evalue": "name 'inputNum' is not defined",
     "output_type": "error",
     "traceback": [
      "\u001b[1;31m---------------------------------------------------------------------------\u001b[0m",
      "\u001b[1;31mNameError\u001b[0m                                 Traceback (most recent call last)",
      "\u001b[1;32mc:\\Users\\Eddie\\OneDrive\\文件\\GitHub\\11209_python_school\\lesson3__1.ipynb Cell 8\u001b[0m line \u001b[0;36m3\n\u001b[0;32m      <a href='vscode-notebook-cell:/c%3A/Users/Eddie/OneDrive/%E6%96%87%E4%BB%B6/GitHub/11209_python_school/lesson3__1.ipynb#X10sZmlsZQ%3D%3D?line=0'>1</a>\u001b[0m \u001b[39m#使用PyInputPlus\u001b[39;00m\n\u001b[0;32m      <a href='vscode-notebook-cell:/c%3A/Users/Eddie/OneDrive/%E6%96%87%E4%BB%B6/GitHub/11209_python_school/lesson3__1.ipynb#X10sZmlsZQ%3D%3D?line=1'>2</a>\u001b[0m \u001b[39mimport\u001b[39;00m \u001b[39mpyinputplus\u001b[39;00m \u001b[39mas\u001b[39;00m \u001b[39mpyip\u001b[39;00m\n\u001b[1;32m----> <a href='vscode-notebook-cell:/c%3A/Users/Eddie/OneDrive/%E6%96%87%E4%BB%B6/GitHub/11209_python_school/lesson3__1.ipynb#X10sZmlsZQ%3D%3D?line=2'>3</a>\u001b[0m inputNum(\u001b[39m'\u001b[39m\u001b[39m29\u001b[39m\u001b[39m'\u001b[39m)\n",
      "\u001b[1;31mNameError\u001b[0m: name 'inputNum' is not defined"
     ]
    }
   ],
   "source": [
    "#使用PyInputPlus\n",
    "import pyinputplus as pyip\n"
   ]
  },
  {
   "cell_type": "code",
   "execution_count": 30,
   "metadata": {},
   "outputs": [
    {
     "name": "stdout",
     "output_type": "stream",
     "text": [
      "請輸入學生分數(最高300分):100\n",
      "學生總分:105.0\n"
     ]
    }
   ],
   "source": [
    "import pyinputplus as pyip\n",
    "scores = pyip.inputInt('請輸入學生分數(最高300分):', min=0, max=300)\n",
    "print(scores)\n",
    "add = input('請問是否符合加分條件?(y,n)')\n",
    "if add == 'y':\n",
    "    scores *= 1.05\n",
    "    if scores > 300:\n",
    "        scores = 300\n",
    "    print(f'學生總分:{scores}') \n",
    "else:\n",
    "    print(f'學生總分:{scores}') "
   ]
  }
 ],
 "metadata": {
  "kernelspec": {
   "display_name": ".venv",
   "language": "python",
   "name": "python3"
  },
  "language_info": {
   "codemirror_mode": {
    "name": "ipython",
    "version": 3
   },
   "file_extension": ".py",
   "mimetype": "text/x-python",
   "name": "python",
   "nbconvert_exporter": "python",
   "pygments_lexer": "ipython3",
   "version": "3.10.8"
  },
  "orig_nbformat": 4
 },
 "nbformat": 4,
 "nbformat_minor": 2
}
