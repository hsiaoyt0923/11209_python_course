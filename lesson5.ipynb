{
 "cells": [
  {
   "cell_type": "code",
   "execution_count": 23,
   "metadata": {},
   "outputs": [
    {
     "name": "stdout",
     "output_type": "stream",
     "text": [
      "金額不得為負\n"
     ]
    }
   ],
   "source": [
    "#輸入顧客購買金額，若金額在\n",
    "#100000元打8折. \n",
    "#50000打85折. \n",
    "#30000打9折. \n",
    "#10000打95折. \n",
    "\n",
    "#請輸入購買金額:130000\n",
    "#實付金額是: 104000.0 元\n",
    "\n",
    "try:\n",
    "    amount = int(input('請輸入購買金額'))\n",
    "except:\n",
    "    print('輸入格式錯誤')\n",
    "else:\n",
    "    if amount >= 100000:\n",
    "        amount *= 0.8\n",
    "    elif amount >= 50000:\n",
    "        amount *= 0.85\n",
    "    elif amount >= 30000:\n",
    "        amount *= 0.9\n",
    "    elif amount >= 10000:\n",
    "        amount *= 0.95\n",
    "    else:\n",
    "        amount *= 1\n",
    "    round(amount)\n",
    "\n",
    "if amount >= 0:\n",
    "    print(f'實付金額是{amount}元')\n",
    "else:\n",
    "    print('金額不得為負')"
   ]
  },
  {
   "cell_type": "code",
   "execution_count": 66,
   "metadata": {},
   "outputs": [
    {
     "name": "stdout",
     "output_type": "stream",
     "text": [
      "實付金額是100元\n"
     ]
    }
   ],
   "source": [
    "#輸入顧客購買金額，\n",
    "#滿千送百後再打折\n",
    "#100000元打8折. \n",
    "#50000打85折. \n",
    "#30000打9折. \n",
    "#10000打95折. \n",
    "\n",
    "try:\n",
    "    amount = int(input('請輸入購買金額'))\n",
    "except:\n",
    "    print('輸入格式錯誤')\n",
    "else:\n",
    "    discount = amount // 1000 * 100\n",
    "    amount -= discount \n",
    "    \n",
    "    if amount >= 100000:\n",
    "        amount *= 0.8\n",
    "    elif amount >= 50000:\n",
    "        amount *= 0.85\n",
    "    elif amount >= 30000:\n",
    "        amount *= 0.9\n",
    "    elif amount >= 10000:\n",
    "        amount *= 0.95\n",
    "    else:\n",
    "        amount *= 1\n",
    "    round(amount)\n",
    "\n",
    "if amount >= 0:\n",
    "    print(f'實付金額是{amount}元')\n",
    "else:\n",
    "    print('金額不得為負')"
   ]
  },
  {
   "cell_type": "code",
   "execution_count": 65,
   "metadata": {},
   "outputs": [
    {
     "name": "stdout",
     "output_type": "stream",
     "text": [
      "請輸入國文分數99\n",
      "請輸入數學分數99\n",
      "獎金:0\n"
     ]
    }
   ],
   "source": [
    "import pyinputplus as pyip\n",
    "chinese = pyip.inputInt('請輸入國文分數')\n",
    "print(chinese)\n",
    "math = pyip.inputInt('請輸入數學分數')\n",
    "print(math)\n",
    "\n",
    "if chinese == 100 and math == 100:\n",
    "    bonus = 1000\n",
    "elif chinese == 100 or math == 100:\n",
    "    bonus = 500\n",
    "else:\n",
    "    bonus = 0\n",
    "\n",
    "print(f'獎金:{bonus}')"
   ]
  }
 ],
 "metadata": {
  "kernelspec": {
   "display_name": ".venv",
   "language": "python",
   "name": "python3"
  },
  "language_info": {
   "codemirror_mode": {
    "name": "ipython",
    "version": 3
   },
   "file_extension": ".py",
   "mimetype": "text/x-python",
   "name": "python",
   "nbconvert_exporter": "python",
   "pygments_lexer": "ipython3",
   "version": "3.10.8"
  },
  "orig_nbformat": 4
 },
 "nbformat": 4,
 "nbformat_minor": 2
}
