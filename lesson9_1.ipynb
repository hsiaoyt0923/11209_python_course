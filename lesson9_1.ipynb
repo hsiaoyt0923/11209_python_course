{
 "cells": [
  {
   "cell_type": "code",
   "execution_count": 2,
   "metadata": {},
   "outputs": [
    {
     "name": "stdout",
     "output_type": "stream",
     "text": [
      "請輸入第1個月存入金額:5000\n",
      "距離目標還差34800元\n",
      "--------------------------\n",
      "請輸入第2個月存入金額:5000\n",
      "距離目標還差29800元\n",
      "--------------------------\n",
      "請輸入第3個月存入金額:15000\n",
      "距離目標還差14800元\n",
      "--------------------------\n",
      "請輸入第4個月存入金額:10000\n",
      "距離目標還差4800元\n",
      "--------------------------\n",
      "請輸入第5個月存入金額:3000\n",
      "距離目標還差1800元\n",
      "--------------------------\n",
      "請輸入第6個月存入金額:2000\n",
      "--------------------------\n",
      "恭喜!已經存夠了，總共存了6個月，40000元\n"
     ]
    }
   ],
   "source": [
    "import pyinputplus as pyip\n",
    "\n",
    "deposit = 0 \n",
    "m = 0\n",
    "\n",
    "while deposit < 39800:\n",
    "    m += 1\n",
    "    mouthly_input = pyip.inputInt(f'請輸入第{m}個月存入金額:')\n",
    "    print(mouthly_input)\n",
    "    deposit += mouthly_input\n",
    "    if deposit < 39800:\n",
    "        print(f'距離目標還差{39800-deposit}元')\n",
    "    print('--------------------------')\n",
    "\n",
    "print(f'恭喜!已經存夠了，總共存了{m}個月，{deposit}元')\n"
   ]
  }
 ],
 "metadata": {
  "kernelspec": {
   "display_name": ".venv",
   "language": "python",
   "name": "python3"
  },
  "language_info": {
   "codemirror_mode": {
    "name": "ipython",
    "version": 3
   },
   "file_extension": ".py",
   "mimetype": "text/x-python",
   "name": "python",
   "nbconvert_exporter": "python",
   "pygments_lexer": "ipython3",
   "version": "3.10.8"
  },
  "orig_nbformat": 4
 },
 "nbformat": 4,
 "nbformat_minor": 2
}
