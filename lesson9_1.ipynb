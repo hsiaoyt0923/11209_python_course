{
 "cells": [
  {
   "cell_type": "code",
   "execution_count": 2,
   "metadata": {},
   "outputs": [
    {
     "name": "stdout",
     "output_type": "stream",
     "text": [
      "請輸入第1個月存入金額:5000\n",
      "距離目標還差34800元\n",
      "--------------------------\n",
      "請輸入第2個月存入金額:5000\n",
      "距離目標還差29800元\n",
      "--------------------------\n",
      "請輸入第3個月存入金額:15000\n",
      "距離目標還差14800元\n",
      "--------------------------\n",
      "請輸入第4個月存入金額:10000\n",
      "距離目標還差4800元\n",
      "--------------------------\n",
      "請輸入第5個月存入金額:3000\n",
      "距離目標還差1800元\n",
      "--------------------------\n",
      "請輸入第6個月存入金額:2000\n",
      "--------------------------\n",
      "恭喜!已經存夠了，總共存了6個月，40000元\n"
     ]
    }
   ],
   "source": [
    "import pyinputplus as pyip\n",
    "\n",
    "deposit = 0 \n",
    "m = 0\n",
    "\n",
    "while deposit < 39800:\n",
    "    m += 1\n",
    "    mouthly_input = pyip.inputInt(f'請輸入第{m}個月存入金額:')\n",
    "    print(mouthly_input)\n",
    "    deposit += mouthly_input\n",
    "    if deposit < 39800:\n",
    "        print(f'距離目標還差{39800-deposit}元')\n",
    "    print('--------------------------')\n",
    "\n",
    "print(f'恭喜!已經存夠了，總共存了{m}個月，{deposit}元')\n"
   ]
  },
  {
   "cell_type": "code",
   "execution_count": null,
   "metadata": {},
   "outputs": [],
   "source": [
    "# break 跳出迴圈\n",
    "\n",
    "while(True):\n",
    "    stuff = input('請輸入小寫英文字[按q會離開]:')\n",
    "    if stuff == 'q':\n",
    "        break\n",
    "    print(stuff)"
   ]
  },
  {
   "cell_type": "code",
   "execution_count": 9,
   "metadata": {},
   "outputs": [
    {
     "name": "stdout",
     "output_type": "stream",
     "text": [
      "1的平方:1\n",
      "3的平方:9\n",
      "5的平方:25\n",
      "7的平方:49\n",
      "9的平方:81\n",
      "不做動作，請重新輸入\n",
      "不做動作，請重新輸入\n",
      "不做動作，請重新輸入\n",
      "豬頭\n",
      "豬頭\n"
     ]
    }
   ],
   "source": [
    "# continue\n",
    "\n",
    "while(True):          #一開始要先進迴圈\n",
    "    keyin = input('請輸入整數[按q會離開]:')\n",
    "    if keyin == 'q':\n",
    "        break\n",
    "    try:\n",
    "        value = int(keyin)\n",
    "    except:\n",
    "        print('豬頭')\n",
    "        continue      #直接跳回迴圈一開始\n",
    "    else:\n",
    "        if value % 2 == 0:\n",
    "            print('不做動作，請重新輸入')\n",
    "            continue  #直接跳回迴圈一開始\n",
    "        else:\n",
    "            print(f'{value}的平方:{value ** 2}')"
   ]
  },
  {
   "cell_type": "code",
   "execution_count": null,
   "metadata": {},
   "outputs": [],
   "source": [
    "while(True):\n",
    "    try:\n",
    "        key_in = input(\"請輸入整數\")\n",
    "        input_value = int(key_in)\n",
    "    except:\n",
    "        print(f\"{key_in}格式錯誤，請輸入整數\")\n",
    "        continue\n",
    "    else:\n",
    "        if 10 <= input_value <= 20:\n",
    "            print(input_value)\n",
    "            break\n",
    "        else:\n",
    "            print('數值必須在10~20之間')\n",
    "            continue"
   ]
  }
 ],
 "metadata": {
  "kernelspec": {
   "display_name": ".venv",
   "language": "python",
   "name": "python3"
  },
  "language_info": {
   "codemirror_mode": {
    "name": "ipython",
    "version": 3
   },
   "file_extension": ".py",
   "mimetype": "text/x-python",
   "name": "python",
   "nbconvert_exporter": "python",
   "pygments_lexer": "ipython3",
   "version": "3.10.8"
  },
  "orig_nbformat": 4
 },
 "nbformat": 4,
 "nbformat_minor": 2
}
