{
 "cells": [
  {
   "cell_type": "code",
   "execution_count": 1,
   "metadata": {},
   "outputs": [],
   "source": [
    "import datasource\n",
    "import pandas as pd"
   ]
  },
  {
   "cell_type": "code",
   "execution_count": 2,
   "metadata": {},
   "outputs": [
    {
     "name": "stdout",
     "output_type": "stream",
     "text": [
      "                               0                    1    2  \\\n",
      "0       YouBike2.0_敦化南路二段293巷口南側  2023-11-16 14:29:15  大安區   \n",
      "1              YouBike2.0_敦化基隆路口  2023-11-16 14:29:15  大安區   \n",
      "2          YouBike2.0_安和路二段181巷口  2023-11-16 14:29:15  大安區   \n",
      "3     YouBike2.0_臨江街夜市(通化街101巷口)  2023-11-16 14:29:15  大安區   \n",
      "4          YouBike2.0_臨江街夜市(基隆路)  2023-11-16 14:29:15  大安區   \n",
      "...                          ...                  ...  ...   \n",
      "1317             YouBike2.0_金華公園  2023-11-16 14:40:19  大安區   \n",
      "1318      YouBike2.0_捷運東門站(3號出口)  2023-11-16 14:40:19  大安區   \n",
      "1319             YouBike2.0_金甌女中  2023-11-16 14:40:19  大安區   \n",
      "1320             YouBike2.0_金杭公園  2023-11-16 14:40:19  大安區   \n",
      "1321           YouBike2.0_愛國金山路口  2023-11-16 14:40:19  大安區   \n",
      "\n",
      "                          3   4   5   6  \n",
      "0             敦化南路二段293巷口南側  14   2  12  \n",
      "1                敦化南路二段218號  29  19  10  \n",
      "2                 安和路二段185號  17   6  11  \n",
      "3                   通化街111號  30   0  30  \n",
      "4                 基隆路二段108號  17   0  17  \n",
      "...                     ...  ..  ..  ..  \n",
      "1317              金華街249號對面  35   1  34  \n",
      "1318             信義路二段128號前  15   0  15  \n",
      "1319        信義路二段與杭州南路二段東南側  12   6   6  \n",
      "1320  愛國東路21巷與杭州南路二段25巷口東南側  20   2  18  \n",
      "1321        愛國東路與杭州南路二段口西南側  33  31   2  \n",
      "\n",
      "[1322 rows x 7 columns]\n"
     ]
    }
   ],
   "source": [
    "data:list[tuple] = datasource.lastest_datetime_data()\n",
    "dataFrame = pd.DataFrame(data)\n",
    "print(dataFrame)"
   ]
  }
 ],
 "metadata": {
  "kernelspec": {
   "display_name": "Python 3",
   "language": "python",
   "name": "python3"
  },
  "language_info": {
   "codemirror_mode": {
    "name": "ipython",
    "version": 3
   },
   "file_extension": ".py",
   "mimetype": "text/x-python",
   "name": "python",
   "nbconvert_exporter": "python",
   "pygments_lexer": "ipython3",
   "version": "3.10.13"
  }
 },
 "nbformat": 4,
 "nbformat_minor": 2
}
