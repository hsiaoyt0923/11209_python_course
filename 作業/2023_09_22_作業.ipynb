{
 "cells": [
  {
   "cell_type": "code",
   "execution_count": 21,
   "metadata": {},
   "outputs": [
    {
     "name": "stdout",
     "output_type": "stream",
     "text": [
      "num的因數: 1, 3, 9, 27, "
     ]
    }
   ],
   "source": [
    "#求所有因數\n",
    "num = int(input(\"請輸入整數，求所有因數:\"))\n",
    "print('num的因數:', end=' ')\n",
    "\n",
    "for x in range(1,num+1):\n",
    "    if num % x == 0:\n",
    "        print(x, end=', ')"
   ]
  },
  {
   "cell_type": "code",
   "execution_count": 22,
   "metadata": {},
   "outputs": [
    {
     "name": "stdout",
     "output_type": "stream",
     "text": [
      "請輸入2數,求2數公因數:\n",
      "第一個數為10\n",
      "第二個數為25\n",
      "兩數的公因數為: 1, 5, "
     ]
    }
   ],
   "source": [
    "#求公因數\n",
    "print(\"請輸入2數,求2數公因數:\")\n",
    "n = int(input('請輸入第1個數:'))\n",
    "print(f'第一個數為{n}')\n",
    "m = int(input('請輸入第2個數:'))\n",
    "print(f'第二個數為{m}')\n",
    "print('兩數的公因數為:', end=' ')\n",
    "\n",
    "for x in range(1, n+1):\n",
    "    if n % x == 0:\n",
    "        for y in range(1, m+1):\n",
    "            if m % y == 0 and x == y:\n",
    "                print(y, end=', ')\n"
   ]
  },
  {
   "cell_type": "code",
   "execution_count": 26,
   "metadata": {},
   "outputs": [
    {
     "name": "stdout",
     "output_type": "stream",
     "text": [
      "37是一個質數\n"
     ]
    }
   ],
   "source": [
    "#2~100,每一個的質數\n",
    "end = int(input(\"請輸入end值:\"))\n",
    "\n",
    "if end < 2:\n",
    "    print('質數必須為大於一的正整數')\n",
    "else:\n",
    "    total = 0\n",
    "    for i in range(1,end+1):\n",
    "        if end % i == 0:\n",
    "            total += i\n",
    "    if total == 1 + end:\n",
    "        print(f'{end}是一個質數')\n",
    "    else:\n",
    "        print(f'{end}不是一個質數')"
   ]
  },
  {
   "cell_type": "code",
   "execution_count": 51,
   "metadata": {},
   "outputs": [
    {
     "name": "stdout",
     "output_type": "stream",
     "text": [
      "===============猜數字遊戲=================:\n",
      "\n",
      "猜數字範圍1~100:30\n",
      "提示:再大一點\n",
      "您已經猜了1次\n",
      "\n",
      "猜數字範圍30~100:60\n",
      "提示:再大一點\n",
      "您已經猜了2次\n",
      "\n",
      "猜數字範圍60~100:80\n",
      "提示:再小一點\n",
      "您已經猜了3次\n",
      "比60大\n",
      "\n",
      "猜數字範圍60~80:70\n",
      "提示:再小一點\n",
      "您已經猜了4次\n",
      "比70小\n",
      "\n",
      "猜數字範圍60~70:65\n",
      "提示:再大一點\n",
      "您已經猜了5次\n",
      "\n",
      "猜數字範圍65~70:66\n",
      "提示:再大一點\n",
      "您已經猜了6次\n",
      "\n",
      "猜數字範圍66~70:67\n",
      "提示:再大一點\n",
      "您已經猜了7次\n",
      "比67大\n",
      "\n",
      "猜數字範圍67~70:68\n",
      "提示:再大一點\n",
      "您已經猜了8次\n",
      "\n",
      "猜數字範圍68~70:69\n",
      "您猜中了,答案是69\n",
      "您總共猜了9次\n"
     ]
    }
   ],
   "source": [
    "# 猜數字遊戲\n",
    "import random\n",
    "min = 1\n",
    "max = 100\n",
    "count = 0\n",
    "target = random.randint(min, max)\n",
    "print(\"===============猜數字遊戲=================:\")\n",
    "while(True):\n",
    "   try:\n",
    "      keyin = input(f\"猜數字範圍{min}~{max}[按q終止遊戲]\")\n",
    "      if keyin == 'q':\n",
    "         print('遊戲中止')\n",
    "         break\n",
    "      keyinInt = int(keyin)\n",
    "      if keyinInt >= max:         \n",
    "         print(f'比{max}小')\n",
    "         continue\n",
    "      if keyinInt <= min:                  \n",
    "         print(f'比{min}大')\n",
    "         continue\n",
    "   except:\n",
    "      print('格式錯誤，請輸入整數')\n",
    "   else:\n",
    "      count += 1\n",
    "      print()\n",
    "      print(f'猜數字範圍{min}~{max}:',end='')\n",
    "      print(keyinInt)\n",
    "      if keyinInt == target:\n",
    "         print(f'您猜中了,答案是{keyinInt}')\n",
    "         print(f'您總共猜了{count}次')\n",
    "         break\n",
    "      elif keyinInt < target:\n",
    "         min = keyinInt\n",
    "         print('提示:再大一點')         \n",
    "         print(f'您已經猜了{count}次')\n",
    "         continue\n",
    "      else:\n",
    "         max = keyinInt\n",
    "         print('提示:再小一點')         \n",
    "         print(f'您已經猜了{count}次')"
   ]
  }
 ],
 "metadata": {
  "kernelspec": {
   "display_name": ".venv",
   "language": "python",
   "name": "python3"
  },
  "language_info": {
   "codemirror_mode": {
    "name": "ipython",
    "version": 3
   },
   "file_extension": ".py",
   "mimetype": "text/x-python",
   "name": "python",
   "nbconvert_exporter": "python",
   "pygments_lexer": "ipython3",
   "version": "3.10.8"
  },
  "orig_nbformat": 4
 },
 "nbformat": 4,
 "nbformat_minor": 2
}
