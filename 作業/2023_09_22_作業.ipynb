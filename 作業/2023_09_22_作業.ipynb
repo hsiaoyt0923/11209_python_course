{
 "cells": [
  {
   "cell_type": "code",
   "execution_count": 35,
   "metadata": {},
   "outputs": [
    {
     "name": "stdout",
     "output_type": "stream",
     "text": [
      "num的因數: 1, 3, 9, 27, "
     ]
    }
   ],
   "source": [
    "#求所有因數\n",
    "\n",
    "num = int(input(\"請輸入整數，求所有因數:\"))\n",
    "print('num的因數:', end=' ')\n",
    "\n",
    "for x in range(1,num+1):\n",
    "    if num % x == 0:\n",
    "        print(x, end=', ')"
   ]
  },
  {
   "cell_type": "code",
   "execution_count": 34,
   "metadata": {},
   "outputs": [
    {
     "name": "stdout",
     "output_type": "stream",
     "text": [
      "請輸入2數,求2數公因數:\n",
      "第一個數為40\n",
      "第二個數為60\n",
      "兩數的公因數為: 1, 2, 4, 5, 10, 20, "
     ]
    }
   ],
   "source": [
    "#求公因數\n",
    "\n",
    "print(\"請輸入2數,求2數公因數:\")\n",
    "n = int(input('請輸入第1個數:'))\n",
    "print(f'第一個數為{n}')\n",
    "m = int(input('請輸入第2個數:'))\n",
    "print(f'第二個數為{m}')\n",
    "print('兩數的公因數為:', end=' ')\n",
    "\n",
    "for x in range(1, n+1):\n",
    "    if n % x == 0:\n",
    "        for y in range(1, m+1):\n",
    "            if m % y == 0 and x == y:\n",
    "                print(y, end=', ')\n"
   ]
  },
  {
   "cell_type": "code",
   "execution_count": 13,
   "metadata": {},
   "outputs": [
    {
     "name": "stdout",
     "output_type": "stream",
     "text": [
      "29是一個質數\n"
     ]
    }
   ],
   "source": [
    "#2~100,每一個的質數\n",
    "end = int(input(\"請輸入end值:\"))\n",
    "\n",
    "if end < 2:\n",
    "    print('質數必須為大於一的正整數')\n",
    "else:\n",
    "    total = 0\n",
    "    for i in range(1,end+1):\n",
    "        if end % i == 0:\n",
    "            total += i\n",
    "    if total == 1 + end:\n",
    "        print(f'{end}是一個質數')\n",
    "    else:\n",
    "        print(f'{end}不是一個質數')"
   ]
  },
  {
   "cell_type": "markdown",
   "metadata": {},
   "source": [
    "```\n",
    "- 猜中要告知猜了幾次\n",
    "- 沒猜中要有提醒\n",
    "import random\n",
    "min = 1\n",
    "max = 100\n",
    "count = 0\n",
    "target = random.randint(min, max)\n",
    "print(\"===============猜數字遊戲=================:\\n\")\n",
    "while(True):\n",
    "   keyin = input(f\"猜數字範圍{min}~{max}\")\n",
    "例如:\n",
    "\n",
    "要猜的數值是:34\n",
    "\n",
    "猜數字範圍1~100:50\n",
    "提示:\n",
    "再小一點\n",
    "您已經猜了1次\n",
    "\n",
    "猜數字範圍1~49:10\n",
    "提示:\n",
    "再大一點\n",
    "您已經猜了2次\n",
    "猜數字範圍11~49:34\n",
    "\n",
    "您猜中了,答案是34\n",
    "您總共猜了3次\n",
    "```"
   ]
  }
 ],
 "metadata": {
  "kernelspec": {
   "display_name": ".venv",
   "language": "python",
   "name": "python3"
  },
  "language_info": {
   "codemirror_mode": {
    "name": "ipython",
    "version": 3
   },
   "file_extension": ".py",
   "mimetype": "text/x-python",
   "name": "python",
   "nbconvert_exporter": "python",
   "pygments_lexer": "ipython3",
   "version": "3.10.8"
  },
  "orig_nbformat": 4
 },
 "nbformat": 4,
 "nbformat_minor": 2
}
