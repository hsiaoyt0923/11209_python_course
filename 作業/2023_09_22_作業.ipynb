{
 "cells": [
  {
   "cell_type": "code",
   "execution_count": 21,
   "metadata": {},
   "outputs": [
    {
     "name": "stdout",
     "output_type": "stream",
     "text": [
      "num的因數: 1 2 5 10 "
     ]
    }
   ],
   "source": [
    "#求所有因數\n",
    "\n",
    "num = int(input(\"請輸入整數，求所有因數:\"))\n",
    "print('num的因數:', end=' ')\n",
    "\n",
    "for x in range(1,num+1):\n",
    "    if num % x == 0:\n",
    "        print(x, end=' ')"
   ]
  },
  {
   "cell_type": "code",
   "execution_count": 33,
   "metadata": {},
   "outputs": [
    {
     "name": "stdout",
     "output_type": "stream",
     "text": [
      "請輸入2數,求2數公因數:\n",
      "第一個數為40\n",
      "第二個數為60\n",
      "兩數的公因數為: 1 2 4 5 10 20 "
     ]
    }
   ],
   "source": [
    "#求公因數\n",
    "\n",
    "print(\"請輸入2數,求2數公因數:\")\n",
    "n = int(input('請輸入第1個數:'))\n",
    "print(f'第一個數為{n}')\n",
    "m = int(input('請輸入第2個數:'))\n",
    "print(f'第二個數為{m}')\n",
    "print('兩數的公因數為:', end=' ')\n",
    "\n",
    "for x in range(1, n+1):\n",
    "    if n % x == 0:\n",
    "        for y in range(1, m+1):\n",
    "            if m % y == 0 and x == y:\n",
    "                print(y, end=' ')\n"
   ]
  },
  {
   "cell_type": "code",
   "execution_count": null,
   "metadata": {},
   "outputs": [],
   "source": [
    "#2~100,每一個的質數\n",
    "end = int(input(\"請輸入end值:\"))\n",
    "print(f\"1到{end}的質數是:\")"
   ]
  }
 ],
 "metadata": {
  "kernelspec": {
   "display_name": ".venv",
   "language": "python",
   "name": "python3"
  },
  "language_info": {
   "codemirror_mode": {
    "name": "ipython",
    "version": 3
   },
   "file_extension": ".py",
   "mimetype": "text/x-python",
   "name": "python",
   "nbconvert_exporter": "python",
   "pygments_lexer": "ipython3",
   "version": "3.10.8"
  },
  "orig_nbformat": 4
 },
 "nbformat": 4,
 "nbformat_minor": 2
}
