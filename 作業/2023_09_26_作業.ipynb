{
 "cells": [
  {
   "cell_type": "code",
   "execution_count": 17,
   "metadata": {},
   "outputs": [
    {
     "name": "stdout",
     "output_type": "stream",
     "text": [
      "2 1 4 2 "
     ]
    }
   ],
   "source": [
    "#骰子遊戲(打香腸)\n",
    "import random\n",
    "def number():\n",
    "    print(random.randrange(1,6),end=' ')\n",
    "    print(random.randrange(1,6),end=' ')\n",
    "    print(random.randrange(1,6),end=' ')\n",
    "    print(random.randrange(1,6),end=' ')\n",
    "number()"
   ]
  }
 ],
 "metadata": {
  "kernelspec": {
   "display_name": ".venv",
   "language": "python",
   "name": "python3"
  },
  "language_info": {
   "codemirror_mode": {
    "name": "ipython",
    "version": 3
   },
   "file_extension": ".py",
   "mimetype": "text/x-python",
   "name": "python",
   "nbconvert_exporter": "python",
   "pygments_lexer": "ipython3",
   "version": "3.10.8"
  },
  "orig_nbformat": 4
 },
 "nbformat": 4,
 "nbformat_minor": 2
}
