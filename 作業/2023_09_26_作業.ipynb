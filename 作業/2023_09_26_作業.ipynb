{
 "cells": [
  {
   "cell_type": "code",
   "execution_count": null,
   "metadata": {},
   "outputs": [],
   "source": [
    "#骰子遊戲(打香腸)\n",
    "import random\n",
    "for i in range(10):\n",
    "    x = sorted(random.choices(range(1,7),k=4))\n",
    "    print(x)\n",
    "    score=''\n",
    "    if (x[0] == x[1] == x[2] == x[3]):\n",
    "        score = (str(x[0])*4)\n",
    "    elif (x[0] != x[1] != x[2] != x[3]):\n",
    "        score = 'None'\n",
    "    elif (x[0] == x[1] == x[2]) or (x[1] == x[2] == x[3]): \n",
    "        score = 'None'\n",
    "    else:\n",
    "        if x[0] == x[1]:\n",
    "            score = x[2] + x[3]\n",
    "        elif x[1] == x[2]:\n",
    "            score = x[0] + x[3]\n",
    "        elif x[2] == x[3]:\n",
    "            score = x[0] + x[1]\n",
    "    print(f'您的分數為:{score}')"
   ]
  },
  {
   "cell_type": "code",
   "execution_count": 113,
   "metadata": {},
   "outputs": [
    {
     "name": "stdout",
     "output_type": "stream",
     "text": [
      "[1, 2, 4, 5]\n",
      "您的分數為:None\n",
      "[1, 1, 3, 3]\n",
      "您的分數為:6\n",
      "[2, 2, 3, 6]\n",
      "您的分數為:9\n",
      "[1, 3, 3, 4]\n",
      "您的分數為:5\n",
      "[1, 2, 3, 4]\n",
      "您的分數為:None\n",
      "[1, 2, 5, 5]\n",
      "您的分數為:3\n",
      "[2, 2, 3, 5]\n",
      "您的分數為:8\n",
      "[4, 6, 6, 6]\n",
      "您的分數為:None\n",
      "[4, 6, 6, 6]\n",
      "您的分數為:None\n",
      "[1, 5, 6, 6]\n",
      "您的分數為:6\n"
     ]
    }
   ],
   "source": [
    "import random\n",
    "for j in range(10):\n",
    "    x = sorted(random.choices(range(1,7),k=4))\n",
    "    print(x)\n",
    "    L = []\n",
    "    score = ''\n",
    "    for i in set(x):\n",
    "        L.append(x.count(i))\n",
    "    if 4 in L:\n",
    "        score = str(x[0])*4\n",
    "    elif 3 in L:\n",
    "        score = 'None'\n",
    "    elif (x[0] != x[1] != x[2] != x[3]):\n",
    "        score = 'None'\n",
    "    else:\n",
    "        if x[0] == x[1]:\n",
    "            score = x[2] + x[3]\n",
    "        elif x[1] == x[2]:\n",
    "            score = x[0] + x[3]\n",
    "        elif x[2] == x[3]:\n",
    "            score = x[0] + x[1]\n",
    "    print(f'您的分數為:{score}') "
   ]
  }
 ],
 "metadata": {
  "kernelspec": {
   "display_name": ".venv",
   "language": "python",
   "name": "python3"
  },
  "language_info": {
   "codemirror_mode": {
    "name": "ipython",
    "version": 3
   },
   "file_extension": ".py",
   "mimetype": "text/x-python",
   "name": "python",
   "nbconvert_exporter": "python",
   "pygments_lexer": "ipython3",
   "version": "3.10.8"
  },
  "orig_nbformat": 4
 },
 "nbformat": 4,
 "nbformat_minor": 2
}
