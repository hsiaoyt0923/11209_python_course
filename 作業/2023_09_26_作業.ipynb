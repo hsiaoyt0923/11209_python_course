{
 "cells": [
  {
   "cell_type": "code",
   "execution_count": null,
   "metadata": {},
   "outputs": [],
   "source": [
    "#骰子遊戲(打香腸)\n",
    "import random\n",
    "for i in range(10):\n",
    "    x = sorted(random.choices(range(1,7),k=4))\n",
    "    print(x)\n",
    "    score=''\n",
    "    if (x[0] == x[1] == x[2] == x[3]):\n",
    "        score = (str(x[0])*4)\n",
    "    elif (x[0] != x[1] != x[2] != x[3]):\n",
    "        score = 'None'\n",
    "    elif (x[0] == x[1] == x[2]) or (x[1] == x[2] == x[3]): \n",
    "        score = 'None'\n",
    "    else:\n",
    "        if x[0] == x[1]:\n",
    "            score = x[2] + x[3]\n",
    "        elif x[1] == x[2]:\n",
    "            score = x[0] + x[3]\n",
    "        elif x[2] == x[3]:\n",
    "            score = x[0] + x[1]\n",
    "    print(f'您的分數為:{score}')"
   ]
  },
  {
   "cell_type": "code",
   "execution_count": null,
   "metadata": {},
   "outputs": [],
   "source": [
    "import random\n",
    "for j in range(10):\n",
    "    x = sorted(random.choices(range(1,7),k=4))\n",
    "    print(x)\n",
    "    L = []\n",
    "    score = ''\n",
    "    for i in set(x):\n",
    "        L.append(x.count(i))\n",
    "    if 4 in L:\n",
    "        score = str(x[0])*4\n",
    "    elif 3 in L:\n",
    "        score = 'None'\n",
    "    elif (x[0] != x[1] != x[2] != x[3]):\n",
    "        score = 'None'\n",
    "    else:\n",
    "        if x[0] == x[1]:\n",
    "            score = x[2] + x[3]\n",
    "        elif x[1] == x[2]:\n",
    "            score = x[0] + x[3]\n",
    "        elif x[2] == x[3]:\n",
    "            score = x[0] + x[1]\n",
    "    print(f'您的分數為:{score}') "
   ]
  },
  {
   "cell_type": "code",
   "execution_count": 53,
   "metadata": {},
   "outputs": [
    {
     "name": "stdout",
     "output_type": "stream",
     "text": [
      "\n",
      "===============擲骰子遊戲=================:\n",
      "\n",
      "[4, 4, 4, 4] 電腦擲骰子點數:160點\n",
      "[4, 4, 4, 4] 您擲骰子點數:160點\n",
      "you lose\n",
      "還要繼續嗎?(y,n)\n",
      "遊戲結束\n"
     ]
    }
   ],
   "source": [
    "import random\n",
    "import pyinputplus as pyip\n",
    "\n",
    "def diceGame():    \n",
    "    j = 0\n",
    "    t = 0\n",
    "    score_f = 0\n",
    "    score_t = 0 \n",
    "    num = [random.randint(1,6) for i in range(4) ]\n",
    "    num = [4,4,4,4]    \n",
    "    print(num,end=\" \")\n",
    "    for x in range(4):\n",
    "        for j in range(x+1,4) :\n",
    "            if num[x] == num[j] :\n",
    "                t += 1\n",
    "                score_t += num[j]\n",
    "            else :\n",
    "                score_f += num[j]\n",
    "    if t == 1 :\n",
    "        point = sum(num)-score_t*2\n",
    "        return point\n",
    "    elif  t == 2:\n",
    "        point = int(sum(num)/2-min(num))\n",
    "        return point\n",
    "    elif  t == 6:\n",
    "        point = int(sum(num)*10)\n",
    "        return point\n",
    "    else :\n",
    "        point = 0\n",
    "        return point \n",
    "\n",
    "\n",
    "while True:\n",
    "    print()\n",
    "    print(\"===============擲骰子遊戲=================:\\n\")     \n",
    "    a = diceGame()\n",
    "    print(f\"電腦擲骰子點數:{a}點\")    \n",
    "    b = diceGame()    \n",
    "    print(f\"您擲骰子點數:{b}點\")\n",
    "    if b > a:\n",
    "        print(\"you win\") \n",
    "    else :\n",
    "        print(\"you lose\")\n",
    "    answer = pyip.inputYesNo(prompt=\"還要繼續嗎?(y,n)\",yesVal='y',noVal='n')\n",
    "    if not (answer == 'y'):\n",
    "        print()\n",
    "        break\n",
    "print(\"遊戲結束\")"
   ]
  },
  {
   "cell_type": "code",
   "execution_count": 50,
   "metadata": {},
   "outputs": [
    {
     "name": "stdout",
     "output_type": "stream",
     "text": [
      "[5, 5, 5, 5]\n",
      "喜提豹子~\n"
     ]
    }
   ],
   "source": [
    "import random\n",
    "number =[random.randint(1, 6) for _ in range(4)]\n",
    "double=triple=quad=None\n",
    "numbers=sorted(number,reverse=True)\n",
    "print(numbers)\n",
    "for num in numbers:\n",
    "    if numbers.count(num) == 2:\n",
    "        double = num\n",
    "    elif numbers.count(num) == 3:\n",
    "        triple = num\n",
    "    elif numbers.count(num) == 4:\n",
    "        quad = num\n",
    "\n",
    "\n",
    "if quad is not None:\n",
    "    print(\"喜提豹子~\")\n",
    "elif triple is not None:\n",
    "    other=[num for num in numbers if num!=triple]\n",
    "    sumother=sum(other)\n",
    "    print(\"歐歐3個一樣沒點~\")\n",
    "elif double is not None:\n",
    "    other=[num for num in numbers if num!=double]\n",
    "    sumother=sum(other)\n",
    "    print(f\"{sumother}點\")\n",
    "else:\n",
    "    print(\"沒點\")"
   ]
  }
 ],
 "metadata": {
  "kernelspec": {
   "display_name": ".venv",
   "language": "python",
   "name": "python3"
  },
  "language_info": {
   "codemirror_mode": {
    "name": "ipython",
    "version": 3
   },
   "file_extension": ".py",
   "mimetype": "text/x-python",
   "name": "python",
   "nbconvert_exporter": "python",
   "pygments_lexer": "ipython3",
   "version": "3.10.8"
  },
  "orig_nbformat": 4
 },
 "nbformat": 4,
 "nbformat_minor": 2
}
