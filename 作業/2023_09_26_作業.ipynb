{
 "cells": [
  {
   "cell_type": "code",
   "execution_count": 107,
   "metadata": {},
   "outputs": [
    {
     "name": "stdout",
     "output_type": "stream",
     "text": [
      "[1, 1, 1, 1]\n",
      "您的分數為:1111\n",
      "[3, 3, 4, 4]\n",
      "您的分數為:8\n",
      "[1, 2, 4, 6]\n",
      "您的分數為:None\n",
      "[2, 2, 4, 6]\n",
      "您的分數為:10\n",
      "[2, 4, 6, 6]\n",
      "您的分數為:6\n",
      "[2, 4, 4, 6]\n",
      "您的分數為:8\n",
      "[2, 3, 5, 6]\n",
      "您的分數為:None\n",
      "[3, 5, 6, 6]\n",
      "您的分數為:8\n",
      "[2, 2, 4, 6]\n",
      "您的分數為:10\n",
      "[1, 1, 2, 4]\n",
      "您的分數為:6\n"
     ]
    }
   ],
   "source": [
    "#骰子遊戲(打香腸)\n",
    "import random\n",
    "for i in range(10):\n",
    "    x = sorted(random.choices(range(1,7),k=4))\n",
    "    print(x)\n",
    "    score=''\n",
    "    if (x[0] == x[1] == x[2] == x[3]):\n",
    "        score = (str(x[0])*4)\n",
    "    elif (x[0] != x[1] != x[2] != x[3]):\n",
    "        score = 'None'\n",
    "    elif (x[0] == x[1] == x[2]) or (x[1] == x[2] == x[3]): \n",
    "        score = 'None'\n",
    "    else:\n",
    "        if x[0] == x[1]:\n",
    "            score = x[2] + x[3]\n",
    "        elif x[1] == x[2]:\n",
    "            score = x[0] + x[3]\n",
    "        elif x[2] == x[3]:\n",
    "            score = x[0] + x[1]\n",
    "    print(f'您的分數為:{score}')"
   ]
  },
  {
   "cell_type": "code",
   "execution_count": 150,
   "metadata": {},
   "outputs": [
    {
     "name": "stdout",
     "output_type": "stream",
     "text": [
      "[1, 4, 4, 6]\n",
      "{1, 4, 6}\n",
      "1\n",
      "2\n",
      "1\n"
     ]
    }
   ],
   "source": [
    "import random\n",
    "x = sorted(random.choices(range(1,7),k=4))\n",
    "print(x)\n",
    "print(set(x))\n",
    "score = ''\n",
    "for i in set(x):\n",
    "    print(x.count(i))\n",
    "\n"
   ]
  },
  {
   "cell_type": "code",
   "execution_count": null,
   "metadata": {},
   "outputs": [],
   "source": [
    "\n",
    "if x.count(i) == 4:\n",
    "    score = 'str(x[0]'*4\n",
    "elif x.count(i) == 3:\n",
    "    score = 'None'\n",
    "elif x.count(i) == 2:\n",
    "    score = x[4]*2\n",
    "else:\n",
    "    score = 'None'\n",
    "\n",
    "print(score)\n"
   ]
  }
 ],
 "metadata": {
  "kernelspec": {
   "display_name": ".venv",
   "language": "python",
   "name": "python3"
  },
  "language_info": {
   "codemirror_mode": {
    "name": "ipython",
    "version": 3
   },
   "file_extension": ".py",
   "mimetype": "text/x-python",
   "name": "python",
   "nbconvert_exporter": "python",
   "pygments_lexer": "ipython3",
   "version": "3.10.8"
  },
  "orig_nbformat": 4
 },
 "nbformat": 4,
 "nbformat_minor": 2
}
