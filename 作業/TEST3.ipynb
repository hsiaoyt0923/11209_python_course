{
 "cells": [
  {
   "cell_type": "code",
   "execution_count": 54,
   "metadata": {},
   "outputs": [],
   "source": [
    "import random\n",
    "\n",
    "class Player:\n",
    "#attribute\n",
    "    def __init__(self, name:str):\n",
    "        self.name = name\n",
    "#method\n",
    "    def play(self):\n",
    "        score = ''\n",
    "        while score == '':   \n",
    "            dice1 = random.randint(1,6)\n",
    "            dice2 = random.randint(1,6)\n",
    "            dice3 = random.randint(1,6)\n",
    "            dice4 = random.randint(1,6) \n",
    "            D = sorted([dice1, dice2, dice3, dice4])\n",
    "            if (D[0] == D[1] == D[2] == D[3]):\n",
    "                score = D[0] + 12\n",
    "            elif (D[0] != D[1] != D[2] != D[3]):\n",
    "                score = ''\n",
    "            elif (D[0] == D[1] == D[2]) or (D[1] == D[2] == D[3]): \n",
    "                score = ''\n",
    "            else:\n",
    "                if D[0] == D[1]:\n",
    "                    score = D[2] + D[3]\n",
    "                elif D[1] == D[2]:\n",
    "                    score = D[0] + D[3]\n",
    "                elif D[2] == D[3]:\n",
    "                    score = D[0] + D[1] \n",
    "        \n",
    "        return f'骰子一:{dice1} 骰子二:{dice2} 骰子三:{dice3} 骰子四:{dice4}\\n{D}\\n得分:{score}'\n",
    "\n",
    "#property\n",
    "    @property\n",
    "    def value(self):\n",
    "        return self.__play()\n",
    "\n",
    "#被呼叫時傳出字串\n",
    "    def __repr__(self) -> str:\n",
    "        descript = f\"姓名:{self.name}\"\n",
    "        return descript"
   ]
  },
  {
   "cell_type": "code",
   "execution_count": null,
   "metadata": {},
   "outputs": [],
   "source": [
    "p1 = Player('甲')\n",
    "print(p1)\n",
    "print(p1.play())\n",
    "print()\n",
    "p2 = Player('乙')\n",
    "print(p2)\n",
    "print(p2.play())"
   ]
  }
 ],
 "metadata": {
  "kernelspec": {
   "display_name": ".venv",
   "language": "python",
   "name": "python3"
  },
  "language_info": {
   "name": "python",
   "version": "3.10.8"
  },
  "orig_nbformat": 4
 },
 "nbformat": 4,
 "nbformat_minor": 2
}
