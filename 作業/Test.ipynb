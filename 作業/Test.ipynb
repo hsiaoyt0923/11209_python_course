{
 "cells": [
  {
   "cell_type": "code",
   "execution_count": 53,
   "metadata": {},
   "outputs": [
    {
     "name": "stdout",
     "output_type": "stream",
     "text": [
      "[6, 4, 4, 2]\n",
      "8點\n"
     ]
    }
   ],
   "source": [
    "import random\n",
    "N =[random.randint(1, 6) for _ in range(4)]\n",
    "double = triple = quad = None\n",
    "print(N)\n",
    "N2=sorted(N,reverse=True)\n",
    "for n in N2:\n",
    "    if N2.count(n) == 2:\n",
    "        double = n\n",
    "    if N2.count(n) == 3:\n",
    "        triple = n\n",
    "    if N2.count(n) == 4:\n",
    "        quad = n\n",
    "\n",
    "if quad is not None:\n",
    "    print(\"豹子\")\n",
    "elif triple is not None:\n",
    "    print(\"沒點\")\n",
    "elif double is not None:\n",
    "    other=[x for x in N2 if x!=double]\n",
    "    print(f\"{sum(other)}點\")\n",
    "else:\n",
    "    print(\"沒點\")"
   ]
  },
  {
   "cell_type": "code",
   "execution_count": 11,
   "metadata": {},
   "outputs": [
    {
     "name": "stdout",
     "output_type": "stream",
     "text": [
      "[3, 5]\n"
     ]
    }
   ],
   "source": [
    "double = 2\n",
    "S = [2,2,3,5]\n",
    "S2 = [x for x in S if x!=double]\n",
    "print(other)"
   ]
  },
  {
   "cell_type": "code",
   "execution_count": 13,
   "metadata": {},
   "outputs": [
    {
     "name": "stdout",
     "output_type": "stream",
     "text": [
      "1\n"
     ]
    }
   ],
   "source": [
    "double = triple = quad = 1\n",
    "print(double)"
   ]
  },
  {
   "cell_type": "code",
   "execution_count": 15,
   "metadata": {},
   "outputs": [
    {
     "data": {
      "text/plain": [
       "True"
      ]
     },
     "execution_count": 15,
     "metadata": {},
     "output_type": "execute_result"
    }
   ],
   "source": [
    "1 == 1 != 2 == 2"
   ]
  },
  {
   "cell_type": "code",
   "execution_count": 7,
   "metadata": {},
   "outputs": [
    {
     "name": "stdout",
     "output_type": "stream",
     "text": [
      "['l', 'l', 'o', 'W', 'o', 'r', 'l', 'd']\n",
      "['H', 'e', 'l']\n",
      "['l', 'o']\n"
     ]
    }
   ],
   "source": [
    "#操作範例:請動手操作，並留意輸出結果\n",
    "#list2.py\n",
    "\n",
    "list1=['H','e','l','l','o', 'W','o','r','l','d']\n",
    "print(list1[2:])\n",
    "print(list1[:3])\n",
    "print(list1[3:5])"
   ]
  },
  {
   "cell_type": "code",
   "execution_count": 11,
   "metadata": {},
   "outputs": [
    {
     "name": "stdout",
     "output_type": "stream",
     "text": [
      "['台中', '高雄', '台南', '花蓮']\n"
     ]
    },
    {
     "data": {
      "text/plain": [
       "['Groucho', 'Chico', 'Harpo', 'Gummo', 'Zeppo']"
      ]
     },
     "execution_count": 11,
     "metadata": {},
     "output_type": "execute_result"
    }
   ],
   "source": [
    "#del\n",
    "#pop()\n",
    "citys = ['台北', '台中', '高雄', '台南', '花蓮']\n",
    "del citys[0]\n",
    "print(citys)\n",
    "['Groucho', 'Chico', 'Harpo', 'Gummo', 'Zeppo']\n",
    "\n",
    "\n",
    "# citys = ['台北', '台中', '高雄', '台南', '花蓮'] \n",
    "# citys[2]\n",
    "# '高雄'\n",
    "# del citys[2]\n",
    "# citys\n",
    "# ['台北', '台中', '台南', '花蓮']\n",
    "# citys[2]\n",
    "# '台南'\n",
    "\n",
    "\n",
    "# all3c = ['筆記電腦', '商用筆電', 'APPLE', 'ASUS', 'HTC'] \n",
    "# all3c.remove('APPLE')\n",
    "# all3c\n",
    "# ['筆記電腦', '商用筆電', 'ASUS', 'HTC']\n",
    "\n",
    "\n",
    "# all3c = ['筆記電腦', '商用筆電', 'APPLE', 'ASUS', 'HTC'] \n",
    "# all3c.pop()\n",
    "# 'HTC'\n",
    "# all3c\n",
    "# ['筆記電腦', '商用筆電', 'APPLE', 'ASUS']\n",
    "# all3c.pop(1)\n",
    "# '商用筆電'\n",
    "# all3c\n",
    "# ['筆記電腦', 'APPLE', 'ASUS']"
   ]
  },
  {
   "cell_type": "code",
   "execution_count": 5,
   "metadata": {},
   "outputs": [
    {
     "ename": "KeyError",
     "evalue": "2",
     "output_type": "error",
     "traceback": [
      "\u001b[1;31m---------------------------------------------------------------------------\u001b[0m",
      "\u001b[1;31mKeyError\u001b[0m                                  Traceback (most recent call last)",
      "\u001b[1;32mc:\\Users\\Eddie\\OneDrive\\文件\\GitHub\\11209_python_school\\作業\\Test.ipynb Cell 7\u001b[0m line \u001b[0;36m2\n\u001b[0;32m      <a href='vscode-notebook-cell:/c%3A/Users/Eddie/OneDrive/%E6%96%87%E4%BB%B6/GitHub/11209_python_school/%E4%BD%9C%E6%A5%AD/Test.ipynb#W6sZmlsZQ%3D%3D?line=0'>1</a>\u001b[0m \u001b[39mdict\u001b[39m \u001b[39m=\u001b[39m {\u001b[39m'\u001b[39m\u001b[39ma\u001b[39m\u001b[39m'\u001b[39m:\u001b[39m1\u001b[39m,\u001b[39m'\u001b[39m\u001b[39mb\u001b[39m\u001b[39m'\u001b[39m:\u001b[39m2\u001b[39m}\n\u001b[1;32m----> <a href='vscode-notebook-cell:/c%3A/Users/Eddie/OneDrive/%E6%96%87%E4%BB%B6/GitHub/11209_python_school/%E4%BD%9C%E6%A5%AD/Test.ipynb#W6sZmlsZQ%3D%3D?line=1'>2</a>\u001b[0m \u001b[39mdict\u001b[39;49m[\u001b[39m2\u001b[39;49m]\n",
      "\u001b[1;31mKeyError\u001b[0m: 2"
     ]
    }
   ],
   "source": [
    "dict = {'a':1,'b':2}\n",
    "dict[2]"
   ]
  }
 ],
 "metadata": {
  "kernelspec": {
   "display_name": ".venv",
   "language": "python",
   "name": "python3"
  },
  "language_info": {
   "codemirror_mode": {
    "name": "ipython",
    "version": 3
   },
   "file_extension": ".py",
   "mimetype": "text/x-python",
   "name": "python",
   "nbconvert_exporter": "python",
   "pygments_lexer": "ipython3",
   "version": "3.10.8"
  },
  "orig_nbformat": 4
 },
 "nbformat": 4,
 "nbformat_minor": 2
}
