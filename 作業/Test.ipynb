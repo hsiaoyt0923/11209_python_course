{
 "cells": [
  {
   "cell_type": "code",
   "execution_count": 133,
   "metadata": {},
   "outputs": [
    {
     "name": "stdout",
     "output_type": "stream",
     "text": [
      "Robert\n",
      "骰子1=2\n",
      "骰子2=3\n",
      "骰子3=2\n",
      "骰子4=4\n",
      "得分=7\n",
      "John\n",
      "骰子1=2\n",
      "骰子2=5\n",
      "骰子3=1\n",
      "骰子4=2\n",
      "得分=6\n"
     ]
    }
   ],
   "source": [
    "import random\n",
    "import statistics\n",
    "\n",
    "class Player:\n",
    "    def __init__(self, name):\n",
    "        self.__dice1 = 0\n",
    "        self.__dice2 = 0\n",
    "        self.__dice3 = 0\n",
    "        self.__dice4 = 0\n",
    "        self.name = name\n",
    "\n",
    "    def __play(self) -> int:\n",
    "        Dice = [self.__dice1, self.__dice2, self.__dice3, self.__dice4]\n",
    "\n",
    "        if len(set(Dice)) == 1:\n",
    "            leopard={4:13,8:14,12:15,16:16,20:17,24:18}\n",
    "            Dice_sum=sum(Dice)\n",
    "            score=leopard.get(Dice_sum)\n",
    "        elif len(set(Dice)) == 4 or (Dice.count(Dice[x]) for x in range(3))== 3:\n",
    "             score = 0\n",
    "        else:\n",
    "            score = sum(Dice) - min(statistics.multimode(Dice)) * 2\n",
    "\n",
    "        return score\n",
    "\n",
    "    @property\n",
    "    def value(self) -> int:\n",
    "        return f'得分={self.__play()}'\n",
    "\n",
    "    def roll_dice(self):\n",
    "        self.__dice1 = random.randint(1, 6)\n",
    "        self.__dice2 = random.randint(1, 6)\n",
    "        self.__dice3 = random.randint(1, 6)\n",
    "        self.__dice4 = random.randint(1, 6)\n",
    "\n",
    "    def __repr__(self) -> str:\n",
    "        descript = \"\"\n",
    "        descript += f\"{self.name}\\n\"\n",
    "        descript += f\"骰子1={self.__dice1}\\n\"\n",
    "        descript += f\"骰子2={self.__dice2}\\n\"\n",
    "        descript += f\"骰子3={self.__dice3}\\n\"\n",
    "        descript += f\"骰子4={self.__dice4}\"\n",
    "        return descript\n",
    "\n",
    "def main():\n",
    "    p1 = Player(\"Robert\")\n",
    "    p2 = Player(\"John\")  \n",
    "    p1.roll_dice()\n",
    "    p2.roll_dice()\n",
    "    while p1.value == '得分=0':\n",
    "        p1.roll_dice()\n",
    "    while p2.value == '得分=0':\n",
    "        p2.roll_dice()\n",
    "    print(p1)\n",
    "    print(p1.value)\n",
    "    print(p2)\n",
    "    print(p2.value)\n",
    "if __name__ == \"__main__\":\n",
    "    main()"
   ]
  }
 ],
 "metadata": {
  "kernelspec": {
   "display_name": ".venv",
   "language": "python",
   "name": "python3"
  },
  "language_info": {
   "codemirror_mode": {
    "name": "ipython",
    "version": 3
   },
   "file_extension": ".py",
   "mimetype": "text/x-python",
   "name": "python",
   "nbconvert_exporter": "python",
   "pygments_lexer": "ipython3",
   "version": "3.10.8"
  },
  "orig_nbformat": 4
 },
 "nbformat": 4,
 "nbformat_minor": 2
}
