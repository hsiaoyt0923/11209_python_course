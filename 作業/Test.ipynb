{
 "cells": [
  {
   "cell_type": "code",
   "execution_count": 12,
   "metadata": {},
   "outputs": [
    {
     "name": "stdout",
     "output_type": "stream",
     "text": [
      "[4, 1, 6, 3]\n",
      "0\n",
      "[4, 5, 3, 1]\n",
      "0\n",
      "[2, 1, 1, 6]\n",
      "8\n"
     ]
    }
   ],
   "source": [
    "import random\n",
    "def __play(self):\n",
    "    value = 0\n",
    "    while value == 0:\n",
    "        pair = 0\n",
    "        value_t = 0 \n",
    "        dice1 = random.randint(1,6)\n",
    "        dice2 = random.randint(1,6)\n",
    "        dice3 = random.randint(1,6)\n",
    "        dice4 = random.randint(1,6)\n",
    "        D = [dice1, dice2, dice3, dice4]\n",
    "        for x in range(3):\n",
    "            for j in range(x+1,4) :\n",
    "                if D[x] == D[j] :\n",
    "                    pair += 1\n",
    "                    value_t += D[x]\n",
    "        if pair == 1 :\n",
    "            value = sum(D)-value_t*2\n",
    "        elif  pair == 2:\n",
    "            value = max(D)*2\n",
    "        elif pair == 6:\n",
    "            value = D[0] + 12\n",
    "        else :\n",
    "            value = 0\n",
    "    return value"
   ]
  },
  {
   "cell_type": "code",
   "execution_count": null,
   "metadata": {},
   "outputs": [],
   "source": [
    "import random\n",
    "import statistics\n",
    "\n",
    "class Player:\n",
    "    def __init__(self, name):\n",
    "        self.__dice1 = 0\n",
    "        self.__dice2 = 0\n",
    "        self.__dice3 = 0\n",
    "        self.__dice4 = 0\n",
    "        self.name = name\n",
    "\n",
    "    def __play(self) -> int:\n",
    "        #Dice = [self.__dice1, self.__dice2, self.__dice3, self.__dice4]\n",
    "        Dice = [1,2,6,6]\n",
    "\n",
    "        if len(set(Dice)) == 1:\n",
    "            leopard={4:13,8:14,12:15,16:16,20:17,24:18}\n",
    "            Dice_sum=sum(Dice)\n",
    "            score=leopard.get(Dice_sum)\n",
    "        elif len(set(Dice)) == 4 or Dice.count(self.__dice1) == 3 or Dice.count(self.__dice2) == 3 or Dice.count(self.__dice3) == 3 or Dice.count(self.__dice4) == 3:\n",
    "            score = 0\n",
    "        else:\n",
    "            score = sum(Dice) - min(statistics.multimode(Dice)) * 2\n",
    "\n",
    "        return score\n",
    "\n",
    "    @property\n",
    "    def value(self) -> int:\n",
    "        return self.__play()\n",
    "\n",
    "    def roll_dice(self):\n",
    "        self.__dice1 = random.randint(1, 6)\n",
    "        self.__dice2 = random.randint(1, 6)\n",
    "        self.__dice3 = random.randint(1, 6)\n",
    "        self.__dice4 = random.randint(1, 6)\n",
    "\n",
    "    def __repr__(self) -> str:\n",
    "        descript = \"\"\n",
    "        descript += f\"{self.name}\\n\"\n",
    "        descript += f\"骰子1={self.__dice1}\\n\"\n",
    "        descript += f\"骰子2={self.__dice2}\\n\"\n",
    "        descript += f\"骰子3={self.__dice3}\\n\"\n",
    "        descript += f\"骰子4={self.__dice4}\\n\"\n",
    "        descript += f\"得分={self.value}分\"\n",
    "        return descript\n",
    "\n",
    "def main():\n",
    "    p1 = Player(\"Robert\")\n",
    "    p2 = Player(\"John\")\n",
    "    \n",
    "    p1.roll_dice()\n",
    "    p2.roll_dice()\n",
    "    \n",
    "    print(p1)\n",
    "    print(p2)\n",
    "\n",
    "\n",
    "if __name__ == \"__main__\":\n",
    "    main()"
   ]
  }
 ],
 "metadata": {
  "kernelspec": {
   "display_name": ".venv",
   "language": "python",
   "name": "python3"
  },
  "language_info": {
   "codemirror_mode": {
    "name": "ipython",
    "version": 3
   },
   "file_extension": ".py",
   "mimetype": "text/x-python",
   "name": "python",
   "nbconvert_exporter": "python",
   "pygments_lexer": "ipython3",
   "version": "3.10.8"
  },
  "orig_nbformat": 4
 },
 "nbformat": 4,
 "nbformat_minor": 2
}
