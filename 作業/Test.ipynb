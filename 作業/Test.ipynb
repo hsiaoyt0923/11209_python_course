{
 "cells": [
  {
   "cell_type": "code",
   "execution_count": null,
   "metadata": {},
   "outputs": [],
   "source": [
    "import random\n",
    "import statistics\n",
    "\n",
    "class Player:\n",
    "    def __init__(self, name):\n",
    "        self.__dice1 = 0\n",
    "        self.__dice2 = 0\n",
    "        self.__dice3 = 0\n",
    "        self.__dice4 = 0\n",
    "        self.name = name\n",
    "\n",
    "    def __play(self) -> int:\n",
    "        Dice = [self.__dice1, self.__dice2, self.__dice3, self.__dice4]\n",
    "        if len(set(Dice)) == 1:\n",
    "            leopard={4:13,8:14,12:15,16:16,20:17,24:18}\n",
    "            Dice_sum=sum(Dice)\n",
    "            score=leopard.get(Dice_sum)\n",
    "        elif len(set(Dice)) == 4:\n",
    "            score = 0\n",
    "        elif Dice.count(Dice[0]) or Dice.count(Dice[1]) or Dice.count(Dice[2]) or Dice.count(Dice[3]) == 3:\n",
    "            score = 0\n",
    "        else:\n",
    "            score = sum(Dice) - min(statistics.multimode(Dice)) * 2\n",
    "        \n",
    "        return score\n",
    "\n",
    "    @property\n",
    "    def value(self) -> int:\n",
    "        return self.__play()\n",
    "\n",
    "    def roll_dice(self):\n",
    "        self.__dice1 = random.randint(1, 6)\n",
    "        self.__dice2 = random.randint(1, 6)\n",
    "        self.__dice3 = random.randint(1, 6)\n",
    "        self.__dice4 = random.randint(1, 6)\n",
    "\n",
    "    def __repr__(self) -> str:\n",
    "        descript = \"\"\n",
    "        descript += f\"{self.name}\\n\"\n",
    "        descript += f\"骰子1={self.__dice1}\\n\"\n",
    "        descript += f\"骰子2={self.__dice2}\\n\"\n",
    "        descript += f\"骰子3={self.__dice3}\\n\"\n",
    "        descript += f\"骰子4={self.__dice4}\\n\"\n",
    "        descript += f\"得分={self.value}分\"\n",
    "        return descript\n",
    "\n",
    "def main():\n",
    "    p1 = Player(\"Robert\")\n",
    "    p2 = Player(\"John\")  \n",
    "    \n",
    "    p1.roll_dice()\n",
    "    p2.roll_dice()\n",
    "    \n",
    "    while p1.value == 0:\n",
    "        p1.roll_dice()\n",
    "    while p2.value == 0:\n",
    "        p2.roll_dice()\n",
    "    \n",
    "    print(p1)\n",
    "    print(p2)\n",
    "    \n",
    "\n",
    "if __name__ == \"__main__\":\n",
    "    main()"
   ]
  },
  {
   "cell_type": "code",
   "execution_count": 105,
   "metadata": {},
   "outputs": [
    {
     "name": "stdout",
     "output_type": "stream",
     "text": [
      "0\n"
     ]
    }
   ],
   "source": [
    "Dice = [5,3,3,3]\n",
    "if Dice.count(Dice[0]) or Dice.count(Dice[1]) or Dice.count(Dice[2]) or Dice.count(Dice[3]) == 3:\n",
    "    score = 0\n",
    "else:\n",
    "    score = sum(Dice) - min(statistics.multimode(Dice)) * 2\n",
    "print(score)"
   ]
  }
 ],
 "metadata": {
  "kernelspec": {
   "display_name": ".venv",
   "language": "python",
   "name": "python3"
  },
  "language_info": {
   "codemirror_mode": {
    "name": "ipython",
    "version": 3
   },
   "file_extension": ".py",
   "mimetype": "text/x-python",
   "name": "python",
   "nbconvert_exporter": "python",
   "pygments_lexer": "ipython3",
   "version": "3.10.8"
  },
  "orig_nbformat": 4
 },
 "nbformat": 4,
 "nbformat_minor": 2
}
