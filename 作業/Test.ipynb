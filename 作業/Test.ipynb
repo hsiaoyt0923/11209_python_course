{
 "cells": [
  {
   "cell_type": "code",
   "execution_count": 53,
   "metadata": {},
   "outputs": [
    {
     "name": "stdout",
     "output_type": "stream",
     "text": [
      "[6, 4, 4, 2]\n",
      "8點\n"
     ]
    }
   ],
   "source": [
    "import random\n",
    "N =[random.randint(1, 6) for _ in range(4)]\n",
    "double = triple = quad = None\n",
    "print(N)\n",
    "N2=sorted(N,reverse=True)\n",
    "for n in N2:\n",
    "    if N2.count(n) == 2:\n",
    "        double = n\n",
    "    if N2.count(n) == 3:\n",
    "        triple = n\n",
    "    if N2.count(n) == 4:\n",
    "        quad = n\n",
    "\n",
    "if quad is not None:\n",
    "    print(\"豹子\")\n",
    "elif triple is not None:\n",
    "    print(\"沒點\")\n",
    "elif double is not None:\n",
    "    other=[x for x in N2 if x!=double]\n",
    "    print(f\"{sum(other)}點\")\n",
    "else:\n",
    "    print(\"沒點\")"
   ]
  },
  {
   "cell_type": "code",
   "execution_count": 11,
   "metadata": {},
   "outputs": [
    {
     "name": "stdout",
     "output_type": "stream",
     "text": [
      "[3, 5]\n"
     ]
    }
   ],
   "source": [
    "double = 2\n",
    "S = [2,2,3,5]\n",
    "S2 = [x for x in S if x!=double]\n",
    "print(other)"
   ]
  }
 ],
 "metadata": {
  "kernelspec": {
   "display_name": ".venv",
   "language": "python",
   "name": "python3"
  },
  "language_info": {
   "codemirror_mode": {
    "name": "ipython",
    "version": 3
   },
   "file_extension": ".py",
   "mimetype": "text/x-python",
   "name": "python",
   "nbconvert_exporter": "python",
   "pygments_lexer": "ipython3",
   "version": "3.10.8"
  },
  "orig_nbformat": 4
 },
 "nbformat": 4,
 "nbformat_minor": 2
}
