{
 "cells": [
  {
   "cell_type": "code",
   "execution_count": 121,
   "metadata": {},
   "outputs": [
    {
     "name": "stdout",
     "output_type": "stream",
     "text": [
      "姓名:甲\n",
      "骰子一:2 骰子二:2 骰子三:3 骰子四:6\n",
      "[2, 2, 3, 6]\n",
      "得分:9\n",
      "\n",
      "姓名:乙\n",
      "骰子一:3 骰子二:4 骰子三:1 骰子四:4\n",
      "[1, 3, 4, 4]\n",
      "得分:4\n"
     ]
    }
   ],
   "source": [
    "import random\n",
    "\n",
    "class Player:\n",
    "#attribute\n",
    "    def __init__(self, name:str):\n",
    "        self.name = name\n",
    "#method\n",
    "    def __play(self):\n",
    "        score = ''\n",
    "        while score == '':   \n",
    "            dice1 = random.randint(1,6)\n",
    "            dice2 = random.randint(1,6)\n",
    "            dice3 = random.randint(1,6)\n",
    "            dice4 = random.randint(1,6) \n",
    "            D = sorted([dice1, dice2, dice3, dice4])\n",
    "            if (D[0] == D[1] == D[2] == D[3]):\n",
    "                if D[0] == 1:\n",
    "                    score = 13\n",
    "                if D[0] == 2:\n",
    "                    score = 14\n",
    "                if D[0] == 3:\n",
    "                    score = 15\n",
    "                if D[0] == 4:\n",
    "                    score = 16\n",
    "                if D[0] == 5:\n",
    "                    score = 17\n",
    "                if D[0] == 6:\n",
    "                    score = 18\n",
    "            elif (D[0] != D[1] != D[2] != D[3]):\n",
    "                score = ''\n",
    "            elif (D[0] == D[1] == D[2]) or (D[1] == D[2] == D[3]): \n",
    "                score = ''\n",
    "            else:\n",
    "                if D[0] == D[1]:\n",
    "                    score = D[2] + D[3]\n",
    "                elif D[1] == D[2]:\n",
    "                    score = D[0] + D[3]\n",
    "                elif D[2] == D[3]:\n",
    "                    score = D[0] + D[1] \n",
    "        \n",
    "        return f'骰子一:{dice1} 骰子二:{dice2} 骰子三:{dice3} 骰子四:{dice4}\\n{D}\\n得分:{score}'\n",
    "\n",
    "#property\n",
    "    @property\n",
    "    def value(self):\n",
    "        return self.__play()\n",
    "\n",
    "#被呼叫時傳出字串\n",
    "    def __repr__(self) -> str:\n",
    "        descript = f\"姓名:{self.name}\"\n",
    "        return descript\n",
    "\n",
    "p1 = Player('甲')\n",
    "print(p1)\n",
    "print(p1.value)\n",
    "\n",
    "print()\n",
    "\n",
    "p2 = Player('乙')\n",
    "print(p2)\n",
    "print(p2.value)"
   ]
  }
 ],
 "metadata": {
  "kernelspec": {
   "display_name": ".venv",
   "language": "python",
   "name": "python3"
  },
  "language_info": {
   "codemirror_mode": {
    "name": "ipython",
    "version": 3
   },
   "file_extension": ".py",
   "mimetype": "text/x-python",
   "name": "python",
   "nbconvert_exporter": "python",
   "pygments_lexer": "ipython3",
   "version": "3.10.8"
  },
  "orig_nbformat": 4
 },
 "nbformat": 4,
 "nbformat_minor": 2
}
