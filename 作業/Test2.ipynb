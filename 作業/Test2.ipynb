{
 "cells": [
  {
   "cell_type": "code",
   "execution_count": 72,
   "metadata": {},
   "outputs": [
    {
     "name": "stdout",
     "output_type": "stream",
     "text": [
      "姓名:甲\n",
      "骰子一:2 骰子二:6 骰子三:6 骰子四:2\n",
      "[2, 6, 6, 2]\n",
      "得分:12\n",
      "\n",
      "姓名:乙\n",
      "骰子一:6 骰子二:6 骰子三:2 骰子四:3\n",
      "[6, 6, 2, 3]\n",
      "得分:5\n"
     ]
    }
   ],
   "source": [
    "import random\n",
    "\n",
    "class Player:\n",
    "#attribute\n",
    "    def __init__(self, name:str):\n",
    "        self.name = name\n",
    "#method\n",
    "    def __play(self):\n",
    "        score = 0\n",
    "        while score == 0:\n",
    "            pair = 0\n",
    "            score_t = 0 \n",
    "            dice1 = random.randint(1,6)\n",
    "            dice2 = random.randint(1,6)\n",
    "            dice3 = random.randint(1,6)\n",
    "            dice4 = random.randint(1,6)\n",
    "            D = [dice1, dice2, dice3, dice4]\n",
    "            for x in range(3):\n",
    "                for j in range(x+1,4) :\n",
    "                    if D[x] == D[j] :\n",
    "                        pair += 1\n",
    "                        score_t += D[x]\n",
    "            if pair == 1 :\n",
    "                score = sum(D)-score_t*2\n",
    "            elif  pair == 2:\n",
    "                score = max(D)*2\n",
    "            elif pair == 6:\n",
    "                score = D[0] + 12\n",
    "            else :\n",
    "                score = 0        \n",
    "        return f'骰子一:{dice1} 骰子二:{dice2} 骰子三:{dice3} 骰子四:{dice4}\\n{D}\\n得分:{score}'\n",
    "\n",
    "#property\n",
    "    @property\n",
    "    def value(self):\n",
    "        return self.__play()\n",
    "\n",
    "#被呼叫時傳出字串\n",
    "    def __repr__(self) -> str:\n",
    "        descript = f\"姓名:{self.name}\"\n",
    "        return descript\n",
    "\n",
    "p1 = Player('甲')\n",
    "print(p1)\n",
    "print(p1.value)\n",
    "\n",
    "print()\n",
    "\n",
    "p2 = Player('乙')\n",
    "print(p2)\n",
    "print(p2.value)"
   ]
  },
  {
   "cell_type": "code",
   "execution_count": 63,
   "metadata": {},
   "outputs": [
    {
     "name": "stdout",
     "output_type": "stream",
     "text": [
      "[2, 3, 2, 3]\n",
      "2 5\n"
     ]
    }
   ],
   "source": [
    "pair = 0\n",
    "value_t = 0 \n",
    "\n",
    "dice1 = random.randint(1,6)\n",
    "dice2 = random.randint(1,6)\n",
    "dice3 = random.randint(1,6)\n",
    "dice4 = random.randint(1,6)\n",
    "D = [dice1, dice2, dice3, dice4]\n",
    "print(D)\n",
    "for x in range(3):\n",
    "    for j in range(x+1,4) :\n",
    "        if D[x] == D[j] :\n",
    "            pair += 1\n",
    "            value_t += D[x]\n",
    "print(pair,value_t)"
   ]
  }
 ],
 "metadata": {
  "kernelspec": {
   "display_name": ".venv",
   "language": "python",
   "name": "python3"
  },
  "language_info": {
   "codemirror_mode": {
    "name": "ipython",
    "version": 3
   },
   "file_extension": ".py",
   "mimetype": "text/x-python",
   "name": "python",
   "nbconvert_exporter": "python",
   "pygments_lexer": "ipython3",
   "version": "3.10.8"
  },
  "orig_nbformat": 4
 },
 "nbformat": 4,
 "nbformat_minor": 2
}
