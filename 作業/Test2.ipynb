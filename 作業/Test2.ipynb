{
 "cells": [
  {
   "cell_type": "code",
   "execution_count": null,
   "metadata": {},
   "outputs": [],
   "source": [
    "import random\n",
    "\n",
    "class Player:\n",
    "#attribute\n",
    "    def __init__(self, name:str):\n",
    "        self.name = name\n",
    "#method\n",
    "    def __play(self):\n",
    "        score = ''\n",
    "        while score == '':   \n",
    "            dice1 = random.randint(1,6)\n",
    "            dice2 = random.randint(1,6)\n",
    "            dice3 = random.randint(1,6)\n",
    "            dice4 = random.randint(1,6) \n",
    "            D = sorted([dice1, dice2, dice3, dice4])\n",
    "            if (D[0] == D[1] == D[2] == D[3]):\n",
    "                score = D[0] + 12\n",
    "            elif (D[0] != D[1] != D[2] != D[3]):\n",
    "                score = ''\n",
    "            elif (D[0] == D[1] == D[2]) or (D[1] == D[2] == D[3]): \n",
    "                score = ''\n",
    "            else:\n",
    "                if D[0] == D[1]:\n",
    "                    score = D[2] + D[3]\n",
    "                elif D[1] == D[2]:\n",
    "                    score = D[0] + D[3]\n",
    "                elif D[2] == D[3]:\n",
    "                    score = D[0] + D[1] \n",
    "        \n",
    "        return f'骰子一:{dice1} 骰子二:{dice2} 骰子三:{dice3} 骰子四:{dice4}\\n{D}\\n得分:{score}'\n",
    "\n",
    "#property\n",
    "    @property\n",
    "    def value(self):\n",
    "        return self.__play()\n",
    "\n",
    "#被呼叫時傳出字串\n",
    "    def __repr__(self) -> str:\n",
    "        descript = f\"姓名:{self.name}\"\n",
    "        return descript\n",
    "\n",
    "p1 = Player('甲')\n",
    "print(p1)\n",
    "print(p1.value)\n",
    "\n",
    "print()\n",
    "\n",
    "p2 = Player('乙')\n",
    "print(p2)\n",
    "print(p2.value)"
   ]
  },
  {
   "cell_type": "code",
   "execution_count": null,
   "metadata": {},
   "outputs": [],
   "source": [
    "#for i in 'Hello':\n",
    "for i in 'Hello':\n",
    "    print('Hello')"
   ]
  },
  {
   "cell_type": "code",
   "execution_count": null,
   "metadata": {},
   "outputs": [],
   "source": [
    "#return + 函式 -> X\n",
    "#return + (int , float , str , bool) -> O\n",
    "def TEST():\n",
    "    return False\n",
    "\n",
    "TEST()"
   ]
  },
  {
   "cell_type": "code",
   "execution_count": 102,
   "metadata": {},
   "outputs": [],
   "source": [
    "#對attribute使用迴圈 -> X\n",
    "import random\n",
    "class Dice:\n",
    "    def __init__(self):\n",
    "        self.a = random.randint(1,6)\n",
    "        self.b = random.randint(1,6)\n",
    "        self.c = random.randint(1,6)\n",
    "        self.d = random.randint(1,6)"
   ]
  },
  {
   "cell_type": "code",
   "execution_count": 117,
   "metadata": {},
   "outputs": [
    {
     "name": "stdout",
     "output_type": "stream",
     "text": [
      "6 6 2 1\n"
     ]
    }
   ],
   "source": [
    "d1 = Dice()\n",
    "print(d1.a,d1.b,d1.c,d1.d)"
   ]
  }
 ],
 "metadata": {
  "kernelspec": {
   "display_name": ".venv",
   "language": "python",
   "name": "python3"
  },
  "language_info": {
   "codemirror_mode": {
    "name": "ipython",
    "version": 3
   },
   "file_extension": ".py",
   "mimetype": "text/x-python",
   "name": "python",
   "nbconvert_exporter": "python",
   "pygments_lexer": "ipython3",
   "version": "3.10.8"
  },
  "orig_nbformat": 4
 },
 "nbformat": 4,
 "nbformat_minor": 2
}
