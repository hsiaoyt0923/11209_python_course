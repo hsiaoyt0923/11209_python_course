{
 "cells": [
  {
   "cell_type": "code",
   "execution_count": 6,
   "metadata": {},
   "outputs": [
    {
     "name": "stdout",
     "output_type": "stream",
     "text": [
      "56\n",
      "偶數\n"
     ]
    }
   ],
   "source": [
    "#奇偶數辨別（Odd or even）\n",
    "n = int(input('輸入一個數字:(介於1~1000)'))\n",
    "print(n)\n",
    "if n % 2 == 0:\n",
    "    print('偶數')\n",
    "else:\n",
    "    print('奇數')"
   ]
  },
  {
   "cell_type": "code",
   "execution_count": null,
   "metadata": {},
   "outputs": [],
   "source": [
    "#填字遊戲（Mad libs game）\n",
    "noun = input('Please enter a noun')\n",
    "noun2 = input('Please enter another noun')\n",
    "verb = input('Please enter a verb')\n",
    "verb2 = input('Please enter another verb')\n",
    "adj = input('Please enter an adjective')\n",
    "adj2 = input('Please enter another adjective')\n",
    "adv = input('Please enter an adverb')\n",
    "adv2 = input('Please enter another adverb')\n",
    "\n",
    "print(f'A:{noun}, {noun}, {noun}.')\n",
    "print(f'B:What are you doing?')\n",
    "print(f'A:{verb}, {verb}, {verb}.')\n",
    "print(f'B:{verb} {noun}? That\\'s insane.')\n",
    "print(f'A:{adv} {adj}!')\n",
    "print(f'B:{adv}? {adj}? {noun}? I\\'m really confused.')\n",
    "print(f'A:It\\'s just a game. Don\\'t think too much.')\n",
    "print(f'A:{noun} {verb} {noun2} {adv}. How do you think about it?')\n",
    "print(f'B:It\\'s just like {noun2} {verb2} {noun} {adv2}. That does not make sense to me.')\n",
    "print(f'A:{adj2}! You got it!')\n",
    "print(f'B:{noun2}, {noun2}, {noun2}.')\n",
    "print(f'A:{verb2}, {verb2}, {verb2}.')\n",
    "print(f'A&B:{noun2} {verb2} {adv2}.')\n",
    "print(f'B:{adv2} {adj2}!')\n",
    "print(f'A:See? Not so hard.')\n",
    "print(f'B:I see your point.')\n",
    "print(f'A:May {noun} {verb} you.')\n",
    "print(f'B:{adv}.')\n",
    "print(f'A:{adv2}.')\n",
    "print('B:Thank you! It was a lot of fun!')\n",
    "print('A:You are welcome!')"
   ]
  },
  {
   "cell_type": "code",
   "execution_count": null,
   "metadata": {},
   "outputs": [],
   "source": []
  }
 ],
 "metadata": {
  "kernelspec": {
   "display_name": ".venv",
   "language": "python",
   "name": "python3"
  },
  "language_info": {
   "codemirror_mode": {
    "name": "ipython",
    "version": 3
   },
   "file_extension": ".py",
   "mimetype": "text/x-python",
   "name": "python",
   "nbconvert_exporter": "python",
   "pygments_lexer": "ipython3",
   "version": "3.10.8"
  },
  "orig_nbformat": 4
 },
 "nbformat": 4,
 "nbformat_minor": 2
}
