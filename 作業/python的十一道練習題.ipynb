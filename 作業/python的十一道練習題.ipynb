{
 "cells": [
  {
   "cell_type": "code",
   "execution_count": 6,
   "metadata": {},
   "outputs": [
    {
     "name": "stdout",
     "output_type": "stream",
     "text": [
      "56\n",
      "偶數\n"
     ]
    }
   ],
   "source": [
    "#奇偶數辨別（Odd or even）\n",
    "n = int(input('輸入一個數字:(介於1~1000)'))\n",
    "print(n)\n",
    "if n % 2 == 0:\n",
    "    print('偶數')\n",
    "else:\n",
    "    print('奇數')"
   ]
  },
  {
   "cell_type": "code",
   "execution_count": null,
   "metadata": {},
   "outputs": [],
   "source": [
    "#填字遊戲（Mad libs game）\n",
    "noun = input('Please enter a noun')\n",
    "noun2 = input('Please enter another noun')\n",
    "verb = input('Please enter a verb')\n",
    "verb2 = input('Please enter another verb')\n",
    "adj = input('Please enter an adjective')\n",
    "adj2 = input('Please enter another adjective')\n",
    "adv = input('Please enter an adverb')\n",
    "\n",
    "print('Long time ago, a man named John lived by a river.')\n",
    "print(f'John loved {noun}, but his love made him in danger.')\n",
    "print(f'Another man named Sam loved {noun} as well. He decided to kill John so that he would be the only one to {noun}.')\n",
    "print(f'John had no idea what is going on under the water. His whole mind was captured by the {adv} {adj} {noun}.')\n",
    "print('And this is the day, Sam was ready just waiting for a chance.')\n",
    "print(f'John had seen Sam before, but had no interest in Sam.')\n",
    "print(f'Sam {verb} John. John was surprised.')\n",
    "print('Sam then took out his knife going to stab into John.')\n",
    "print(f'{noun2} knows it all, poor Jhon.')\n",
    "print(f'May the {noun2} make John {adj2} again.')\n",
    "print(f'{verb2} {verb2} {verb2}')"
   ]
  }
 ],
 "metadata": {
  "kernelspec": {
   "display_name": ".venv",
   "language": "python",
   "name": "python3"
  },
  "language_info": {
   "codemirror_mode": {
    "name": "ipython",
    "version": 3
   },
   "file_extension": ".py",
   "mimetype": "text/x-python",
   "name": "python",
   "nbconvert_exporter": "python",
   "pygments_lexer": "ipython3",
   "version": "3.10.8"
  },
  "orig_nbformat": 4
 },
 "nbformat": 4,
 "nbformat_minor": 2
}
