{
 "cells": [
  {
   "cell_type": "code",
   "execution_count": null,
   "metadata": {},
   "outputs": [],
   "source": [
    "# 操作範例 1:請動手操作，並留意輸出結果\n",
    "# 使用print()寫入\n",
    "text = '''python與中文\n",
    "1. 我們來試試看中文儲存能力。\n",
    "2. 許這個字會有編碼衝突風險。\n",
    "3. 犇這個字必須是utf8編碼才有。'''\n",
    "\n",
    "# print(text)\n",
    "print(text ,file=open('data.txt','w',encoding='utf-8'))"
   ]
  },
  {
   "cell_type": "code",
   "execution_count": null,
   "metadata": {},
   "outputs": [],
   "source": [
    "# 操作範例 1:請動手操作，並留意輸出結果\n",
    "# 使用檔案實體方法write()寫入檔案\n",
    "text = '''python與中文\n",
    "1. 我們來試試看中文儲存能力。\n",
    "2. 許這個字會有編碼衝突風險。\n",
    "3. 犇這個字必須是utf8編碼才有。'''\n",
    "file = open('sample1.txt','w',encoding='utf-8')\n",
    "file.write(text)\n",
    "file.close()"
   ]
  },
  {
   "cell_type": "code",
   "execution_count": null,
   "metadata": {},
   "outputs": [],
   "source": [
    "# 操作範例 2:請動手操作，並留意輸出結果\n",
    "#建立50位學生,每位學生5個分數\n",
    "# write()\n",
    "\n",
    "\n",
    "import random\n",
    "\n",
    "students = []\n",
    "for _ in range(50):\n",
    "    scores = [] #建立一個0元素的list\n",
    "    for _ in range(5):\n",
    "        scores += [random.randint(50,100)]\n",
    "    students.append(scores)\n",
    "\n",
    "file = open('students.txt','w',encoding='utf-8')\n",
    "file.write(str(students))\n",
    "file.close()"
   ]
  },
  {
   "cell_type": "code",
   "execution_count": null,
   "metadata": {},
   "outputs": [],
   "source": [
    "file = open('data.txt', 'r', encoding='UTF-8')\n",
    "content2 = file.read(10)\n",
    "print(content2)\n",
    "file.close()"
   ]
  },
  {
   "cell_type": "code",
   "execution_count": null,
   "metadata": {},
   "outputs": [],
   "source": [
    "f=open('data.txt', 'r', encoding='UTF-8') \n",
    "result = list( )\n",
    "for line in f.readlines( ):\n",
    "    line = line.strip( )\n",
    "    print(line)\n",
    "    if not len(line) or line.startswith('#'):\n",
    "        continue \n",
    "    result.append(line)\n",
    "f.close()\n",
    "result.sort( )\n",
    "print(result)\n",
    "open('result-readlines.txt', 'w', encoding='UTF-8').write('%s' % '\\n'.join(result))"
   ]
  },
  {
   "cell_type": "code",
   "execution_count": null,
   "metadata": {},
   "outputs": [],
   "source": [
    "#csv寫入檔案\n",
    "import csv\n",
    "'''\n",
    "編號, 國文, 英文, 數學, 自然, 社會\n",
    "01, 87, 90, 56, 87, 89\n",
    "02, 98, 56, 78, 90, 49\n",
    "'''\n",
    "with open('students.csv','w', newline='', encoding='UTF-8') as file:\n",
    "    csvWriter = csv.writer(file)\n",
    "    csvWriter.writerow(['編號', '國文', '英文', '數學', '自然', '社會'])\n",
    "    csvWriter.writerow(['01', 87, 90, 56, 87, 89])\n",
    "    csvWriter.writerow(['02', 98, 56, 78, 90, 49])\n",
    "print(\"程式結束\")"
   ]
  },
  {
   "cell_type": "code",
   "execution_count": null,
   "metadata": {},
   "outputs": [],
   "source": [
    "#csv寫人檔案\n",
    "#建立50位學生,每位學生5個分數\n",
    "import random\n",
    "import csv\n",
    "\n",
    "with open('students.csv','w', newline='', encoding='UTF-8') as file:\n",
    "    csvWriter = csv.writer(file)\n",
    "    csvWriter.writerow(['編號', '國文', '英文', '數學', '自然', '社會'])\n",
    "    for i in range(50):\n",
    "        scores = [str(i+1)] #建立一個1元素的list\n",
    "        for _ in range(5):\n",
    "            scores += [random.randint(50,100)]\n",
    "        csvWriter.writerow(scores)\n",
    "print(\"程式結束\")"
   ]
  },
  {
   "cell_type": "code",
   "execution_count": null,
   "metadata": {},
   "outputs": [],
   "source": [
    "# 我們使用 csv.reader 讀取出來的 rows 會是一個二維的 list\n",
    "# 裡面就是整張表格的資料，這裡我們把每一列的 list 直接輸出，執行後會像這樣：\n",
    "import csv\n",
    "with open('students.csv', 'r', encoding='UTF-8') as file:\n",
    "    rows = csv.reader(file)  # rows是一個generator\n",
    "    # print(rows.__class__)\n",
    "\n",
    "    # for row in rows:\n",
    "    #   print(row.__class__) #取出的是list物件\n",
    "    studentsList = list(rows)\n",
    "    print(studentsList)"
   ]
  },
  {
   "cell_type": "code",
   "execution_count": null,
   "metadata": {},
   "outputs": [],
   "source": [
    "# 讀取CSV\n",
    "import csv\n",
    "with open('students.csv', 'r', encoding='UTF-8') as file:\n",
    "    csvReader = csv.reader(file)  # csvReader是一個generator\n",
    "    print(csvReader.__class__)\n",
    "\n",
    "    # for row in csvReader:\n",
    "    #     print(csvReader.__class__)  # 取出的是list物件\n",
    "    # studentsList = list(csvReader)\n",
    "    print(studentsList)\n",
    "    studentsList.pop(0)\n",
    "    print(studentsList)\n",
    "    print(len(studentsList))\n",
    "    #list(map(int, ['1','2','3'])) #map的使用方法\n",
    "    for index in range(len(studentsList)):\n",
    "        student = studentsList[index]\n",
    "        student = list(map(int, student))\n",
    "        studentsList[index] = student\n",
    "print(studentsList)\n",
    "studentIndex = int(input('請輸入學生編號(1-50):'))\n",
    "for student in studentsList:\n",
    "    if studentIndex == student[0]:\n",
    "        print(student)\n",
    "        break\n",
    "print(\"程式結束\")"
   ]
  },
  {
   "cell_type": "code",
   "execution_count": null,
   "metadata": {},
   "outputs": [],
   "source": [
    "# 讀取CSV\n",
    "import csv\n",
    "with open('students.csv', 'r', encoding='UTF-8') as file:\n",
    "    csvReader = csv.reader(file)  # csvReader是一個generator\n",
    "    studentsList = list(csvReader)\n",
    "    # print(studentsList)\n",
    "    studentsList.pop(0)\n",
    "    # print(studentsList)\n",
    "    for index in range(len(studentsList)):\n",
    "        student = studentsList[index]\n",
    "        student.pop(0)\n",
    "        studentsList[index] = student\n",
    "studentDic = dict(zip([x for x in range(1, 51)], studentsList))\n",
    "print(studentDic)\n",
    "studentIndex = int(input('請輸入學生編號(1-50):'))\n",
    "print(studentDic[studentIndex])\n",
    "print(\"程式結束\")"
   ]
  },
  {
   "cell_type": "code",
   "execution_count": null,
   "metadata": {},
   "outputs": [],
   "source": [
    "#請讀入資料集內的(各鄉鎮市區人口密度.csv)\n",
    "#將資料轉為2維的list=>[[],[],[]]\n",
    "\n",
    "import csv\n",
    "poplist = list()\n",
    "with open('各鄉鎮市區人口密度.csv','r',encoding='UTF-8') as f:\n",
    "    csvReader = csv.reader(f)\n",
    "    for row in csvReader:\n",
    "        poplist.append(row)\n",
    "poplist"
   ]
  },
  {
   "cell_type": "code",
   "execution_count": 28,
   "metadata": {},
   "outputs": [
    {
     "name": "stdout",
     "output_type": "stream",
     "text": [
      "False\n"
     ]
    }
   ],
   "source": [
    "import csv\n",
    "poplist = list()\n",
    "f = open('各鄉鎮市區人口密度.csv','r',encoding='UTF-8')\n",
    "next(f)\n",
    "reader = csv.DictReader(f)\n",
    "data=[{'統計年':row['統計年'],'區域別':row['區域別'],'年底人口數':row['年底人口數'],'土地面積':row['土地面積'],'人口密度':row['人口密度']} for row in reader]\n",
    "for item in data:\n",
    "    if '新北市' in item['區域別']:\n",
    "        poplist.append(item)\n",
    "poplist"
   ]
  }
 ],
 "metadata": {
  "kernelspec": {
   "display_name": ".venv",
   "language": "python",
   "name": "python3"
  },
  "language_info": {
   "codemirror_mode": {
    "name": "ipython",
    "version": 3
   },
   "file_extension": ".py",
   "mimetype": "text/x-python",
   "name": "python",
   "nbconvert_exporter": "python",
   "pygments_lexer": "ipython3",
   "version": "3.10.8"
  },
  "orig_nbformat": 4
 },
 "nbformat": 4,
 "nbformat_minor": 2
}
