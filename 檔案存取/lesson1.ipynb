{
 "cells": [
  {
   "cell_type": "code",
   "execution_count": 12,
   "metadata": {},
   "outputs": [],
   "source": [
    "# 操作範例 1:請動手操作，並留意輸出結果\n",
    "# 使用print()寫入\n",
    "text = '''python與中文\n",
    "1. 我們來試試看中文儲存能力。\n",
    "2. 許這個字會有編碼衝突風險。\n",
    "3. 犇這個字必須是utf8編碼才有。'''\n",
    "\n",
    "print(text, file = open('text.txt','w',encoding='utf-8'))  #不要忘了file = open(...)"
   ]
  },
  {
   "cell_type": "code",
   "execution_count": 13,
   "metadata": {},
   "outputs": [],
   "source": [
    "# 操作範例 1:請動手操作，並留意輸出結果\n",
    "# 使用檔案實體方法write()寫入檔案\n",
    "text = '''\n",
    "python與中文\n",
    "1. 我們來試試看中文儲存能力。\n",
    "2. 許這個字會有編碼衝突風險。\n",
    "3. 犇這個字必須是utf8編碼才有。\n",
    "'''\n",
    "file = open('sample.txt','w',encoding='utf-8')\n",
    "file.write(text)\n",
    "file.close()"
   ]
  },
  {
   "cell_type": "code",
   "execution_count": null,
   "metadata": {},
   "outputs": [],
   "source": [
    "# 操作範例 2:請動手操作，並留意輸出結果\n",
    "#建立50位學生,每位學生5個分數\n",
    "# write()\n",
    "\n",
    "import random\n",
    "\n",
    "students = []\n",
    "for _ in range(50):\n",
    "    scores = [] #建立一個0元素的list\n",
    "    for _ in range(5):\n",
    "        scores += [random.randint(50,100)]\n",
    "    students.append(scores)\n",
    "file = open('students.txt','w',encoding='utf-8')\n",
    "file.write(str(students))\n",
    "file.close()\n"
   ]
  }
 ],
 "metadata": {
  "kernelspec": {
   "display_name": ".venv",
   "language": "python",
   "name": "python3"
  },
  "language_info": {
   "codemirror_mode": {
    "name": "ipython",
    "version": 3
   },
   "file_extension": ".py",
   "mimetype": "text/x-python",
   "name": "python",
   "nbconvert_exporter": "python",
   "pygments_lexer": "ipython3",
   "version": "3.10.8"
  }
 },
 "nbformat": 4,
 "nbformat_minor": 2
}
