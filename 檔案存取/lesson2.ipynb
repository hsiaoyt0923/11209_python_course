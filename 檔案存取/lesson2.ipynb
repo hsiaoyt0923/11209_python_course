{
 "cells": [
  {
   "cell_type": "code",
   "execution_count": null,
   "metadata": {},
   "outputs": [],
   "source": [
    "# file.read()\n",
    "# read([size]) 方法從文件當前位置起讀取 size 個字元數量，若無參數，則代表讀取至文件結束為止。\n",
    "# 中文、英數與換行都是一格。\n",
    "\n",
    "file = open('text.txt', 'r', encoding='UTF-8') \n",
    "content = file.read()\n",
    "print(content)\n",
    "# file.close( )\n",
    "print(\"-------------\")\n",
    "content2 = file.read(5)  #file已經讀到底了，後面沒有了\n",
    "print(content2)\n",
    "file.close( )"
   ]
  },
  {
   "cell_type": "code",
   "execution_count": 14,
   "metadata": {},
   "outputs": [
    {
     "name": "stdout",
     "output_type": "stream",
     "text": [
      "['python與中文', '1. 我們來試試看中文儲存能力。', '2. 許這個字會有編碼衝突風險。', '3. 犇這個字必須是utf8編碼才有。']\n"
     ]
    }
   ],
   "source": [
    "# readline()   讀一行\n",
    "# readlines()  讀完\n",
    "\n",
    "result = list()\n",
    "with open ('text.txt','r',encoding='utf-8') as file:\n",
    "    for line in file.readlines():\n",
    "        line = line.strip()\n",
    "        result.append(line)\n",
    "print(result)\n",
    "# open('result-readlines.txt', 'w', encoding='UTF-8').write('\\n'.join(result))"
   ]
  }
 ],
 "metadata": {
  "kernelspec": {
   "display_name": ".venv",
   "language": "python",
   "name": "python3"
  },
  "language_info": {
   "codemirror_mode": {
    "name": "ipython",
    "version": 3
   },
   "file_extension": ".py",
   "mimetype": "text/x-python",
   "name": "python",
   "nbconvert_exporter": "python",
   "pygments_lexer": "ipython3",
   "version": "3.10.8"
  }
 },
 "nbformat": 4,
 "nbformat_minor": 2
}
