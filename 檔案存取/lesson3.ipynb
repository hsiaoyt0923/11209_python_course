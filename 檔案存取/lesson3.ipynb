{
 "cells": [
  {
   "cell_type": "code",
   "execution_count": null,
   "metadata": {},
   "outputs": [],
   "source": [
    "import csv\n",
    "'''\n",
    "編號, 國文, 英文, 數學, 自然, 社會\n",
    "01, 87, 90, 56, 87, 89\n",
    "02, 98, 56, 78, 90, 49\n",
    "'''\n",
    "with open('students.csv','w',encoding='utf-8',newline='') as file:\n",
    "    csvWriter = csv.writer(file)\n",
    "    csvWriter.writerow(['編號', '國文', '英文', '數學', '自然', '社會'])\n",
    "    csvWriter.writerow(['01', 87, 90, 56, 87, 89])\n",
    "    csvWriter.writerow(['02', 98, 56, 78, 90, 49])\n",
    "print('程式結束')"
   ]
  },
  {
   "cell_type": "code",
   "execution_count": null,
   "metadata": {},
   "outputs": [],
   "source": [
    "import random\n",
    "import csv\n",
    "\n",
    "with open('students.csv','w',encoding='utf-8',newline='') as file:\n",
    "    csvWriter = csv.writer(file)\n",
    "    csvWriter.writerow(['編號', '國文', '英文', '數學', '自然', '社會'])\n",
    "    for i in range(50):\n",
    "        scores = [str(i+1)]\n",
    "        for _ in range(5):\n",
    "            scores += [random.randint(50,100)]\n",
    "        csvWriter.writerow(scores)\n",
    "print('程式結束')"
   ]
  }
 ],
 "metadata": {
  "kernelspec": {
   "display_name": ".venv",
   "language": "python",
   "name": "python3"
  },
  "language_info": {
   "codemirror_mode": {
    "name": "ipython",
    "version": 3
   },
   "file_extension": ".py",
   "mimetype": "text/x-python",
   "name": "python",
   "nbconvert_exporter": "python",
   "pygments_lexer": "ipython3",
   "version": "3.10.8"
  }
 },
 "nbformat": 4,
 "nbformat_minor": 2
}
