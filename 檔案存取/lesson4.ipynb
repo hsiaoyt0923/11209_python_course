{
 "cells": [
  {
   "cell_type": "code",
   "execution_count": null,
   "metadata": {},
   "outputs": [],
   "source": [
    "# 讀取CSV檔\n",
    "import csv\n",
    "\n",
    "with open('students.csv','r',encoding='utf-8') as file:\n",
    "    csvReader = csv.reader(file)\n",
    "    # for row in csvReader:\n",
    "    #     print(row.__class__) #取出的是list物件\n",
    "    studentsList = list(csvReader)\n",
    "    print(studentsList)"
   ]
  },
  {
   "cell_type": "code",
   "execution_count": null,
   "metadata": {},
   "outputs": [],
   "source": [
    "import csv\n",
    "\n",
    "with open('students.csv','r',encoding='utf-8') as file:\n",
    "    csvReader = csv.reader(file)\n",
    "    studentsList = list(csvReader)\n",
    "    studentsList.pop(0)\n",
    "    for index in range(len(studentsList)):\n",
    "        student = studentsList[index]\n",
    "        student = list(map(int,student))\n",
    "        studentsList[index] = student\n",
    "stdindex = int(input('請輸入學生編號'))\n",
    "for scores in studentsList:\n",
    "    if stdindex == scores[0]:\n",
    "        print(scores)\n",
    "        break\n",
    "print('程式結束')"
   ]
  },
  {
   "cell_type": "code",
   "execution_count": 18,
   "metadata": {},
   "outputs": [
    {
     "name": "stdout",
     "output_type": "stream",
     "text": [
      "['57', '96', '64', '61', '61']\n",
      "程式結束\n"
     ]
    }
   ],
   "source": [
    "import csv\n",
    "\n",
    "with open('students.csv','r',encoding='utf-8') as file:\n",
    "    csvReader = csv.reader(file)\n",
    "    studentsList = list(csvReader)\n",
    "    studentsList.pop(0)\n",
    "    for index in range(len(studentsList)):\n",
    "        student = studentsList[index]\n",
    "        student.pop(0)\n",
    "        studentsList[index] = student\n",
    "scores = dict(zip([x for x in range(1,51)],studentsList))   #dict(zip([list],[list])\n",
    "stdindex = int(input('請輸入學生編號'))\n",
    "print(scores.get(stdindex))\n",
    "print('程式結束')"
   ]
  }
 ],
 "metadata": {
  "kernelspec": {
   "display_name": ".venv",
   "language": "python",
   "name": "python3"
  },
  "language_info": {
   "codemirror_mode": {
    "name": "ipython",
    "version": 3
   },
   "file_extension": ".py",
   "mimetype": "text/x-python",
   "name": "python",
   "nbconvert_exporter": "python",
   "pygments_lexer": "ipython3",
   "version": "3.10.8"
  }
 },
 "nbformat": 4,
 "nbformat_minor": 2
}
