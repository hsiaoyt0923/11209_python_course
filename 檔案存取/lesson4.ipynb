{
 "cells": [
  {
   "cell_type": "code",
   "execution_count": null,
   "metadata": {},
   "outputs": [],
   "source": [
    "# 讀取CSV檔\n",
    "import csv\n",
    "\n",
    "with open('students.csv','r',encoding='utf-8') as file:\n",
    "    csvReader = csv.reader(file)\n",
    "    # for row in csvReader:\n",
    "    #     print(row.__class__) #取出的是list物件\n",
    "    studentsList = list(csvReader)\n",
    "    print(studentsList)"
   ]
  },
  {
   "cell_type": "code",
   "execution_count": null,
   "metadata": {},
   "outputs": [],
   "source": [
    "import csv\n",
    "\n",
    "with open('students.csv','r',encoding='utf-8') as file:\n",
    "    csvReader = csv.reader(file)\n",
    "    studentsList = list(csvReader)\n",
    "    studentsList.pop(0)\n",
    "    for index in range(len(studentsList)):\n",
    "        student = studentsList[index]\n",
    "        student = list(map(int,student))\n",
    "        studentsList[index] = student\n",
    "stdindex = int(input('請輸入學生編號'))\n",
    "for scores in studentsList:\n",
    "    if stdindex == scores[0]:\n",
    "        print(scores)\n",
    "        break\n",
    "print('程式結束')"
   ]
  },
  {
   "cell_type": "code",
   "execution_count": null,
   "metadata": {},
   "outputs": [],
   "source": [
    "import csv\n",
    "\n",
    "with open('students.csv','r',encoding='utf-8') as file:\n",
    "    csvReader = csv.reader(file)\n",
    "    studentsList = list(csvReader)\n",
    "    studentsList.pop(0)\n",
    "    for index in range(len(studentsList)):\n",
    "        student = studentsList[index]\n",
    "        student.pop(0)\n",
    "        studentsList[index] = student\n",
    "scores = dict(zip([x for x in range(1,51)],studentsList))   #dict(zip([list],[list])\n",
    "stdindex = int(input('請輸入學生編號'))\n",
    "print(scores.get(stdindex))\n",
    "print('程式結束')"
   ]
  },
  {
   "cell_type": "code",
   "execution_count": null,
   "metadata": {},
   "outputs": [],
   "source": [
    "#請讀入資料集內的(各鄉鎮市區人口密度.csv)\n",
    "#將資料轉為2維的list=>[[],[],[]]\n",
    "\n",
    "import csv\n",
    "file = open('各鄉鎮市區人口密度.csv','r',encoding='utf-8')\n",
    "csvReader = csv.reader(file)\n",
    "List = []\n",
    "for row in csvReader:\n",
    "    if row[0] == '106':\n",
    "        List.append(row)\n",
    "file.close()\n",
    "List"
   ]
  },
  {
   "cell_type": "code",
   "execution_count": null,
   "metadata": {},
   "outputs": [],
   "source": [
    "#將資料轉為2維的list=>[{},{},{}]\n",
    "\n",
    "import csv\n",
    "with open('各鄉鎮市區人口密度.csv','r',encoding='utf-8') as file:\n",
    "    List= []\n",
    "    next(file)                      #跳過一個元素\n",
    "    csvReader = csv.DictReader(file)\n",
    "    for row in csvReader:\n",
    "        if '新北市' in row['區域別']:\n",
    "            List.append(row)\n",
    "print(List)\n",
    "file = open('List.txt','w',encoding='utf-8')\n",
    "file.write(str(List))\n",
    "file.close()\n",
    "    "
   ]
  },
  {
   "cell_type": "code",
   "execution_count": null,
   "metadata": {},
   "outputs": [],
   "source": [
    "#請讀入資料集內的(各鄉鎮市區人口密度.csv)\n",
    "#將資料轉為2維的list=>[{},{},{}]\n",
    "import csv\n",
    "poplist = list()\n",
    "f = open('各鄉鎮市區人口密度.csv','r',encoding='UTF-8')\n",
    "next(f)\n",
    "reader = csv.DictReader(f)\n",
    "data=[{'統計年':row['統計年'],'區域別':row['區域別'],'年底人口數':row['年底人口數'],'土地面積':row['土地面積'],'人口密度':row['人口密度']} for row in reader]\n",
    "for item in data:\n",
    "    if '新北市' in item['區域別']:\n",
    "        poplist.append(item)\n",
    "f.close()\n",
    "print(poplist)\n",
    "with open('poplist.txt', 'w',encoding ='utf-8') as file:\n",
    "    file.write(str(poplist))"
   ]
  }
 ],
 "metadata": {
  "kernelspec": {
   "display_name": ".venv",
   "language": "python",
   "name": "python3"
  },
  "language_info": {
   "codemirror_mode": {
    "name": "ipython",
    "version": 3
   },
   "file_extension": ".py",
   "mimetype": "text/x-python",
   "name": "python",
   "nbconvert_exporter": "python",
   "pygments_lexer": "ipython3",
   "version": "3.10.8"
  }
 },
 "nbformat": 4,
 "nbformat_minor": 2
}
