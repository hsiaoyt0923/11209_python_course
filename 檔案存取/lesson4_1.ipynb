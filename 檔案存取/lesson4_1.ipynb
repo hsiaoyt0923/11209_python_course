{
 "cells": [
  {
   "cell_type": "code",
   "execution_count": 11,
   "metadata": {},
   "outputs": [
    {
     "data": {
      "text/plain": [
       "105246"
      ]
     },
     "execution_count": 11,
     "metadata": {},
     "output_type": "execute_result"
    }
   ],
   "source": [
    "import csv\n",
    "\n",
    "with open('個股日成交資訊.csv','r',encoding='utf-8') as file:\n",
    "    csvReader = csv.reader(file)\n",
    "    stock = list(csvReader)\n",
    "   \n",
    "f = open('stock.txt','w',encoding='utf-8')\n",
    "f.write(str(stock))"
   ]
  },
  {
   "cell_type": "code",
   "execution_count": null,
   "metadata": {},
   "outputs": [],
   "source": [
    "import csv\n",
    "with open('個股日成交資訊.csv','r',encoding='utf-8') as file:\n",
    "    stock2 = []\n",
    "    csvReader = csv.DictReader(file)\n",
    "    for row in csvReader:\n",
    "        stock2.append(row)\n",
    "print(stock2)"
   ]
  }
 ],
 "metadata": {
  "kernelspec": {
   "display_name": ".venv",
   "language": "python",
   "name": "python3"
  },
  "language_info": {
   "codemirror_mode": {
    "name": "ipython",
    "version": 3
   },
   "file_extension": ".py",
   "mimetype": "text/x-python",
   "name": "python",
   "nbconvert_exporter": "python",
   "pygments_lexer": "ipython3",
   "version": "3.10.8"
  }
 },
 "nbformat": 4,
 "nbformat_minor": 2
}
