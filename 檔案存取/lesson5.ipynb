{
 "cells": [
  {
   "cell_type": "code",
   "execution_count": 4,
   "metadata": {},
   "outputs": [
    {
     "name": "stdout",
     "output_type": "stream",
     "text": [
      "<class 'str'>\n",
      "<class 'bytes'>\n",
      "{\"python\": \"good\", \"gjun\": 100, \"python-class\": true, \"ICQ\": null}\n",
      "b'{\"python\": \"good\", \"gjun\": 100, \"python-class\": true, \"ICQ\": null}'\n"
     ]
    }
   ],
   "source": [
    "import json\n",
    "pyDic = {'python': 'good', 'gjun': 100, 'python-class':True,'ICQ': None}\n",
    "json2 = json.dumps(pyDic, ensure_ascii=False)\n",
    "print(type(json2))\n",
    "json3 = json2.encode('utf-8')\n",
    "print(type(json3))\n",
    "print(json2)\n",
    "print(json3)"
   ]
  },
  {
   "cell_type": "code",
   "execution_count": null,
   "metadata": {},
   "outputs": [],
   "source": [
    "#將dictionary轉成json的字串\n",
    "#使用json.dumps()\n",
    "import json\n",
    "codes = {'tw': 'Taiwan', 'jp': 'japan', 'hk': 'HongKong', 'us': '美國'}\n",
    "Jcodes = json.dumps(codes,ensure_ascii = False)\n",
    "print(Jcodes)\n",
    "Jcodes.__class__\n",
    "file = open('Jcodes.txt','w',encoding='utf8')\n",
    "file.write(Jcodes)\n",
    "file.close()"
   ]
  },
  {
   "cell_type": "code",
   "execution_count": 9,
   "metadata": {},
   "outputs": [],
   "source": [
    "#將dictionary直接轉成json檔案\n",
    "#使用json.dump()\n",
    "import json\n",
    "codes = {'tw': 'Taiwan', 'jp': 'japan', 'hk': 'HongKong', 'us': '美國'}\n",
    "with open('Jcodes2.json','w',encoding='utf8') as file:\n",
    "    json.dump(codes, file, ensure_ascii=False)"
   ]
  },
  {
   "cell_type": "code",
   "execution_count": 12,
   "metadata": {},
   "outputs": [],
   "source": [
    "import json\n",
    "data = {}\n",
    "data['people'] = []\n",
    "data['people'].append({'name': 'Scott','website': 'stackabuse.com','from': '內布拉斯州'})\n",
    "data['people'].append({'name': 'Larry', 'website': 'google.com', 'from': '密西根州'})\n",
    "\n",
    "#使用dump寫入json檔案,必需使用python的dictionary物件\n",
    "\n",
    "with open('data.json','w',encoding='utf8') as file:\n",
    "    json.dump(data,file,ensure_ascii=False)\n",
    "\n",
    "#使用write寫入使需使用的json字串格式\n",
    "json2 = json.dumps(data,ensure_ascii=False)\n",
    "with open('data2.json','w',encoding='utf8') as file:\n",
    "    file.write(json2)"
   ]
  },
  {
   "cell_type": "code",
   "execution_count": 15,
   "metadata": {},
   "outputs": [
    {
     "name": "stdout",
     "output_type": "stream",
     "text": [
      "json存檔成功\n"
     ]
    }
   ],
   "source": [
    "#建立50位學生,每位學生有5個分數\n",
    "#list內放dictionary\n",
    "import random\n",
    "students = []\n",
    "for i in range(50):\n",
    "    stuDict = {'學號':'stu'+str(i+1),\n",
    "               '國文':random.randint(50,100),\n",
    "               '英文':random.randint(50,100),\n",
    "               '數學':random.randint(50,100),\n",
    "               '自然':random.randint(50,100),\n",
    "               '社會':random.randint(50,100)}\n",
    "    students.append(stuDict)\n",
    "#儲存為json的檔案格式\n",
    "#使用json.dump()\n",
    "#json可以儲存複雜的python的資料結構\n",
    "with open('scores.json','w',encoding='utf8') as f:\n",
    "    json.dump(students, f, ensure_ascii=False)\n",
    "print('json存檔成功')"
   ]
  }
 ],
 "metadata": {
  "kernelspec": {
   "display_name": ".venv",
   "language": "python",
   "name": "python3"
  },
  "language_info": {
   "codemirror_mode": {
    "name": "ipython",
    "version": 3
   },
   "file_extension": ".py",
   "mimetype": "text/x-python",
   "name": "python",
   "nbconvert_exporter": "python",
   "pygments_lexer": "ipython3",
   "version": "3.10.8"
  }
 },
 "nbformat": 4,
 "nbformat_minor": 2
}
