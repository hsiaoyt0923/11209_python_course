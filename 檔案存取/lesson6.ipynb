{
 "cells": [
  {
   "cell_type": "code",
   "execution_count": null,
   "metadata": {},
   "outputs": [],
   "source": [
    "# 從 JSON 到 Python\n",
    "# 以 json.loads( ) 函數從 JSON 字串中取出資料轉入 Python。\n",
    "# 以 json.load( ) 函數從 JSON 檔案中取出資料轉入 Python。\n",
    "import json\n",
    "with open('scores.json','r',encoding='utf8') as file:\n",
    "    scores = json.load(file)\n",
    "print(scores)"
   ]
  },
  {
   "cell_type": "code",
   "execution_count": null,
   "metadata": {},
   "outputs": [],
   "source": [
    "#使用loads將json格式的字串傳成python的Dict\n",
    "\n",
    "import json\n",
    "json1 = '{\"python\": \"good\", \"gjun\": 100, \"python-class\": true, \"ICQ\": null}'\n",
    "json2 = json.loads(json1)\n",
    "json2\n"
   ]
  },
  {
   "cell_type": "code",
   "execution_count": null,
   "metadata": {},
   "outputs": [],
   "source": [
    "import json\n",
    "\n",
    "with open('data.json','r',encoding='utf8') as file:\n",
    "    data = json.load(file)\n",
    "    for dict in data['people']:\n",
    "        print(dict)\n"
   ]
  },
  {
   "cell_type": "code",
   "execution_count": null,
   "metadata": {},
   "outputs": [],
   "source": [
    "# 請處理(新北市公共自行車租賃系統.json)\n",
    "# google搜尋online json viewer\n",
    "import json\n",
    "with open('新北市公共自行車租賃系統.json','r',encoding='utf8') as file:\n",
    "    YoubikeRecord = json.load(file)\n",
    "    if YoubikeRecord['success']:\n",
    "        records = YoubikeRecord['result'][\"records\"]\n",
    "    else:\n",
    "        print('下載失敗')\n",
    "    for record in  records:\n",
    "        if '新店區' in record['sarea']:\n",
    "            print('區域:',record['sarea'])\n",
    "            print('站名:',record['sna'])\n",
    "            print('地址:',record['ar'])\n",
    "            print('可借:',record['sbi'])\n",
    "            print('可還:',record['bemp'])\n"
   ]
  }
 ],
 "metadata": {
  "kernelspec": {
   "display_name": ".venv",
   "language": "python",
   "name": "python3"
  },
  "language_info": {
   "codemirror_mode": {
    "name": "ipython",
    "version": 3
   },
   "file_extension": ".py",
   "mimetype": "text/x-python",
   "name": "python",
   "nbconvert_exporter": "python",
   "pygments_lexer": "ipython3",
   "version": "3.10.8"
  }
 },
 "nbformat": 4,
 "nbformat_minor": 2
}
