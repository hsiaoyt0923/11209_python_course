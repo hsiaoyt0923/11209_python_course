{
 "cells": [
  {
   "cell_type": "code",
   "execution_count": 10,
   "metadata": {},
   "outputs": [
    {
     "name": "stdout",
     "output_type": "stream",
     "text": [
      "下載成功\n",
      "下載完畢\n"
     ]
    }
   ],
   "source": [
    "import requests\n",
    "import csv\n",
    "\n",
    "def download_weather():\n",
    "    url = 'https://opendata.cwa.gov.tw/api/v1/rest/datastore/F-C0032-001?Authorization=CWA-F79A56F7-98F5-4F3B-BD9E-95C7F9ADD800&locationName=%E8%87%BA%E5%8C%97%E5%B8%82'\n",
    "\n",
    "    response = requests.get(url)\n",
    "    if response.status_code == 200:\n",
    "        print(\"下載成功\")\n",
    "        weather = response.json()\n",
    "        return weather\n",
    "    else:\n",
    "        print(\"下載失敗\")\n",
    "        return False\n",
    "\n",
    "def parse_json(w):\n",
    "    weather_list=[]\n",
    "    location = w['records']['location']\n",
    "    for item in location:\n",
    "        city_item = {}\n",
    "        city_item['城市'] = item['locationName']\n",
    "        city_item['啟始時間'] = item['weatherElement'][2]['time'][0]['startTime']\n",
    "        city_item['結束時間'] = item['weatherElement'][2]['time'][0]['endTime']\n",
    "        city_item['最高溫度'] = float(item['weatherElement'][4]['time'][0]['parameter']['parameterName'])\n",
    "        city_item['最低溫度'] = float(item['weatherElement'][2]['time'][0]['parameter']['parameterName'])\n",
    "        weather_list.append(city_item)\n",
    "    \n",
    "    return weather_list\n",
    "\n",
    "\n",
    "\n",
    "def save_csv(data):\n",
    "    with open('目前天氣.csv',mode='w',encoding='utf-8',newline='') as file:\n",
    "        fieldnames = ['城市','啟始時間','結束時間','最高溫度','最低溫度']\n",
    "        writer = csv.DictWriter(file,fieldnames=fieldnames)\n",
    "        writer.writeheader()\n",
    "        writer.writerows(data)\n",
    "\n",
    "def main():\n",
    "    #下載json檔\n",
    "    weather = download_weather()\n",
    "\n",
    "    if weather != False:\n",
    "        print(\"下載完畢\")\n",
    "    else:\n",
    "        print(\"應用程式下載失敗\")\n",
    "        return\n",
    "    \n",
    "    csv_data = parse_json(weather)\n",
    "    save_csv(csv_data)\n",
    "\n",
    "\n",
    "if __name__ == \"__main__\":\n",
    "    main()\n",
    "\n",
    "\n"
   ]
  }
 ],
 "metadata": {
  "kernelspec": {
   "display_name": ".venv",
   "language": "python",
   "name": "python3"
  },
  "language_info": {
   "codemirror_mode": {
    "name": "ipython",
    "version": 3
   },
   "file_extension": ".py",
   "mimetype": "text/x-python",
   "name": "python",
   "nbconvert_exporter": "python",
   "pygments_lexer": "ipython3",
   "version": "3.10.8"
  }
 },
 "nbformat": 4,
 "nbformat_minor": 2
}
